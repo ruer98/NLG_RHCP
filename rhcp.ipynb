{
 "cells": [
  {
   "cell_type": "markdown",
   "metadata": {},
   "source": [
    "# Intro\n",
    "---\n",
    "In this project, I generate fake lyrics for the Red Hot Chili Peppers using Keras and an LSTM RNN. Here is a quick read on this technique: https://towardsdatascience.com/recurrent-neural-networks-and-lstm-4b601dd822a5. I used BeautifulSoup to scrape Red Hot Chili Peppers lyrics from https://www.lyrics.com/ and the textgenrnn library for natural language generation."
   ]
  },
  {
   "cell_type": "markdown",
   "metadata": {},
   "source": [
    "## Imports"
   ]
  },
  {
   "cell_type": "code",
   "execution_count": 9,
   "metadata": {},
   "outputs": [],
   "source": [
    "import pandas as pd\n",
    "import numpy as np\n",
    "\n",
    "#for web scraping\n",
    "from bs4 import BeautifulSoup\n",
    "import requests\n",
    "\n",
    "#for natural language generation\n",
    "import sys\n",
    "from keras.models import Sequential\n",
    "from keras.layers import LSTM, Activation, Flatten, Dropout, Dense, \\\n",
    "                         Embedding, TimeDistributed, CuDNNLSTM\n",
    "from keras.callbacks import ModelCheckpoint\n",
    "from keras.utils import np_utils\n",
    "from textgenrnn import textgenrnn\n",
    "import os\n",
    "\n",
    "import warnings\n",
    "warnings.filterwarnings(\"ignore\")"
   ]
  },
  {
   "cell_type": "markdown",
   "metadata": {},
   "source": [
    "## Part 1: Web Scraping\n",
    "---"
   ]
  },
  {
   "cell_type": "code",
   "execution_count": 10,
   "metadata": {},
   "outputs": [],
   "source": [
    "url = 'https://www.lyrics.com/artist/Red%20Hot%20Chili%20Peppers'\n",
    "r = requests.get(url)\n",
    "soup = BeautifulSoup(markup = r.text, features = 'html.parser')"
   ]
  },
  {
   "cell_type": "markdown",
   "metadata": {},
   "source": [
    "My process for scraping lyrics.com was to play around with the website HTML and use inspect element to find what class certain features belonged to. For example, I clicked on the album cover and saw that albums were in an h3 class titled \"artist-album-label.\" I then scraped from these classes using BeautifulSoup:\n",
    "\n",
    "*step 1*\n",
    "![](images/album_select.png)\n",
    "\n",
    "*step 2*\n",
    "![](images/example_html.png)"
   ]
  },
  {
   "cell_type": "code",
   "execution_count": 11,
   "metadata": {},
   "outputs": [],
   "source": [
    "albums = soup.find_all('h3', {'class': 'artist-album-label'})"
   ]
  },
  {
   "cell_type": "code",
   "execution_count": 12,
   "metadata": {},
   "outputs": [
    {
     "name": "stdout",
     "output_type": "stream",
     "text": [
      "Uncensored\n",
      "The Red Hot Chili Peppers [1984]\n",
      "Freaky Styley [1985]\n",
      "Freaky Styley [Bonus Tracks] [1985]\n",
      "Freaky Styley [Japan Bonus Tracks] [1985]\n",
      "Hollywood (Africa) [1985]\n",
      "The Uplift Mofo Party Plan [1987]\n",
      "The Uplift Mofo Party Plan [1987]\n",
      "Uplift Mofo Party Plan [Japan Bonus Tracks] [1987]\n",
      "Mother's Milk [1989]\n"
     ]
    }
   ],
   "source": [
    "for i in albums[:10]:\n",
    "    print(i.text)"
   ]
  },
  {
   "cell_type": "code",
   "execution_count": 13,
   "metadata": {},
   "outputs": [],
   "source": [
    "songs = soup.find_all('td',{'class': 'tal qx'})"
   ]
  },
  {
   "cell_type": "code",
   "execution_count": 17,
   "metadata": {
    "scrolled": true
   },
   "outputs": [
    {
     "name": "stdout",
     "output_type": "stream",
     "text": [
      "Baby Appeal\n",
      " \n",
      "American Ghost Dance\n",
      "3:44\n",
      "Battle Ship\n",
      "1:53\n",
      "The Brothers Cup\n",
      "3:27\n",
      "Catholic School Girls Rule\n",
      "1:55\n",
      "Freaky Styley\n",
      "3:39\n",
      "Hollywood (Africa)\n",
      "5:03\n",
      "Jungle Man\n",
      "4:09\n",
      "Lovin' and Touchin'\n",
      ":36\n",
      "Sex Rap\n",
      "1:54\n"
     ]
    }
   ],
   "source": [
    "for i in songs[20:40]:\n",
    "    print(i.text)"
   ]
  },
  {
   "cell_type": "markdown",
   "metadata": {},
   "source": [
    "Every other entry was the song duration (with some songs missing this data), so I found I could separate the titles and durations using list splicing:"
   ]
  },
  {
   "cell_type": "code",
   "execution_count": 15,
   "metadata": {},
   "outputs": [
    {
     "name": "stdout",
     "output_type": "stream",
     "text": [
      "Blackeyed Blonde\n",
      "Buckle Down\n",
      "Green Heaven\n",
      "Mommy, Where's Daddy?\n",
      "Out in L.A.\n",
      "Police Helicopter\n",
      "Sex Rap [Anthony's Rap]\n",
      "Thirty Dirty Birds\n",
      "Yertle the Turtle\n",
      "You Always Sing the Same\n"
     ]
    }
   ],
   "source": [
    "#songs\n",
    "for i in songs[:20:2]:\n",
    "    print(i.text)"
   ]
  },
  {
   "cell_type": "code",
   "execution_count": 16,
   "metadata": {},
   "outputs": [
    {
     "name": "stdout",
     "output_type": "stream",
     "text": [
      " \n",
      "3:44\n",
      "1:53\n",
      "3:27\n",
      "1:55\n",
      "3:39\n",
      "5:03\n",
      "4:09\n",
      ":36\n",
      "1:54\n"
     ]
    }
   ],
   "source": [
    "#durations\n",
    "for i in songs[21:41:2]:\n",
    "    print(i.text)"
   ]
  },
  {
   "cell_type": "markdown",
   "metadata": {},
   "source": [
    "Each song also had an embedded hypertext reference to the lyrics page:"
   ]
  },
  {
   "cell_type": "code",
   "execution_count": 19,
   "metadata": {},
   "outputs": [
    {
     "data": {
      "text/plain": [
       "'/lyric/529874/Red+Hot+Chili+Peppers/Blackeyed+Blonde'"
      ]
     },
     "execution_count": 19,
     "metadata": {},
     "output_type": "execute_result"
    }
   ],
   "source": [
    "songs[0].a.attrs['href']"
   ]
  },
  {
   "cell_type": "markdown",
   "metadata": {},
   "source": [
    "I used all of this to create a dataframe with songs, time durations, and lyrics:"
   ]
  },
  {
   "cell_type": "code",
   "execution_count": 21,
   "metadata": {},
   "outputs": [],
   "source": [
    "sng = []\n",
    "tim = []\n",
    "lyr = []\n",
    "for i in songs[::2]:\n",
    "    sng.append(i.text)\n",
    "for i in songs[1::2]:\n",
    "    tim.append(i.text)\n",
    "\n",
    "base_url = 'https://www.lyrics.com/'\n",
    "for i in range(len(songs)):\n",
    "    #no link to lyrics\n",
    "    if songs[i].a is None:\n",
    "        pass\n",
    "    else:\n",
    "        lyr_url = base_url + songs[i].a.attrs['href']\n",
    "        r = requests.get(lyr_url)\n",
    "        soup = BeautifulSoup(r.text, 'html.parser')\n",
    "        lyrics = soup.find('pre', {'id': 'lyric-body-text'}).text\n",
    "        lyr.append(lyrics)\n",
    "        \n",
    "df = pd.DataFrame({'song': sng, 'time': tim, 'lyrics': lyr})"
   ]
  },
  {
   "cell_type": "code",
   "execution_count": 22,
   "metadata": {},
   "outputs": [
    {
     "data": {
      "text/html": [
       "<div>\n",
       "<style scoped>\n",
       "    .dataframe tbody tr th:only-of-type {\n",
       "        vertical-align: middle;\n",
       "    }\n",
       "\n",
       "    .dataframe tbody tr th {\n",
       "        vertical-align: top;\n",
       "    }\n",
       "\n",
       "    .dataframe thead th {\n",
       "        text-align: right;\n",
       "    }\n",
       "</style>\n",
       "<table border=\"1\" class=\"dataframe\">\n",
       "  <thead>\n",
       "    <tr style=\"text-align: right;\">\n",
       "      <th></th>\n",
       "      <th>song</th>\n",
       "      <th>time</th>\n",
       "      <th>lyrics</th>\n",
       "    </tr>\n",
       "  </thead>\n",
       "  <tbody>\n",
       "    <tr>\n",
       "      <th>0</th>\n",
       "      <td>Blackeyed Blonde</td>\n",
       "      <td></td>\n",
       "      <td>Pumpin' the blood through the heart of New Orl...</td>\n",
       "    </tr>\n",
       "    <tr>\n",
       "      <th>1</th>\n",
       "      <td>Buckle Down</td>\n",
       "      <td></td>\n",
       "      <td>Hah!\\r\\nOn the ice\\r\\nNo holdin'\\r\\nMy soul\\r\\...</td>\n",
       "    </tr>\n",
       "    <tr>\n",
       "      <th>2</th>\n",
       "      <td>Green Heaven</td>\n",
       "      <td></td>\n",
       "      <td>About this planet, there is something I know\\r...</td>\n",
       "    </tr>\n",
       "    <tr>\n",
       "      <th>3</th>\n",
       "      <td>Mommy, Where's Daddy?</td>\n",
       "      <td></td>\n",
       "      <td>Mommy, where's daddy?\\r\\nMommy, where's daddy?...</td>\n",
       "    </tr>\n",
       "    <tr>\n",
       "      <th>4</th>\n",
       "      <td>Out in L.A.</td>\n",
       "      <td></td>\n",
       "      <td>We're all a bunch of brothers livin' in a cool...</td>\n",
       "    </tr>\n",
       "  </tbody>\n",
       "</table>\n",
       "</div>"
      ],
      "text/plain": [
       "                    song time  \\\n",
       "0       Blackeyed Blonde        \n",
       "1            Buckle Down        \n",
       "2           Green Heaven        \n",
       "3  Mommy, Where's Daddy?        \n",
       "4            Out in L.A.        \n",
       "\n",
       "                                              lyrics  \n",
       "0  Pumpin' the blood through the heart of New Orl...  \n",
       "1  Hah!\\r\\nOn the ice\\r\\nNo holdin'\\r\\nMy soul\\r\\...  \n",
       "2  About this planet, there is something I know\\r...  \n",
       "3  Mommy, where's daddy?\\r\\nMommy, where's daddy?...  \n",
       "4  We're all a bunch of brothers livin' in a cool...  "
      ]
     },
     "execution_count": 22,
     "metadata": {},
     "output_type": "execute_result"
    }
   ],
   "source": [
    "df.head()"
   ]
  },
  {
   "cell_type": "markdown",
   "metadata": {},
   "source": [
    "## Part 2: Data Cleaning\n",
    "---"
   ]
  },
  {
   "cell_type": "code",
   "execution_count": 24,
   "metadata": {},
   "outputs": [
    {
     "data": {
      "text/plain": [
       "\"Pumpin' the blood through the heart of New Orleans\\r\\nShe's the mystic heat of the Bourbon street dream\\r\\nShe's just made out of flesh and bones\\r\\n\\r\\nBut let me tell you little boy\\r\\nYou better leave her alone\\r\\nLeroy Brown thought he was bad too\\r\\n'Till she left him floatin' in the old bayou\\r\\n\\r\\nShe's the kind of girl\\r\\nShe's built like a bomb\\r\\nShe's the blackeyed blackeyed\\r\\nBlackeyed blond, get down!\\r\\n\\r\\nThat blackeyed beauty with the golden crotch\\r\\nFrench electric sex a cock shocking swamp fox\\r\\nHeaten queen of sleeze she's hot to box\\r\\n\\r\\nBut let me tell you little boy\\r\\nShe'll clean your clock\\r\\nA slick and sly spy\\r\\nStuck in the muck of the moat\\r\\n\\r\\nBlew his mind to find a diamond in the boat\\r\\nDouble-o-dooms day for Mr. James Bond\\r\\nShe's the blackeyed blackeyed\\r\\nBlackeyed blond, Get down!\""
      ]
     },
     "execution_count": 24,
     "metadata": {},
     "output_type": "execute_result"
    }
   ],
   "source": [
    "df['lyrics'][0]"
   ]
  },
  {
   "cell_type": "markdown",
   "metadata": {},
   "source": [
    "Each new line was separated by '\\r\\n' which is the newline character in Windows, so I replaced these with spaces:"
   ]
  },
  {
   "cell_type": "code",
   "execution_count": 25,
   "metadata": {},
   "outputs": [],
   "source": [
    "def lyr_fixer(x):\n",
    "    fixed = ''\n",
    "    lyr_lst = x.split('\\r\\n')\n",
    "    for item in lyr_lst[:-1]:\n",
    "        fixed += item + ' '\n",
    "    fixed += lyr_lst[-1]\n",
    "    return fixed"
   ]
  },
  {
   "cell_type": "code",
   "execution_count": 26,
   "metadata": {},
   "outputs": [],
   "source": [
    "df['lyrics'] = df['lyrics'].apply(lyr_fixer)"
   ]
  },
  {
   "cell_type": "code",
   "execution_count": 27,
   "metadata": {},
   "outputs": [
    {
     "data": {
      "text/plain": [
       "\"Pumpin' the blood through the heart of New Orleans She's the mystic heat of the Bourbon street dream She's just made out of flesh and bones  But let me tell you little boy You better leave her alone Leroy Brown thought he was bad too 'Till she left him floatin' in the old bayou  She's the kind of girl She's built like a bomb She's the blackeyed blackeyed Blackeyed blond, get down!  That blackeyed beauty with the golden crotch French electric sex a cock shocking swamp fox Heaten queen of sleeze she's hot to box  But let me tell you little boy She'll clean your clock A slick and sly spy Stuck in the muck of the moat  Blew his mind to find a diamond in the boat Double-o-dooms day for Mr. James Bond She's the blackeyed blackeyed Blackeyed blond, Get down!\""
      ]
     },
     "execution_count": 27,
     "metadata": {},
     "output_type": "execute_result"
    }
   ],
   "source": [
    "df['lyrics'][0]"
   ]
  },
  {
   "cell_type": "markdown",
   "metadata": {},
   "source": [
    "All better. Now I save my lyrics in a text file so I can use it in the LSTM RNN model:"
   ]
  },
  {
   "cell_type": "code",
   "execution_count": 28,
   "metadata": {},
   "outputs": [],
   "source": [
    "lyrics = list(df['lyrics'])"
   ]
  },
  {
   "cell_type": "code",
   "execution_count": 29,
   "metadata": {},
   "outputs": [],
   "source": [
    "with open('lyrics_text.txt','w',encoding='utf-8') as filehandle:\n",
    "    for item in lyrics:\n",
    "        filehandle.write('%s\\n' % item)"
   ]
  },
  {
   "cell_type": "markdown",
   "metadata": {},
   "source": [
    "## Part 3: Model Building\n",
    "---\n",
    "I ran into computing power problems here, since I wanted to create a more complex neural network. This model has 50 nodes, 4 layers, and 20 epochs. It took around 3 hours to generate on my laptop:"
   ]
  },
  {
   "cell_type": "code",
   "execution_count": 2,
   "metadata": {},
   "outputs": [],
   "source": [
    "model_cfg = {\n",
    "    'rnn_size': 50,\n",
    "    'rnn_layers': 4,\n",
    "    'rnn_bidirectional': True,\n",
    "    'max_length': 15,\n",
    "    'max_words': 10000,\n",
    "    'dim_embeddings': 100,\n",
    "    'word_level': False,\n",
    "}\n",
    "train_cfg = {\n",
    "    'line_delimited': True,\n",
    "    'num_epochs': 20,\n",
    "    'gen_epochs': 25,\n",
    "    'batch_size': 750,\n",
    "    'train_size': 0.8,\n",
    "    'dropout': 0.0,\n",
    "    'max_gen_length': 300,\n",
    "    'validation': True,\n",
    "    'is_csv': False\n",
    "}"
   ]
  },
  {
   "cell_type": "code",
   "execution_count": 3,
   "metadata": {},
   "outputs": [
    {
     "name": "stdout",
     "output_type": "stream",
     "text": [
      "602 texts collected.\n",
      "Training new model w/ 4-layer, 50-cell Bidirectional LSTMs\n",
      "Training on 225,043 character sequences.\n",
      "Epoch 1/20\n",
      "300/300 [==============================] - ETA: 50:17 - loss: 4.35 - ETA: 28:57 - loss: 4.23 - ETA: 21:47 - loss: 4.64 - ETA: 18:12 - loss: 4.89 - ETA: 16:12 - loss: 4.79 - ETA: 14:53 - loss: 4.56 - ETA: 13:48 - loss: 4.36 - ETA: 12:58 - loss: 4.20 - ETA: 12:20 - loss: 4.09 - ETA: 11:48 - loss: 3.99 - ETA: 11:23 - loss: 3.92 - ETA: 11:02 - loss: 3.86 - ETA: 10:45 - loss: 3.80 - ETA: 10:30 - loss: 3.74 - ETA: 10:15 - loss: 3.69 - ETA: 10:03 - loss: 3.65 - ETA: 9:58 - loss: 3.6182 - ETA: 9:51 - loss: 3.584 - ETA: 9:50 - loss: 3.554 - ETA: 9:42 - loss: 3.529 - ETA: 9:36 - loss: 3.507 - ETA: 9:30 - loss: 3.486 - ETA: 9:23 - loss: 3.468 - ETA: 9:17 - loss: 3.452 - ETA: 9:11 - loss: 3.436 - ETA: 9:05 - loss: 3.424 - ETA: 9:01 - loss: 3.409 - ETA: 8:59 - loss: 3.397 - ETA: 8:56 - loss: 3.385 - ETA: 8:51 - loss: 3.375 - ETA: 8:46 - loss: 3.364 - ETA: 8:41 - loss: 3.354 - ETA: 8:37 - loss: 3.346 - ETA: 8:34 - loss: 3.338 - ETA: 8:35 - loss: 3.329 - ETA: 8:31 - loss: 3.322 - ETA: 8:28 - loss: 3.315 - ETA: 8:24 - loss: 3.309 - ETA: 8:21 - loss: 3.302 - ETA: 8:19 - loss: 3.295 - ETA: 8:16 - loss: 3.291 - ETA: 8:13 - loss: 3.287 - ETA: 8:10 - loss: 3.281 - ETA: 8:07 - loss: 3.275 - ETA: 8:04 - loss: 3.270 - ETA: 8:01 - loss: 3.265 - ETA: 7:59 - loss: 3.261 - ETA: 7:59 - loss: 3.257 - ETA: 7:57 - loss: 3.252 - ETA: 7:58 - loss: 3.247 - ETA: 7:56 - loss: 3.246 - ETA: 7:55 - loss: 3.242 - ETA: 7:53 - loss: 3.240 - ETA: 7:50 - loss: 3.238 - ETA: 7:48 - loss: 3.236 - ETA: 7:45 - loss: 3.232 - ETA: 7:43 - loss: 3.228 - ETA: 7:40 - loss: 3.225 - ETA: 7:38 - loss: 3.222 - ETA: 7:35 - loss: 3.220 - ETA: 7:35 - loss: 3.218 - ETA: 7:32 - loss: 3.216 - ETA: 7:30 - loss: 3.212 - ETA: 7:27 - loss: 3.210 - ETA: 7:24 - loss: 3.206 - ETA: 7:21 - loss: 3.204 - ETA: 7:19 - loss: 3.202 - ETA: 7:18 - loss: 3.198 - ETA: 7:16 - loss: 3.196 - ETA: 7:15 - loss: 3.193 - ETA: 7:12 - loss: 3.191 - ETA: 7:11 - loss: 3.189 - ETA: 7:09 - loss: 3.188 - ETA: 7:08 - loss: 3.187 - ETA: 7:06 - loss: 3.185 - ETA: 7:05 - loss: 3.183 - ETA: 7:03 - loss: 3.181 - ETA: 7:00 - loss: 3.179 - ETA: 6:59 - loss: 3.178 - ETA: 6:58 - loss: 3.177 - ETA: 6:56 - loss: 3.176 - ETA: 6:53 - loss: 3.174 - ETA: 6:51 - loss: 3.173 - ETA: 6:48 - loss: 3.171 - ETA: 6:45 - loss: 3.169 - ETA: 6:43 - loss: 3.168 - ETA: 6:40 - loss: 3.167 - ETA: 6:39 - loss: 3.165 - ETA: 6:38 - loss: 3.163 - ETA: 6:37 - loss: 3.161 - ETA: 6:35 - loss: 3.161 - ETA: 6:32 - loss: 3.160 - ETA: 6:31 - loss: 3.159 - ETA: 6:29 - loss: 3.157 - ETA: 6:27 - loss: 3.156 - ETA: 6:24 - loss: 3.155 - ETA: 6:22 - loss: 3.153 - ETA: 6:19 - loss: 3.153 - ETA: 6:17 - loss: 3.157 - ETA: 6:15 - loss: 3.157 - ETA: 6:12 - loss: 3.157 - ETA: 6:10 - loss: 3.157 - ETA: 6:08 - loss: 3.156 - ETA: 6:06 - loss: 3.155 - ETA: 6:04 - loss: 3.154 - ETA: 6:02 - loss: 3.153 - ETA: 5:59 - loss: 3.152 - ETA: 5:57 - loss: 3.151 - ETA: 5:55 - loss: 3.150 - ETA: 5:54 - loss: 3.149 - ETA: 5:53 - loss: 3.148 - ETA: 5:51 - loss: 3.148 - ETA: 5:49 - loss: 3.148 - ETA: 5:48 - loss: 3.147 - ETA: 5:46 - loss: 3.147 - ETA: 5:45 - loss: 3.146 - ETA: 5:43 - loss: 3.145 - ETA: 5:41 - loss: 3.145 - ETA: 5:40 - loss: 3.144 - ETA: 5:38 - loss: 3.143 - ETA: 5:36 - loss: 3.142 - ETA: 5:34 - loss: 3.140 - ETA: 5:32 - loss: 3.140 - ETA: 5:29 - loss: 3.140 - ETA: 5:27 - loss: 3.139 - ETA: 5:25 - loss: 3.138 - ETA: 5:23 - loss: 3.138 - ETA: 5:21 - loss: 3.137 - ETA: 5:18 - loss: 3.137 - ETA: 5:16 - loss: 3.135 - ETA: 5:14 - loss: 3.135 - ETA: 5:12 - loss: 3.134 - ETA: 5:10 - loss: 3.133 - ETA: 5:08 - loss: 3.132 - ETA: 5:06 - loss: 3.132 - ETA: 5:04 - loss: 3.132 - ETA: 5:02 - loss: 3.131 - ETA: 5:00 - loss: 3.130 - ETA: 4:57 - loss: 3.130 - ETA: 4:55 - loss: 3.130 - ETA: 4:53 - loss: 3.129 - ETA: 4:51 - loss: 3.129 - ETA: 4:49 - loss: 3.128 - ETA: 4:47 - loss: 3.128 - ETA: 4:45 - loss: 3.127 - ETA: 4:43 - loss: 3.127 - ETA: 4:41 - loss: 3.127 - ETA: 4:39 - loss: 3.126 - ETA: 4:37 - loss: 3.126 - ETA: 4:35 - loss: 3.125 - ETA: 4:33 - loss: 3.125 - ETA: 4:31 - loss: 3.124 - ETA: 4:29 - loss: 3.123 - ETA: 4:27 - loss: 3.123 - ETA: 4:25 - loss: 3.122 - ETA: 4:23 - loss: 3.122 - ETA: 4:21 - loss: 3.121 - ETA: 4:19 - loss: 3.121 - ETA: 4:17 - loss: 3.120 - ETA: 4:15 - loss: 3.120 - ETA: 4:13 - loss: 3.119 - ETA: 4:11 - loss: 3.119 - ETA: 4:09 - loss: 3.119 - ETA: 4:07 - loss: 3.118 - ETA: 4:05 - loss: 3.118 - ETA: 4:04 - loss: 3.118 - ETA: 4:02 - loss: 3.117 - ETA: 4:00 - loss: 3.117 - ETA: 3:58 - loss: 3.116 - ETA: 3:56 - loss: 3.116 - ETA: 3:54 - loss: 3.116 - ETA: 3:52 - loss: 3.116 - ETA: 3:50 - loss: 3.115 - ETA: 3:48 - loss: 3.115 - ETA: 3:46 - loss: 3.115 - ETA: 3:45 - loss: 3.114 - ETA: 3:43 - loss: 3.114 - ETA: 3:41 - loss: 3.113 - ETA: 3:39 - loss: 3.112 - ETA: 3:37 - loss: 3.112 - ETA: 3:35 - loss: 3.112 - ETA: 3:33 - loss: 3.111 - ETA: 3:31 - loss: 3.111 - ETA: 3:30 - loss: 3.111 - ETA: 3:28 - loss: 3.111 - ETA: 3:26 - loss: 3.110 - ETA: 3:24 - loss: 3.110 - ETA: 3:22 - loss: 3.110 - ETA: 3:20 - loss: 3.110 - ETA: 3:18 - loss: 3.109 - ETA: 3:16 - loss: 3.109 - ETA: 3:14 - loss: 3.109 - ETA: 3:13 - loss: 3.108 - ETA: 3:11 - loss: 3.108 - ETA: 3:09 - loss: 3.108 - ETA: 3:07 - loss: 3.108 - ETA: 3:05 - loss: 3.107 - ETA: 3:03 - loss: 3.106 - ETA: 3:01 - loss: 3.106 - ETA: 2:59 - loss: 3.106 - ETA: 2:58 - loss: 3.105 - ETA: 2:56 - loss: 3.105 - ETA: 2:54 - loss: 3.104 - ETA: 2:52 - loss: 3.103 - ETA: 2:50 - loss: 3.103 - ETA: 2:48 - loss: 3.103 - ETA: 2:47 - loss: 3.103 - ETA: 2:45 - loss: 3.103 - ETA: 2:44 - loss: 3.102 - ETA: 2:42 - loss: 3.102 - ETA: 2:40 - loss: 3.101 - ETA: 2:38 - loss: 3.101 - ETA: 2:36 - loss: 3.100 - ETA: 2:35 - loss: 3.100 - ETA: 2:33 - loss: 3.099 - ETA: 2:32 - loss: 3.098 - ETA: 2:31 - loss: 3.098 - ETA: 2:30 - loss: 3.097 - ETA: 2:28 - loss: 3.096 - ETA: 2:26 - loss: 3.095 - ETA: 2:24 - loss: 3.094 - ETA: 2:23 - loss: 3.093 - ETA: 2:21 - loss: 3.092 - ETA: 2:19 - loss: 3.091 - ETA: 2:17 - loss: 3.090 - ETA: 2:16 - loss: 3.090 - ETA: 2:14 - loss: 3.089 - ETA: 2:12 - loss: 3.089 - ETA: 2:10 - loss: 3.088 - ETA: 2:08 - loss: 3.087 - ETA: 2:06 - loss: 3.086 - ETA: 2:04 - loss: 3.085 - ETA: 2:03 - loss: 3.085 - ETA: 2:01 - loss: 3.084 - ETA: 1:59 - loss: 3.083 - ETA: 1:57 - loss: 3.082 - ETA: 1:55 - loss: 3.082 - ETA: 1:53 - loss: 3.080 - ETA: 1:51 - loss: 3.080 - ETA: 1:49 - loss: 3.079 - ETA: 1:48 - loss: 3.078 - ETA: 1:46 - loss: 3.077 - ETA: 1:44 - loss: 3.076 - ETA: 1:42 - loss: 3.075 - ETA: 1:40 - loss: 3.075 - ETA: 1:38 - loss: 3.074 - ETA: 1:36 - loss: 3.074 - ETA: 1:35 - loss: 3.073 - ETA: 1:33 - loss: 3.071 - ETA: 1:31 - loss: 3.070 - ETA: 1:29 - loss: 3.070 - ETA: 1:27 - loss: 3.069 - ETA: 1:25 - loss: 3.068 - ETA: 1:23 - loss: 3.068 - ETA: 1:22 - loss: 3.067 - ETA: 1:20 - loss: 3.066 - ETA: 1:18 - loss: 3.064 - ETA: 1:16 - loss: 3.063 - ETA: 1:14 - loss: 3.063 - ETA: 1:12 - loss: 3.062 - ETA: 1:10 - loss: 3.061 - ETA: 1:09 - loss: 3.059 - ETA: 1:07 - loss: 3.059 - ETA: 1:05 - loss: 3.058 - ETA: 1:03 - loss: 3.057 - ETA: 1:01 - loss: 3.057 - ETA: 59s - loss: 3.055 - ETA: 58s - loss: 3.05 - ETA: 56s - loss: 3.05 - ETA: 54s - loss: 3.05 - ETA: 52s - loss: 3.05 - ETA: 51s - loss: 3.05 - ETA: 49s - loss: 3.05 - ETA: 47s - loss: 3.04 - ETA: 45s - loss: 3.04 - ETA: 43s - loss: 3.04 - ETA: 41s - loss: 3.04 - ETA: 40s - loss: 3.04 - ETA: 38s - loss: 3.04 - ETA: 36s - loss: 3.04 - ETA: 34s - loss: 3.04 - ETA: 32s - loss: 3.03 - ETA: 30s - loss: 3.03 - ETA: 29s - loss: 3.03 - ETA: 27s - loss: 3.03 - ETA: 25s - loss: 3.03 - ETA: 23s - loss: 3.03 - ETA: 21s - loss: 3.03 - ETA: 19s - loss: 3.03 - ETA: 18s - loss: 3.03 - ETA: 16s - loss: 3.02 - ETA: 14s - loss: 3.02 - ETA: 12s - loss: 3.02 - ETA: 10s - loss: 3.02 - ETA: 9s - loss: 3.0249 - ETA: 7s - loss: 3.023 - ETA: 5s - loss: 3.022 - ETA: 3s - loss: 3.021 - ETA: 1s - loss: 3.020 - 584s 2s/step - loss: 3.0189 - val_loss: 2.6460\n",
      "Epoch 2/20\n",
      "300/300 [==============================] - ETA: 7:39 - loss: 2.694 - ETA: 7:33 - loss: 2.636 - ETA: 7:34 - loss: 2.631 - ETA: 7:33 - loss: 2.633 - ETA: 7:32 - loss: 2.630 - ETA: 7:29 - loss: 2.633 - ETA: 7:28 - loss: 2.643 - ETA: 7:28 - loss: 2.652 - ETA: 7:27 - loss: 2.666 - ETA: 7:26 - loss: 2.668 - ETA: 7:24 - loss: 2.668 - ETA: 7:23 - loss: 2.676 - ETA: 7:22 - loss: 2.671 - ETA: 7:21 - loss: 2.667 - ETA: 7:20 - loss: 2.663 - ETA: 7:18 - loss: 2.662 - ETA: 7:19 - loss: 2.671 - ETA: 7:18 - loss: 2.672 - ETA: 7:17 - loss: 2.672 - ETA: 7:17 - loss: 2.667 - ETA: 7:18 - loss: 2.663 - ETA: 7:18 - loss: 2.661 - ETA: 7:16 - loss: 2.659 - ETA: 7:15 - loss: 2.654 - ETA: 7:13 - loss: 2.652 - ETA: 7:11 - loss: 2.651 - ETA: 7:10 - loss: 2.648 - ETA: 7:08 - loss: 2.650 - ETA: 7:06 - loss: 2.649 - ETA: 7:04 - loss: 2.647 - ETA: 7:04 - loss: 2.644 - ETA: 7:10 - loss: 2.638 - ETA: 7:17 - loss: 2.639 - ETA: 7:15 - loss: 2.637 - ETA: 7:13 - loss: 2.636 - ETA: 7:15 - loss: 2.637 - ETA: 7:25 - loss: 2.635 - ETA: 7:35 - loss: 2.635 - ETA: 7:34 - loss: 2.635 - ETA: 7:32 - loss: 2.633 - ETA: 7:29 - loss: 2.631 - ETA: 7:26 - loss: 2.628 - ETA: 7:24 - loss: 2.626 - ETA: 7:21 - loss: 2.624 - ETA: 7:18 - loss: 2.622 - ETA: 7:16 - loss: 2.620 - ETA: 7:13 - loss: 2.618 - ETA: 7:10 - loss: 2.615 - ETA: 7:08 - loss: 2.613 - ETA: 7:05 - loss: 2.613 - ETA: 7:02 - loss: 2.613 - ETA: 7:00 - loss: 2.617 - ETA: 6:58 - loss: 2.616 - ETA: 6:57 - loss: 2.614 - ETA: 6:55 - loss: 2.612 - ETA: 6:53 - loss: 2.611 - ETA: 6:50 - loss: 2.608 - ETA: 6:48 - loss: 2.606 - ETA: 6:47 - loss: 2.604 - ETA: 6:45 - loss: 2.602 - ETA: 6:43 - loss: 2.601 - ETA: 6:41 - loss: 2.600 - ETA: 6:39 - loss: 2.600 - ETA: 6:37 - loss: 2.599 - ETA: 6:35 - loss: 2.597 - ETA: 6:34 - loss: 2.597 - ETA: 6:41 - loss: 2.597 - ETA: 6:47 - loss: 2.594 - ETA: 6:48 - loss: 2.593 - ETA: 6:47 - loss: 2.592 - ETA: 6:53 - loss: 2.591 - ETA: 6:51 - loss: 2.590 - ETA: 6:49 - loss: 2.590 - ETA: 6:48 - loss: 2.590 - ETA: 6:45 - loss: 2.590 - ETA: 6:45 - loss: 2.590 - ETA: 6:42 - loss: 2.589 - ETA: 6:40 - loss: 2.588 - ETA: 6:38 - loss: 2.586 - ETA: 6:39 - loss: 2.585 - ETA: 6:37 - loss: 2.584 - ETA: 6:37 - loss: 2.583 - ETA: 6:36 - loss: 2.581 - ETA: 6:34 - loss: 2.581 - ETA: 6:31 - loss: 2.580 - ETA: 6:29 - loss: 2.579 - ETA: 6:26 - loss: 2.577 - ETA: 6:24 - loss: 2.577 - ETA: 6:22 - loss: 2.576 - ETA: 6:19 - loss: 2.575 - ETA: 6:17 - loss: 2.574 - ETA: 6:15 - loss: 2.573 - ETA: 6:13 - loss: 2.571 - ETA: 6:10 - loss: 2.571 - ETA: 6:08 - loss: 2.570 - ETA: 6:06 - loss: 2.568 - ETA: 6:03 - loss: 2.566 - ETA: 6:01 - loss: 2.565 - ETA: 5:59 - loss: 2.564 - ETA: 5:57 - loss: 2.563 - ETA: 5:54 - loss: 2.562 - ETA: 5:52 - loss: 2.562 - ETA: 5:50 - loss: 2.562 - ETA: 5:48 - loss: 2.561 - ETA: 5:45 - loss: 2.560 - ETA: 5:43 - loss: 2.559 - ETA: 5:41 - loss: 2.558 - ETA: 5:39 - loss: 2.557 - ETA: 5:37 - loss: 2.557 - ETA: 5:35 - loss: 2.556 - ETA: 5:33 - loss: 2.555 - ETA: 5:31 - loss: 2.554 - ETA: 5:28 - loss: 2.553 - ETA: 5:26 - loss: 2.552 - ETA: 5:24 - loss: 2.551 - ETA: 5:22 - loss: 2.551 - ETA: 5:20 - loss: 2.549 - ETA: 5:18 - loss: 2.549 - ETA: 5:16 - loss: 2.547 - ETA: 5:14 - loss: 2.545 - ETA: 5:12 - loss: 2.545 - ETA: 5:10 - loss: 2.544 - ETA: 5:08 - loss: 2.543 - ETA: 5:06 - loss: 2.542 - ETA: 5:04 - loss: 2.542 - ETA: 5:02 - loss: 2.542 - ETA: 5:00 - loss: 2.541 - ETA: 4:58 - loss: 2.540 - ETA: 4:56 - loss: 2.540 - ETA: 4:54 - loss: 2.539 - ETA: 4:52 - loss: 2.538 - ETA: 4:51 - loss: 2.537 - ETA: 4:49 - loss: 2.536 - ETA: 4:48 - loss: 2.535 - ETA: 4:46 - loss: 2.535 - ETA: 4:45 - loss: 2.533 - ETA: 4:44 - loss: 2.532 - ETA: 4:42 - loss: 2.531 - ETA: 4:40 - loss: 2.530 - ETA: 4:38 - loss: 2.528 - ETA: 4:36 - loss: 2.528 - ETA: 4:34 - loss: 2.528 - ETA: 4:32 - loss: 2.528 - ETA: 4:30 - loss: 2.527 - ETA: 4:29 - loss: 2.526 - ETA: 4:27 - loss: 2.525 - ETA: 4:25 - loss: 2.523 - ETA: 4:23 - loss: 2.522 - ETA: 4:22 - loss: 2.521 - ETA: 4:20 - loss: 2.520 - ETA: 4:18 - loss: 2.519 - ETA: 4:16 - loss: 2.518 - ETA: 4:14 - loss: 2.517 - ETA: 4:12 - loss: 2.516 - ETA: 4:10 - loss: 2.516 - ETA: 4:08 - loss: 2.515 - ETA: 4:06 - loss: 2.514 - ETA: 4:05 - loss: 2.514 - ETA: 4:03 - loss: 2.513 - ETA: 4:01 - loss: 2.512 - ETA: 3:59 - loss: 2.512 - ETA: 3:57 - loss: 2.510 - ETA: 3:55 - loss: 2.509 - ETA: 3:54 - loss: 2.508 - ETA: 3:52 - loss: 2.507 - ETA: 3:50 - loss: 2.506 - ETA: 3:48 - loss: 2.505 - ETA: 3:46 - loss: 2.504 - ETA: 3:45 - loss: 2.503 - ETA: 3:43 - loss: 2.502 - ETA: 3:41 - loss: 2.501 - ETA: 3:39 - loss: 2.500 - ETA: 3:37 - loss: 2.499 - ETA: 3:35 - loss: 2.498 - ETA: 3:34 - loss: 2.497 - ETA: 3:32 - loss: 2.496 - ETA: 3:30 - loss: 2.495 - ETA: 3:28 - loss: 2.495 - ETA: 3:26 - loss: 2.494 - ETA: 3:25 - loss: 2.493 - ETA: 3:23 - loss: 2.492 - ETA: 3:21 - loss: 2.491 - ETA: 3:19 - loss: 2.490 - ETA: 3:17 - loss: 2.489 - ETA: 3:16 - loss: 2.488 - ETA: 3:14 - loss: 2.487 - ETA: 3:12 - loss: 2.486 - ETA: 3:10 - loss: 2.485 - ETA: 3:08 - loss: 2.484 - ETA: 3:07 - loss: 2.483 - ETA: 3:05 - loss: 2.483 - ETA: 3:03 - loss: 2.482 - ETA: 3:01 - loss: 2.481 - ETA: 3:00 - loss: 2.480 - ETA: 2:58 - loss: 2.479 - ETA: 2:56 - loss: 2.478 - ETA: 2:55 - loss: 2.476 - ETA: 2:54 - loss: 2.476 - ETA: 2:52 - loss: 2.476 - ETA: 2:50 - loss: 2.476 - ETA: 2:49 - loss: 2.475 - ETA: 2:47 - loss: 2.474 - ETA: 2:45 - loss: 2.473 - ETA: 2:43 - loss: 2.472 - ETA: 2:42 - loss: 2.471 - ETA: 2:40 - loss: 2.470 - ETA: 2:38 - loss: 2.469 - ETA: 2:36 - loss: 2.468 - ETA: 2:35 - loss: 2.467 - ETA: 2:33 - loss: 2.466 - ETA: 2:31 - loss: 2.465 - ETA: 2:29 - loss: 2.464 - ETA: 2:28 - loss: 2.464 - ETA: 2:26 - loss: 2.463 - ETA: 2:24 - loss: 2.462 - ETA: 2:22 - loss: 2.461 - ETA: 2:21 - loss: 2.460 - ETA: 2:19 - loss: 2.459 - ETA: 2:17 - loss: 2.458 - ETA: 2:15 - loss: 2.457 - ETA: 2:14 - loss: 2.456 - ETA: 2:12 - loss: 2.455 - ETA: 2:10 - loss: 2.454 - ETA: 2:08 - loss: 2.453 - ETA: 2:07 - loss: 2.452 - ETA: 2:05 - loss: 2.451 - ETA: 2:03 - loss: 2.450 - ETA: 2:01 - loss: 2.449 - ETA: 2:00 - loss: 2.448 - ETA: 1:58 - loss: 2.447 - ETA: 1:56 - loss: 2.446 - ETA: 1:55 - loss: 2.445 - ETA: 1:53 - loss: 2.444 - ETA: 1:51 - loss: 2.443 - ETA: 1:50 - loss: 2.442 - ETA: 1:48 - loss: 2.441 - ETA: 1:47 - loss: 2.441 - ETA: 1:45 - loss: 2.440 - ETA: 1:44 - loss: 2.439 - ETA: 1:42 - loss: 2.438 - ETA: 1:40 - loss: 2.437 - ETA: 1:38 - loss: 2.436 - ETA: 1:37 - loss: 2.436 - ETA: 1:35 - loss: 2.435 - ETA: 1:33 - loss: 2.434 - ETA: 1:31 - loss: 2.433 - ETA: 1:30 - loss: 2.432 - ETA: 1:28 - loss: 2.431 - ETA: 1:26 - loss: 2.430 - ETA: 1:25 - loss: 2.429 - ETA: 1:23 - loss: 2.428 - ETA: 1:21 - loss: 2.427 - ETA: 1:19 - loss: 2.426 - ETA: 1:18 - loss: 2.425 - ETA: 1:16 - loss: 2.424 - ETA: 1:14 - loss: 2.423 - ETA: 1:12 - loss: 2.422 - ETA: 1:11 - loss: 2.421 - ETA: 1:09 - loss: 2.420 - ETA: 1:07 - loss: 2.419 - ETA: 1:06 - loss: 2.418 - ETA: 1:04 - loss: 2.417 - ETA: 1:03 - loss: 2.416 - ETA: 1:01 - loss: 2.415 - ETA: 59s - loss: 2.414 - ETA: 57s - loss: 2.41 - ETA: 56s - loss: 2.41 - ETA: 54s - loss: 2.41 - ETA: 52s - loss: 2.41 - ETA: 51s - loss: 2.40 - ETA: 49s - loss: 2.40 - ETA: 47s - loss: 2.40 - ETA: 45s - loss: 2.40 - ETA: 44s - loss: 2.40 - ETA: 42s - loss: 2.40 - ETA: 40s - loss: 2.40 - ETA: 39s - loss: 2.40 - ETA: 37s - loss: 2.40 - ETA: 35s - loss: 2.40 - ETA: 34s - loss: 2.40 - ETA: 32s - loss: 2.39 - ETA: 30s - loss: 2.39 - ETA: 29s - loss: 2.39 - ETA: 27s - loss: 2.39 - ETA: 25s - loss: 2.39 - ETA: 24s - loss: 2.39 - ETA: 22s - loss: 2.39 - ETA: 20s - loss: 2.39 - ETA: 18s - loss: 2.39 - ETA: 17s - loss: 2.39 - ETA: 15s - loss: 2.39 - ETA: 13s - loss: 2.39 - ETA: 11s - loss: 2.38 - ETA: 10s - loss: 2.38 - ETA: 8s - loss: 2.3875 - ETA: 6s - loss: 2.386 - ETA: 5s - loss: 2.385 - ETA: 3s - loss: 2.384 - ETA: 1s - loss: 2.383 - 563s 2s/step - loss: 2.3828 - val_loss: 2.1055\n",
      "Epoch 3/20\n"
     ]
    },
    {
     "name": "stdout",
     "output_type": "stream",
     "text": [
      "300/300 [==============================] - ETA: 10:29 - loss: 2.10 - ETA: 10:22 - loss: 2.10 - ETA: 9:40 - loss: 2.1192 - ETA: 9:17 - loss: 2.094 - ETA: 8:56 - loss: 2.101 - ETA: 8:43 - loss: 2.102 - ETA: 8:33 - loss: 2.100 - ETA: 8:26 - loss: 2.100 - ETA: 8:21 - loss: 2.092 - ETA: 8:15 - loss: 2.086 - ETA: 8:12 - loss: 2.082 - ETA: 8:08 - loss: 2.083 - ETA: 8:05 - loss: 2.092 - ETA: 8:03 - loss: 2.088 - ETA: 8:00 - loss: 2.086 - ETA: 7:57 - loss: 2.087 - ETA: 7:54 - loss: 2.082 - ETA: 7:51 - loss: 2.082 - ETA: 7:48 - loss: 2.082 - ETA: 7:45 - loss: 2.079 - ETA: 7:42 - loss: 2.072 - ETA: 7:39 - loss: 2.070 - ETA: 7:38 - loss: 2.070 - ETA: 7:35 - loss: 2.069 - ETA: 7:32 - loss: 2.068 - ETA: 7:31 - loss: 2.069 - ETA: 7:29 - loss: 2.068 - ETA: 7:26 - loss: 2.063 - ETA: 7:23 - loss: 2.056 - ETA: 7:21 - loss: 2.053 - ETA: 7:19 - loss: 2.053 - ETA: 7:17 - loss: 2.050 - ETA: 7:15 - loss: 2.048 - ETA: 7:13 - loss: 2.047 - ETA: 7:11 - loss: 2.049 - ETA: 7:09 - loss: 2.048 - ETA: 7:07 - loss: 2.047 - ETA: 7:05 - loss: 2.047 - ETA: 7:03 - loss: 2.049 - ETA: 7:01 - loss: 2.049 - ETA: 6:59 - loss: 2.050 - ETA: 6:58 - loss: 2.048 - ETA: 6:57 - loss: 2.046 - ETA: 6:56 - loss: 2.046 - ETA: 6:55 - loss: 2.046 - ETA: 6:53 - loss: 2.044 - ETA: 6:51 - loss: 2.042 - ETA: 6:50 - loss: 2.040 - ETA: 6:48 - loss: 2.039 - ETA: 6:47 - loss: 2.039 - ETA: 6:45 - loss: 2.040 - ETA: 6:43 - loss: 2.040 - ETA: 6:42 - loss: 2.038 - ETA: 6:40 - loss: 2.039 - ETA: 6:38 - loss: 2.040 - ETA: 6:36 - loss: 2.040 - ETA: 6:35 - loss: 2.040 - ETA: 6:33 - loss: 2.038 - ETA: 6:31 - loss: 2.036 - ETA: 6:30 - loss: 2.036 - ETA: 6:28 - loss: 2.035 - ETA: 6:26 - loss: 2.035 - ETA: 6:24 - loss: 2.035 - ETA: 6:22 - loss: 2.034 - ETA: 6:21 - loss: 2.032 - ETA: 6:19 - loss: 2.030 - ETA: 6:17 - loss: 2.031 - ETA: 6:15 - loss: 2.029 - ETA: 6:13 - loss: 2.027 - ETA: 6:12 - loss: 2.027 - ETA: 6:10 - loss: 2.027 - ETA: 6:08 - loss: 2.026 - ETA: 6:06 - loss: 2.023 - ETA: 6:05 - loss: 2.022 - ETA: 6:03 - loss: 2.021 - ETA: 6:01 - loss: 2.020 - ETA: 6:00 - loss: 2.020 - ETA: 5:58 - loss: 2.018 - ETA: 5:57 - loss: 2.017 - ETA: 5:55 - loss: 2.016 - ETA: 5:53 - loss: 2.016 - ETA: 5:52 - loss: 2.015 - ETA: 5:50 - loss: 2.015 - ETA: 5:48 - loss: 2.014 - ETA: 5:46 - loss: 2.015 - ETA: 5:45 - loss: 2.014 - ETA: 5:43 - loss: 2.014 - ETA: 5:41 - loss: 2.012 - ETA: 5:40 - loss: 2.012 - ETA: 5:38 - loss: 2.010 - ETA: 5:36 - loss: 2.009 - ETA: 5:35 - loss: 2.007 - ETA: 5:33 - loss: 2.007 - ETA: 5:31 - loss: 2.008 - ETA: 5:30 - loss: 2.007 - ETA: 5:28 - loss: 2.006 - ETA: 5:26 - loss: 2.006 - ETA: 5:25 - loss: 2.006 - ETA: 5:23 - loss: 2.005 - ETA: 5:21 - loss: 2.004 - ETA: 5:20 - loss: 2.004 - ETA: 5:18 - loss: 2.003 - ETA: 5:17 - loss: 2.002 - ETA: 5:15 - loss: 2.001 - ETA: 5:13 - loss: 2.001 - ETA: 5:12 - loss: 1.999 - ETA: 5:10 - loss: 1.998 - ETA: 5:09 - loss: 1.997 - ETA: 5:07 - loss: 1.996 - ETA: 5:05 - loss: 1.995 - ETA: 5:04 - loss: 1.995 - ETA: 5:02 - loss: 1.994 - ETA: 5:01 - loss: 1.993 - ETA: 4:59 - loss: 1.993 - ETA: 4:57 - loss: 1.992 - ETA: 4:56 - loss: 1.991 - ETA: 4:54 - loss: 1.991 - ETA: 4:53 - loss: 1.991 - ETA: 4:51 - loss: 1.990 - ETA: 4:49 - loss: 1.989 - ETA: 4:48 - loss: 1.988 - ETA: 4:46 - loss: 1.988 - ETA: 4:44 - loss: 1.987 - ETA: 4:43 - loss: 1.986 - ETA: 4:41 - loss: 1.985 - ETA: 4:40 - loss: 1.985 - ETA: 4:38 - loss: 1.984 - ETA: 4:36 - loss: 1.984 - ETA: 4:35 - loss: 1.984 - ETA: 4:33 - loss: 1.983 - ETA: 4:32 - loss: 1.983 - ETA: 4:30 - loss: 1.982 - ETA: 4:28 - loss: 1.981 - ETA: 4:27 - loss: 1.981 - ETA: 4:25 - loss: 1.979 - ETA: 4:23 - loss: 1.979 - ETA: 4:22 - loss: 1.979 - ETA: 4:20 - loss: 1.978 - ETA: 4:18 - loss: 1.978 - ETA: 4:17 - loss: 1.977 - ETA: 4:15 - loss: 1.976 - ETA: 4:13 - loss: 1.976 - ETA: 4:12 - loss: 1.975 - ETA: 4:10 - loss: 1.975 - ETA: 4:09 - loss: 1.975 - ETA: 4:07 - loss: 1.975 - ETA: 4:05 - loss: 1.974 - ETA: 4:04 - loss: 1.974 - ETA: 4:02 - loss: 1.974 - ETA: 4:01 - loss: 1.973 - ETA: 3:59 - loss: 1.972 - ETA: 3:57 - loss: 1.971 - ETA: 3:56 - loss: 1.971 - ETA: 3:54 - loss: 1.971 - ETA: 3:53 - loss: 1.970 - ETA: 3:51 - loss: 1.969 - ETA: 3:50 - loss: 1.968 - ETA: 3:48 - loss: 1.968 - ETA: 3:46 - loss: 1.967 - ETA: 3:45 - loss: 1.966 - ETA: 3:43 - loss: 1.966 - ETA: 3:42 - loss: 1.965 - ETA: 3:40 - loss: 1.965 - ETA: 3:38 - loss: 1.964 - ETA: 3:37 - loss: 1.963 - ETA: 3:35 - loss: 1.962 - ETA: 3:35 - loss: 1.962 - ETA: 3:33 - loss: 1.961 - ETA: 3:32 - loss: 1.961 - ETA: 3:30 - loss: 1.960 - ETA: 3:28 - loss: 1.959 - ETA: 3:27 - loss: 1.958 - ETA: 3:25 - loss: 1.957 - ETA: 3:23 - loss: 1.956 - ETA: 3:22 - loss: 1.956 - ETA: 3:20 - loss: 1.955 - ETA: 3:19 - loss: 1.954 - ETA: 3:17 - loss: 1.954 - ETA: 3:15 - loss: 1.953 - ETA: 3:14 - loss: 1.952 - ETA: 3:12 - loss: 1.952 - ETA: 3:10 - loss: 1.951 - ETA: 3:09 - loss: 1.951 - ETA: 3:07 - loss: 1.950 - ETA: 3:05 - loss: 1.949 - ETA: 3:04 - loss: 1.949 - ETA: 3:02 - loss: 1.948 - ETA: 3:00 - loss: 1.947 - ETA: 2:59 - loss: 1.947 - ETA: 2:57 - loss: 1.946 - ETA: 2:56 - loss: 1.946 - ETA: 2:54 - loss: 1.945 - ETA: 2:52 - loss: 1.944 - ETA: 2:52 - loss: 1.944 - ETA: 2:50 - loss: 1.944 - ETA: 2:49 - loss: 1.943 - ETA: 2:47 - loss: 1.943 - ETA: 2:45 - loss: 1.942 - ETA: 2:44 - loss: 1.941 - ETA: 2:42 - loss: 1.941 - ETA: 2:40 - loss: 1.940 - ETA: 2:39 - loss: 1.939 - ETA: 2:37 - loss: 1.939 - ETA: 2:35 - loss: 1.937 - ETA: 2:34 - loss: 1.937 - ETA: 2:32 - loss: 1.936 - ETA: 2:30 - loss: 1.936 - ETA: 2:29 - loss: 1.935 - ETA: 2:27 - loss: 1.934 - ETA: 2:26 - loss: 1.934 - ETA: 2:24 - loss: 1.933 - ETA: 2:22 - loss: 1.933 - ETA: 2:21 - loss: 1.932 - ETA: 2:19 - loss: 1.931 - ETA: 2:17 - loss: 1.930 - ETA: 2:16 - loss: 1.929 - ETA: 2:14 - loss: 1.929 - ETA: 2:12 - loss: 1.929 - ETA: 2:11 - loss: 1.928 - ETA: 2:09 - loss: 1.927 - ETA: 2:07 - loss: 1.927 - ETA: 2:06 - loss: 1.926 - ETA: 2:04 - loss: 1.926 - ETA: 2:03 - loss: 1.925 - ETA: 2:01 - loss: 1.924 - ETA: 1:59 - loss: 1.924 - ETA: 1:58 - loss: 1.923 - ETA: 1:56 - loss: 1.923 - ETA: 1:54 - loss: 1.922 - ETA: 1:53 - loss: 1.921 - ETA: 1:51 - loss: 1.921 - ETA: 1:50 - loss: 1.920 - ETA: 1:49 - loss: 1.919 - ETA: 1:47 - loss: 1.919 - ETA: 1:45 - loss: 1.919 - ETA: 1:44 - loss: 1.918 - ETA: 1:42 - loss: 1.918 - ETA: 1:40 - loss: 1.917 - ETA: 1:39 - loss: 1.916 - ETA: 1:37 - loss: 1.916 - ETA: 1:35 - loss: 1.915 - ETA: 1:34 - loss: 1.915 - ETA: 1:32 - loss: 1.913 - ETA: 1:31 - loss: 1.913 - ETA: 1:29 - loss: 1.913 - ETA: 1:27 - loss: 1.912 - ETA: 1:26 - loss: 1.911 - ETA: 1:24 - loss: 1.911 - ETA: 1:22 - loss: 1.910 - ETA: 1:21 - loss: 1.909 - ETA: 1:19 - loss: 1.909 - ETA: 1:18 - loss: 1.908 - ETA: 1:16 - loss: 1.908 - ETA: 1:14 - loss: 1.908 - ETA: 1:13 - loss: 1.907 - ETA: 1:11 - loss: 1.907 - ETA: 1:09 - loss: 1.906 - ETA: 1:08 - loss: 1.905 - ETA: 1:06 - loss: 1.905 - ETA: 1:04 - loss: 1.904 - ETA: 1:03 - loss: 1.903 - ETA: 1:01 - loss: 1.902 - ETA: 1:00 - loss: 1.902 - ETA: 58s - loss: 1.901 - ETA: 56s - loss: 1.90 - ETA: 55s - loss: 1.90 - ETA: 53s - loss: 1.90 - ETA: 52s - loss: 1.89 - ETA: 50s - loss: 1.89 - ETA: 49s - loss: 1.89 - ETA: 47s - loss: 1.89 - ETA: 45s - loss: 1.89 - ETA: 44s - loss: 1.89 - ETA: 42s - loss: 1.89 - ETA: 40s - loss: 1.89 - ETA: 39s - loss: 1.89 - ETA: 37s - loss: 1.89 - ETA: 35s - loss: 1.89 - ETA: 34s - loss: 1.89 - ETA: 32s - loss: 1.89 - ETA: 31s - loss: 1.89 - ETA: 29s - loss: 1.89 - ETA: 27s - loss: 1.89 - ETA: 26s - loss: 1.89 - ETA: 24s - loss: 1.89 - ETA: 22s - loss: 1.89 - ETA: 21s - loss: 1.89 - ETA: 19s - loss: 1.88 - ETA: 17s - loss: 1.88 - ETA: 16s - loss: 1.88 - ETA: 14s - loss: 1.88 - ETA: 13s - loss: 1.88 - ETA: 11s - loss: 1.88 - ETA: 9s - loss: 1.8863 - ETA: 8s - loss: 1.885 - ETA: 6s - loss: 1.885 - ETA: 4s - loss: 1.884 - ETA: 3s - loss: 1.884 - ETA: 1s - loss: 1.884 - 532s 2s/step - loss: 1.8837 - val_loss: 1.7496\n",
      "Epoch 4/20\n",
      "300/300 [==============================] - ETA: 7:55 - loss: 1.801 - ETA: 7:54 - loss: 1.763 - ETA: 7:54 - loss: 1.786 - ETA: 7:51 - loss: 1.770 - ETA: 7:50 - loss: 1.769 - ETA: 7:48 - loss: 1.776 - ETA: 7:45 - loss: 1.766 - ETA: 7:46 - loss: 1.761 - ETA: 7:47 - loss: 1.751 - ETA: 7:45 - loss: 1.754 - ETA: 7:42 - loss: 1.744 - ETA: 7:42 - loss: 1.739 - ETA: 7:40 - loss: 1.739 - ETA: 7:38 - loss: 1.727 - ETA: 7:35 - loss: 1.721 - ETA: 7:33 - loss: 1.722 - ETA: 7:32 - loss: 1.722 - ETA: 7:30 - loss: 1.723 - ETA: 7:28 - loss: 1.719 - ETA: 7:26 - loss: 1.717 - ETA: 7:25 - loss: 1.717 - ETA: 7:24 - loss: 1.718 - ETA: 7:22 - loss: 1.717 - ETA: 7:20 - loss: 1.715 - ETA: 7:17 - loss: 1.714 - ETA: 7:15 - loss: 1.709 - ETA: 7:14 - loss: 1.709 - ETA: 7:12 - loss: 1.708 - ETA: 7:10 - loss: 1.708 - ETA: 7:08 - loss: 1.704 - ETA: 7:06 - loss: 1.704 - ETA: 7:05 - loss: 1.705 - ETA: 7:03 - loss: 1.705 - ETA: 7:01 - loss: 1.703 - ETA: 6:59 - loss: 1.702 - ETA: 6:58 - loss: 1.703 - ETA: 6:56 - loss: 1.705 - ETA: 6:55 - loss: 1.706 - ETA: 6:53 - loss: 1.706 - ETA: 6:51 - loss: 1.708 - ETA: 6:49 - loss: 1.708 - ETA: 6:48 - loss: 1.710 - ETA: 6:46 - loss: 1.709 - ETA: 6:44 - loss: 1.709 - ETA: 6:43 - loss: 1.708 - ETA: 6:41 - loss: 1.708 - ETA: 6:40 - loss: 1.708 - ETA: 6:39 - loss: 1.709 - ETA: 6:37 - loss: 1.709 - ETA: 6:36 - loss: 1.710 - ETA: 6:44 - loss: 1.709 - ETA: 6:43 - loss: 1.708 - ETA: 6:41 - loss: 1.709 - ETA: 6:39 - loss: 1.709 - ETA: 6:37 - loss: 1.709 - ETA: 6:35 - loss: 1.709 - ETA: 6:33 - loss: 1.708 - ETA: 6:31 - loss: 1.708 - ETA: 6:30 - loss: 1.709 - ETA: 6:28 - loss: 1.709 - ETA: 6:26 - loss: 1.709 - ETA: 6:24 - loss: 1.708 - ETA: 6:22 - loss: 1.707 - ETA: 6:20 - loss: 1.707 - ETA: 6:18 - loss: 1.706 - ETA: 6:17 - loss: 1.706 - ETA: 6:15 - loss: 1.704 - ETA: 6:13 - loss: 1.704 - ETA: 6:11 - loss: 1.704 - ETA: 6:09 - loss: 1.704 - ETA: 6:08 - loss: 1.704 - ETA: 6:06 - loss: 1.703 - ETA: 6:04 - loss: 1.703 - ETA: 6:02 - loss: 1.703 - ETA: 6:01 - loss: 1.702 - ETA: 5:59 - loss: 1.702 - ETA: 5:57 - loss: 1.700 - ETA: 5:59 - loss: 1.700 - ETA: 6:00 - loss: 1.699 - ETA: 5:58 - loss: 1.698 - ETA: 5:56 - loss: 1.697 - ETA: 5:54 - loss: 1.697 - ETA: 5:53 - loss: 1.696 - ETA: 5:51 - loss: 1.696 - ETA: 5:49 - loss: 1.696 - ETA: 5:48 - loss: 1.696 - ETA: 5:46 - loss: 1.696 - ETA: 5:44 - loss: 1.696 - ETA: 5:42 - loss: 1.696 - ETA: 5:40 - loss: 1.696 - ETA: 5:39 - loss: 1.695 - ETA: 5:37 - loss: 1.695 - ETA: 5:35 - loss: 1.693 - ETA: 5:34 - loss: 1.693 - ETA: 5:32 - loss: 1.693 - ETA: 5:30 - loss: 1.692 - ETA: 5:29 - loss: 1.691 - ETA: 5:27 - loss: 1.690 - ETA: 5:25 - loss: 1.690 - ETA: 5:23 - loss: 1.690 - ETA: 5:22 - loss: 1.689 - ETA: 5:20 - loss: 1.689 - ETA: 5:18 - loss: 1.689 - ETA: 5:16 - loss: 1.688 - ETA: 5:15 - loss: 1.688 - ETA: 5:13 - loss: 1.688 - ETA: 5:11 - loss: 1.687 - ETA: 5:09 - loss: 1.687 - ETA: 5:08 - loss: 1.686 - ETA: 5:06 - loss: 1.685 - ETA: 5:04 - loss: 1.685 - ETA: 5:03 - loss: 1.686 - ETA: 5:01 - loss: 1.686 - ETA: 4:59 - loss: 1.685 - ETA: 4:57 - loss: 1.685 - ETA: 4:56 - loss: 1.685 - ETA: 4:57 - loss: 1.684 - ETA: 4:56 - loss: 1.684 - ETA: 4:54 - loss: 1.683 - ETA: 4:52 - loss: 1.683 - ETA: 4:51 - loss: 1.683 - ETA: 4:49 - loss: 1.683 - ETA: 4:47 - loss: 1.683 - ETA: 4:45 - loss: 1.683 - ETA: 4:44 - loss: 1.682 - ETA: 4:42 - loss: 1.682 - ETA: 4:40 - loss: 1.682 - ETA: 4:39 - loss: 1.681 - ETA: 4:37 - loss: 1.682 - ETA: 4:35 - loss: 1.682 - ETA: 4:34 - loss: 1.681 - ETA: 4:32 - loss: 1.681 - ETA: 4:30 - loss: 1.681 - ETA: 4:29 - loss: 1.682 - ETA: 4:27 - loss: 1.682 - ETA: 4:25 - loss: 1.682 - ETA: 4:24 - loss: 1.681 - ETA: 4:22 - loss: 1.681 - ETA: 4:20 - loss: 1.681 - ETA: 4:19 - loss: 1.679 - ETA: 4:17 - loss: 1.679 - ETA: 4:15 - loss: 1.678 - ETA: 4:13 - loss: 1.678 - ETA: 4:12 - loss: 1.677 - ETA: 4:10 - loss: 1.677 - ETA: 4:08 - loss: 1.677 - ETA: 4:07 - loss: 1.677 - ETA: 4:05 - loss: 1.677 - ETA: 4:03 - loss: 1.676 - ETA: 4:02 - loss: 1.676 - ETA: 4:00 - loss: 1.676 - ETA: 3:58 - loss: 1.676 - ETA: 3:57 - loss: 1.676 - ETA: 3:55 - loss: 1.675 - ETA: 3:53 - loss: 1.675 - ETA: 3:53 - loss: 1.675 - ETA: 3:52 - loss: 1.675 - ETA: 3:50 - loss: 1.675 - ETA: 3:49 - loss: 1.675 - ETA: 3:47 - loss: 1.675 - ETA: 3:45 - loss: 1.675 - ETA: 3:44 - loss: 1.675 - ETA: 3:42 - loss: 1.675 - ETA: 3:40 - loss: 1.674 - ETA: 3:39 - loss: 1.674 - ETA: 3:37 - loss: 1.674 - ETA: 3:35 - loss: 1.674 - ETA: 3:34 - loss: 1.674 - ETA: 3:32 - loss: 1.673 - ETA: 3:30 - loss: 1.674 - ETA: 3:29 - loss: 1.673 - ETA: 3:27 - loss: 1.673 - ETA: 3:25 - loss: 1.673 - ETA: 3:24 - loss: 1.673 - ETA: 3:22 - loss: 1.672 - ETA: 3:20 - loss: 1.672 - ETA: 3:19 - loss: 1.672 - ETA: 3:17 - loss: 1.672 - ETA: 3:15 - loss: 1.671 - ETA: 3:14 - loss: 1.671 - ETA: 3:12 - loss: 1.670 - ETA: 3:10 - loss: 1.670 - ETA: 3:09 - loss: 1.670 - ETA: 3:07 - loss: 1.670 - ETA: 3:05 - loss: 1.669 - ETA: 3:04 - loss: 1.669 - ETA: 3:02 - loss: 1.668 - ETA: 3:01 - loss: 1.668 - ETA: 2:59 - loss: 1.668 - ETA: 2:57 - loss: 1.667 - ETA: 2:56 - loss: 1.667 - ETA: 2:54 - loss: 1.667 - ETA: 2:52 - loss: 1.666 - ETA: 2:51 - loss: 1.666 - ETA: 2:49 - loss: 1.665 - ETA: 2:47 - loss: 1.665 - ETA: 2:46 - loss: 1.664 - ETA: 2:44 - loss: 1.664 - ETA: 2:43 - loss: 1.664 - ETA: 2:41 - loss: 1.664 - ETA: 2:39 - loss: 1.663 - ETA: 2:38 - loss: 1.663 - ETA: 2:37 - loss: 1.662 - ETA: 2:35 - loss: 1.662 - ETA: 2:34 - loss: 1.662 - ETA: 2:32 - loss: 1.661 - ETA: 2:30 - loss: 1.661 - ETA: 2:29 - loss: 1.661 - ETA: 2:27 - loss: 1.661 - ETA: 2:25 - loss: 1.660 - ETA: 2:24 - loss: 1.660 - ETA: 2:22 - loss: 1.660 - ETA: 2:20 - loss: 1.660 - ETA: 2:19 - loss: 1.660 - ETA: 2:17 - loss: 1.659 - ETA: 2:16 - loss: 1.659 - ETA: 2:14 - loss: 1.659 - ETA: 2:12 - loss: 1.659 - ETA: 2:11 - loss: 1.659 - ETA: 2:09 - loss: 1.658 - ETA: 2:07 - loss: 1.658 - ETA: 2:06 - loss: 1.658 - ETA: 2:04 - loss: 1.658 - ETA: 2:03 - loss: 1.658 - ETA: 2:01 - loss: 1.658 - ETA: 1:59 - loss: 1.658 - ETA: 1:58 - loss: 1.658 - ETA: 1:56 - loss: 1.658 - ETA: 1:55 - loss: 1.657 - ETA: 1:53 - loss: 1.657 - ETA: 1:51 - loss: 1.657 - ETA: 1:50 - loss: 1.657 - ETA: 1:48 - loss: 1.657 - ETA: 1:46 - loss: 1.656 - ETA: 1:45 - loss: 1.656 - ETA: 1:43 - loss: 1.656 - ETA: 1:42 - loss: 1.656 - ETA: 1:40 - loss: 1.656 - ETA: 1:38 - loss: 1.656 - ETA: 1:37 - loss: 1.656 - ETA: 1:36 - loss: 1.655 - ETA: 1:34 - loss: 1.655 - ETA: 1:32 - loss: 1.655 - ETA: 1:31 - loss: 1.655 - ETA: 1:29 - loss: 1.655 - ETA: 1:27 - loss: 1.654 - ETA: 1:26 - loss: 1.655 - ETA: 1:24 - loss: 1.655 - ETA: 1:23 - loss: 1.655 - ETA: 1:21 - loss: 1.654 - ETA: 1:19 - loss: 1.654 - ETA: 1:18 - loss: 1.653 - ETA: 1:16 - loss: 1.653 - ETA: 1:15 - loss: 1.653 - ETA: 1:14 - loss: 1.653 - ETA: 1:12 - loss: 1.652 - ETA: 1:10 - loss: 1.652 - ETA: 1:09 - loss: 1.652 - ETA: 1:07 - loss: 1.652 - ETA: 1:05 - loss: 1.652 - ETA: 1:04 - loss: 1.652 - ETA: 1:02 - loss: 1.651 - ETA: 1:00 - loss: 1.651 - ETA: 59s - loss: 1.651 - ETA: 57s - loss: 1.65 - ETA: 55s - loss: 1.65 - ETA: 54s - loss: 1.65 - ETA: 52s - loss: 1.65 - ETA: 50s - loss: 1.65 - ETA: 49s - loss: 1.64 - ETA: 47s - loss: 1.64 - ETA: 46s - loss: 1.64 - ETA: 44s - loss: 1.64 - ETA: 42s - loss: 1.64 - ETA: 41s - loss: 1.64 - ETA: 39s - loss: 1.64 - ETA: 37s - loss: 1.64 - ETA: 36s - loss: 1.64 - ETA: 34s - loss: 1.64 - ETA: 32s - loss: 1.64 - ETA: 31s - loss: 1.64 - ETA: 29s - loss: 1.64 - ETA: 27s - loss: 1.64 - ETA: 26s - loss: 1.64 - ETA: 24s - loss: 1.64 - ETA: 22s - loss: 1.64 - ETA: 21s - loss: 1.64 - ETA: 19s - loss: 1.64 - ETA: 18s - loss: 1.64 - ETA: 16s - loss: 1.64 - ETA: 14s - loss: 1.64 - ETA: 13s - loss: 1.64 - ETA: 11s - loss: 1.64 - ETA: 9s - loss: 1.6460 - ETA: 8s - loss: 1.646 - ETA: 6s - loss: 1.645 - ETA: 4s - loss: 1.645 - ETA: 3s - loss: 1.645 - ETA: 1s - loss: 1.645 - 532s 2s/step - loss: 1.6452 - val_loss: 1.6157\n",
      "Epoch 5/20\n"
     ]
    },
    {
     "name": "stdout",
     "output_type": "stream",
     "text": [
      "300/300 [==============================] - ETA: 7:42 - loss: 1.511 - ETA: 7:39 - loss: 1.495 - ETA: 7:38 - loss: 1.510 - ETA: 7:38 - loss: 1.524 - ETA: 7:35 - loss: 1.532 - ETA: 7:33 - loss: 1.533 - ETA: 7:31 - loss: 1.538 - ETA: 7:31 - loss: 1.530 - ETA: 7:31 - loss: 1.542 - ETA: 7:29 - loss: 1.541 - ETA: 7:28 - loss: 1.538 - ETA: 7:26 - loss: 1.538 - ETA: 7:26 - loss: 1.542 - ETA: 7:27 - loss: 1.546 - ETA: 7:25 - loss: 1.550 - ETA: 7:23 - loss: 1.554 - ETA: 7:21 - loss: 1.557 - ETA: 7:20 - loss: 1.556 - ETA: 7:25 - loss: 1.554 - ETA: 7:46 - loss: 1.554 - ETA: 8:11 - loss: 1.551 - ETA: 8:16 - loss: 1.549 - ETA: 8:11 - loss: 1.546 - ETA: 8:07 - loss: 1.548 - ETA: 8:03 - loss: 1.549 - ETA: 7:59 - loss: 1.549 - ETA: 7:55 - loss: 1.549 - ETA: 7:52 - loss: 1.549 - ETA: 7:48 - loss: 1.551 - ETA: 7:45 - loss: 1.549 - ETA: 7:42 - loss: 1.551 - ETA: 7:39 - loss: 1.550 - ETA: 7:37 - loss: 1.550 - ETA: 7:34 - loss: 1.550 - ETA: 7:31 - loss: 1.548 - ETA: 7:28 - loss: 1.550 - ETA: 7:25 - loss: 1.551 - ETA: 7:22 - loss: 1.551 - ETA: 7:20 - loss: 1.549 - ETA: 7:17 - loss: 1.551 - ETA: 7:15 - loss: 1.550 - ETA: 7:12 - loss: 1.550 - ETA: 7:10 - loss: 1.550 - ETA: 7:07 - loss: 1.549 - ETA: 7:05 - loss: 1.547 - ETA: 7:03 - loss: 1.548 - ETA: 7:01 - loss: 1.548 - ETA: 6:58 - loss: 1.549 - ETA: 6:56 - loss: 1.547 - ETA: 6:54 - loss: 1.546 - ETA: 6:53 - loss: 1.546 - ETA: 6:51 - loss: 1.546 - ETA: 6:49 - loss: 1.544 - ETA: 6:47 - loss: 1.544 - ETA: 6:45 - loss: 1.544 - ETA: 6:43 - loss: 1.545 - ETA: 6:41 - loss: 1.545 - ETA: 6:39 - loss: 1.544 - ETA: 6:37 - loss: 1.544 - ETA: 6:35 - loss: 1.544 - ETA: 6:34 - loss: 1.544 - ETA: 6:32 - loss: 1.544 - ETA: 6:30 - loss: 1.545 - ETA: 6:28 - loss: 1.544 - ETA: 6:26 - loss: 1.544 - ETA: 6:24 - loss: 1.543 - ETA: 6:22 - loss: 1.543 - ETA: 6:20 - loss: 1.543 - ETA: 6:18 - loss: 1.543 - ETA: 6:16 - loss: 1.543 - ETA: 6:14 - loss: 1.542 - ETA: 6:12 - loss: 1.543 - ETA: 6:10 - loss: 1.543 - ETA: 6:08 - loss: 1.544 - ETA: 6:07 - loss: 1.544 - ETA: 6:05 - loss: 1.543 - ETA: 6:03 - loss: 1.544 - ETA: 6:01 - loss: 1.544 - ETA: 5:59 - loss: 1.544 - ETA: 5:58 - loss: 1.544 - ETA: 5:56 - loss: 1.545 - ETA: 5:54 - loss: 1.543 - ETA: 5:52 - loss: 1.542 - ETA: 5:50 - loss: 1.542 - ETA: 5:49 - loss: 1.542 - ETA: 5:47 - loss: 1.541 - ETA: 5:45 - loss: 1.541 - ETA: 5:44 - loss: 1.541 - ETA: 5:43 - loss: 1.540 - ETA: 5:43 - loss: 1.540 - ETA: 5:44 - loss: 1.539 - ETA: 5:42 - loss: 1.538 - ETA: 5:41 - loss: 1.538 - ETA: 5:39 - loss: 1.538 - ETA: 5:37 - loss: 1.538 - ETA: 5:35 - loss: 1.538 - ETA: 5:34 - loss: 1.538 - ETA: 5:32 - loss: 1.538 - ETA: 5:30 - loss: 1.538 - ETA: 5:28 - loss: 1.538 - ETA: 5:26 - loss: 1.538 - ETA: 5:24 - loss: 1.537 - ETA: 5:23 - loss: 1.537 - ETA: 5:21 - loss: 1.537 - ETA: 5:19 - loss: 1.537 - ETA: 5:17 - loss: 1.536 - ETA: 5:15 - loss: 1.536 - ETA: 5:14 - loss: 1.537 - ETA: 5:12 - loss: 1.538 - ETA: 5:10 - loss: 1.537 - ETA: 5:08 - loss: 1.537 - ETA: 5:07 - loss: 1.537 - ETA: 5:05 - loss: 1.537 - ETA: 5:03 - loss: 1.536 - ETA: 5:01 - loss: 1.537 - ETA: 5:00 - loss: 1.537 - ETA: 4:58 - loss: 1.537 - ETA: 4:56 - loss: 1.536 - ETA: 4:54 - loss: 1.535 - ETA: 4:53 - loss: 1.536 - ETA: 4:51 - loss: 1.535 - ETA: 4:49 - loss: 1.536 - ETA: 4:47 - loss: 1.537 - ETA: 4:46 - loss: 1.538 - ETA: 4:44 - loss: 1.538 - ETA: 4:43 - loss: 1.537 - ETA: 4:41 - loss: 1.537 - ETA: 4:39 - loss: 1.537 - ETA: 4:37 - loss: 1.536 - ETA: 4:36 - loss: 1.536 - ETA: 4:34 - loss: 1.535 - ETA: 4:35 - loss: 1.535 - ETA: 4:33 - loss: 1.535 - ETA: 4:32 - loss: 1.536 - ETA: 4:30 - loss: 1.535 - ETA: 4:28 - loss: 1.535 - ETA: 4:27 - loss: 1.535 - ETA: 4:25 - loss: 1.536 - ETA: 4:23 - loss: 1.536 - ETA: 4:21 - loss: 1.536 - ETA: 4:20 - loss: 1.536 - ETA: 4:18 - loss: 1.536 - ETA: 4:16 - loss: 1.536 - ETA: 4:14 - loss: 1.536 - ETA: 4:13 - loss: 1.536 - ETA: 4:11 - loss: 1.535 - ETA: 4:09 - loss: 1.535 - ETA: 4:08 - loss: 1.535 - ETA: 4:06 - loss: 1.535 - ETA: 4:04 - loss: 1.535 - ETA: 4:02 - loss: 1.535 - ETA: 4:01 - loss: 1.534 - ETA: 3:59 - loss: 1.534 - ETA: 3:57 - loss: 1.534 - ETA: 3:56 - loss: 1.533 - ETA: 3:54 - loss: 1.533 - ETA: 3:52 - loss: 1.533 - ETA: 3:51 - loss: 1.533 - ETA: 3:49 - loss: 1.532 - ETA: 3:47 - loss: 1.533 - ETA: 3:46 - loss: 1.533 - ETA: 3:44 - loss: 1.532 - ETA: 3:42 - loss: 1.532 - ETA: 3:41 - loss: 1.531 - ETA: 3:39 - loss: 1.531 - ETA: 3:37 - loss: 1.530 - ETA: 3:36 - loss: 1.530 - ETA: 3:34 - loss: 1.530 - ETA: 3:32 - loss: 1.529 - ETA: 3:31 - loss: 1.529 - ETA: 3:29 - loss: 1.529 - ETA: 3:27 - loss: 1.530 - ETA: 3:26 - loss: 1.530 - ETA: 3:24 - loss: 1.530 - ETA: 3:22 - loss: 1.529 - ETA: 3:21 - loss: 1.529 - ETA: 3:19 - loss: 1.529 - ETA: 3:17 - loss: 1.530 - ETA: 3:16 - loss: 1.530 - ETA: 3:15 - loss: 1.530 - ETA: 3:14 - loss: 1.530 - ETA: 3:12 - loss: 1.530 - ETA: 3:10 - loss: 1.530 - ETA: 3:09 - loss: 1.531 - ETA: 3:07 - loss: 1.531 - ETA: 3:05 - loss: 1.530 - ETA: 3:04 - loss: 1.530 - ETA: 3:02 - loss: 1.530 - ETA: 3:00 - loss: 1.530 - ETA: 2:59 - loss: 1.530 - ETA: 2:57 - loss: 1.529 - ETA: 2:55 - loss: 1.529 - ETA: 2:54 - loss: 1.529 - ETA: 2:52 - loss: 1.528 - ETA: 2:50 - loss: 1.528 - ETA: 2:49 - loss: 1.528 - ETA: 2:47 - loss: 1.527 - ETA: 2:45 - loss: 1.527 - ETA: 2:44 - loss: 1.527 - ETA: 2:42 - loss: 1.527 - ETA: 2:40 - loss: 1.527 - ETA: 2:39 - loss: 1.528 - ETA: 2:37 - loss: 1.528 - ETA: 2:35 - loss: 1.528 - ETA: 2:34 - loss: 1.527 - ETA: 2:32 - loss: 1.527 - ETA: 2:30 - loss: 1.527 - ETA: 2:29 - loss: 1.527 - ETA: 2:27 - loss: 1.527 - ETA: 2:26 - loss: 1.527 - ETA: 2:24 - loss: 1.527 - ETA: 2:22 - loss: 1.527 - ETA: 2:21 - loss: 1.527 - ETA: 2:19 - loss: 1.527 - ETA: 2:17 - loss: 1.526 - ETA: 2:16 - loss: 1.526 - ETA: 2:14 - loss: 1.526 - ETA: 2:12 - loss: 1.527 - ETA: 2:11 - loss: 1.527 - ETA: 2:09 - loss: 1.526 - ETA: 2:07 - loss: 1.526 - ETA: 2:06 - loss: 1.526 - ETA: 2:04 - loss: 1.526 - ETA: 2:03 - loss: 1.525 - ETA: 2:01 - loss: 1.526 - ETA: 1:59 - loss: 1.526 - ETA: 1:58 - loss: 1.525 - ETA: 1:57 - loss: 1.525 - ETA: 1:55 - loss: 1.525 - ETA: 1:53 - loss: 1.525 - ETA: 1:52 - loss: 1.525 - ETA: 1:50 - loss: 1.524 - ETA: 1:48 - loss: 1.524 - ETA: 1:47 - loss: 1.524 - ETA: 1:45 - loss: 1.524 - ETA: 1:44 - loss: 1.524 - ETA: 1:42 - loss: 1.524 - ETA: 1:40 - loss: 1.523 - ETA: 1:39 - loss: 1.523 - ETA: 1:37 - loss: 1.523 - ETA: 1:35 - loss: 1.523 - ETA: 1:34 - loss: 1.523 - ETA: 1:32 - loss: 1.523 - ETA: 1:31 - loss: 1.523 - ETA: 1:30 - loss: 1.523 - ETA: 1:28 - loss: 1.523 - ETA: 1:27 - loss: 1.523 - ETA: 1:25 - loss: 1.522 - ETA: 1:23 - loss: 1.522 - ETA: 1:22 - loss: 1.522 - ETA: 1:20 - loss: 1.522 - ETA: 1:18 - loss: 1.521 - ETA: 1:17 - loss: 1.521 - ETA: 1:15 - loss: 1.521 - ETA: 1:13 - loss: 1.521 - ETA: 1:12 - loss: 1.521 - ETA: 1:10 - loss: 1.521 - ETA: 1:08 - loss: 1.521 - ETA: 1:07 - loss: 1.521 - ETA: 1:05 - loss: 1.521 - ETA: 1:03 - loss: 1.520 - ETA: 1:02 - loss: 1.521 - ETA: 1:00 - loss: 1.521 - ETA: 58s - loss: 1.521 - ETA: 57s - loss: 1.52 - ETA: 55s - loss: 1.52 - ETA: 54s - loss: 1.52 - ETA: 52s - loss: 1.52 - ETA: 50s - loss: 1.52 - ETA: 49s - loss: 1.52 - ETA: 47s - loss: 1.52 - ETA: 45s - loss: 1.52 - ETA: 44s - loss: 1.51 - ETA: 42s - loss: 1.51 - ETA: 40s - loss: 1.51 - ETA: 39s - loss: 1.51 - ETA: 37s - loss: 1.51 - ETA: 35s - loss: 1.51 - ETA: 34s - loss: 1.51 - ETA: 32s - loss: 1.51 - ETA: 31s - loss: 1.51 - ETA: 29s - loss: 1.51 - ETA: 27s - loss: 1.51 - ETA: 26s - loss: 1.51 - ETA: 24s - loss: 1.51 - ETA: 22s - loss: 1.51 - ETA: 21s - loss: 1.51 - ETA: 19s - loss: 1.51 - ETA: 17s - loss: 1.51 - ETA: 16s - loss: 1.51 - ETA: 14s - loss: 1.51 - ETA: 13s - loss: 1.51 - ETA: 11s - loss: 1.51 - ETA: 9s - loss: 1.5175 - ETA: 8s - loss: 1.517 - ETA: 6s - loss: 1.517 - ETA: 4s - loss: 1.517 - ETA: 3s - loss: 1.517 - ETA: 1s - loss: 1.517 - 534s 2s/step - loss: 1.5175 - val_loss: 1.5160\n",
      "Epoch 6/20\n",
      "300/300 [==============================] - ETA: 7:50 - loss: 1.411 - ETA: 7:44 - loss: 1.415 - ETA: 7:43 - loss: 1.463 - ETA: 7:41 - loss: 1.446 - ETA: 7:41 - loss: 1.452 - ETA: 7:39 - loss: 1.451 - ETA: 7:36 - loss: 1.458 - ETA: 7:37 - loss: 1.466 - ETA: 7:38 - loss: 1.459 - ETA: 7:36 - loss: 1.460 - ETA: 7:33 - loss: 1.467 - ETA: 7:31 - loss: 1.466 - ETA: 7:30 - loss: 1.457 - ETA: 7:29 - loss: 1.454 - ETA: 7:27 - loss: 1.453 - ETA: 7:25 - loss: 1.445 - ETA: 7:23 - loss: 1.447 - ETA: 7:22 - loss: 1.442 - ETA: 7:21 - loss: 1.442 - ETA: 7:18 - loss: 1.440 - ETA: 7:17 - loss: 1.444 - ETA: 7:15 - loss: 1.439 - ETA: 7:13 - loss: 1.442 - ETA: 7:11 - loss: 1.443 - ETA: 7:10 - loss: 1.442 - ETA: 7:08 - loss: 1.438 - ETA: 7:08 - loss: 1.436 - ETA: 7:07 - loss: 1.436 - ETA: 7:05 - loss: 1.436 - ETA: 7:03 - loss: 1.438 - ETA: 7:01 - loss: 1.435 - ETA: 7:00 - loss: 1.432 - ETA: 6:59 - loss: 1.430 - ETA: 6:57 - loss: 1.431 - ETA: 6:55 - loss: 1.432 - ETA: 6:54 - loss: 1.432 - ETA: 6:52 - loss: 1.429 - ETA: 6:50 - loss: 1.429 - ETA: 6:48 - loss: 1.428 - ETA: 6:47 - loss: 1.429 - ETA: 6:45 - loss: 1.429 - ETA: 6:44 - loss: 1.429 - ETA: 6:42 - loss: 1.430 - ETA: 6:40 - loss: 1.430 - ETA: 6:39 - loss: 1.433 - ETA: 6:37 - loss: 1.433 - ETA: 6:36 - loss: 1.433 - ETA: 6:34 - loss: 1.435 - ETA: 6:32 - loss: 1.436 - ETA: 6:31 - loss: 1.436 - ETA: 6:29 - loss: 1.435 - ETA: 6:27 - loss: 1.433 - ETA: 6:26 - loss: 1.434 - ETA: 6:24 - loss: 1.432 - ETA: 6:23 - loss: 1.430 - ETA: 6:21 - loss: 1.431 - ETA: 6:20 - loss: 1.431 - ETA: 6:18 - loss: 1.431 - ETA: 6:17 - loss: 1.431 - ETA: 6:15 - loss: 1.431 - ETA: 6:14 - loss: 1.431 - ETA: 6:12 - loss: 1.430 - ETA: 6:10 - loss: 1.431 - ETA: 6:09 - loss: 1.429 - ETA: 6:07 - loss: 1.429 - ETA: 6:06 - loss: 1.429 - ETA: 6:04 - loss: 1.429 - ETA: 6:02 - loss: 1.430 - ETA: 6:01 - loss: 1.430 - ETA: 5:59 - loss: 1.429 - ETA: 5:58 - loss: 1.429 - ETA: 5:56 - loss: 1.429 - ETA: 5:54 - loss: 1.429 - ETA: 5:53 - loss: 1.428 - ETA: 5:51 - loss: 1.428 - ETA: 5:50 - loss: 1.429 - ETA: 5:48 - loss: 1.429 - ETA: 5:46 - loss: 1.427 - ETA: 5:45 - loss: 1.427 - ETA: 5:43 - loss: 1.426 - ETA: 5:42 - loss: 1.426 - ETA: 5:40 - loss: 1.428 - ETA: 5:39 - loss: 1.428 - ETA: 5:37 - loss: 1.429 - ETA: 5:35 - loss: 1.427 - ETA: 5:34 - loss: 1.426 - ETA: 5:32 - loss: 1.427 - ETA: 5:33 - loss: 1.427 - ETA: 5:34 - loss: 1.426 - ETA: 5:33 - loss: 1.427 - ETA: 5:31 - loss: 1.427 - ETA: 5:29 - loss: 1.428 - ETA: 5:28 - loss: 1.429 - ETA: 5:26 - loss: 1.430 - ETA: 5:25 - loss: 1.430 - ETA: 5:23 - loss: 1.429 - ETA: 5:21 - loss: 1.429 - ETA: 5:20 - loss: 1.429 - ETA: 5:18 - loss: 1.429 - ETA: 5:17 - loss: 1.430 - ETA: 5:15 - loss: 1.429 - ETA: 5:13 - loss: 1.429 - ETA: 5:12 - loss: 1.430 - ETA: 5:10 - loss: 1.430 - ETA: 5:08 - loss: 1.430 - ETA: 5:07 - loss: 1.431 - ETA: 5:05 - loss: 1.431 - ETA: 5:04 - loss: 1.432 - ETA: 5:02 - loss: 1.432 - ETA: 5:00 - loss: 1.433 - ETA: 4:59 - loss: 1.433 - ETA: 4:57 - loss: 1.432 - ETA: 4:59 - loss: 1.432 - ETA: 4:57 - loss: 1.432 - ETA: 4:56 - loss: 1.432 - ETA: 4:54 - loss: 1.432 - ETA: 4:52 - loss: 1.433 - ETA: 4:51 - loss: 1.433 - ETA: 4:49 - loss: 1.432 - ETA: 4:48 - loss: 1.433 - ETA: 4:46 - loss: 1.433 - ETA: 4:44 - loss: 1.433 - ETA: 4:43 - loss: 1.433 - ETA: 4:41 - loss: 1.433 - ETA: 4:39 - loss: 1.432 - ETA: 4:38 - loss: 1.433 - ETA: 4:36 - loss: 1.432 - ETA: 4:34 - loss: 1.432 - ETA: 4:33 - loss: 1.432 - ETA: 4:31 - loss: 1.431 - ETA: 4:29 - loss: 1.431 - ETA: 4:28 - loss: 1.431 - ETA: 4:26 - loss: 1.431 - ETA: 4:24 - loss: 1.430 - ETA: 4:23 - loss: 1.431 - ETA: 4:21 - loss: 1.431 - ETA: 4:21 - loss: 1.431 - ETA: 4:20 - loss: 1.431 - ETA: 4:18 - loss: 1.430 - ETA: 4:17 - loss: 1.430 - ETA: 4:15 - loss: 1.431 - ETA: 4:13 - loss: 1.431 - ETA: 4:12 - loss: 1.430 - ETA: 4:10 - loss: 1.430 - ETA: 4:09 - loss: 1.430 - ETA: 4:07 - loss: 1.430 - ETA: 4:05 - loss: 1.431 - ETA: 4:04 - loss: 1.430 - ETA: 4:02 - loss: 1.431 - ETA: 4:00 - loss: 1.430 - ETA: 3:59 - loss: 1.431 - ETA: 3:57 - loss: 1.431 - ETA: 3:55 - loss: 1.431 - ETA: 3:54 - loss: 1.431 - ETA: 3:52 - loss: 1.431 - ETA: 3:50 - loss: 1.431 - ETA: 3:49 - loss: 1.431 - ETA: 3:47 - loss: 1.431 - ETA: 3:45 - loss: 1.431 - ETA: 3:44 - loss: 1.431 - ETA: 3:42 - loss: 1.431 - ETA: 3:42 - loss: 1.432 - ETA: 3:41 - loss: 1.431 - ETA: 3:39 - loss: 1.432 - ETA: 3:37 - loss: 1.432 - ETA: 3:36 - loss: 1.431 - ETA: 3:34 - loss: 1.431 - ETA: 3:32 - loss: 1.431 - ETA: 3:31 - loss: 1.432 - ETA: 3:29 - loss: 1.431 - ETA: 3:28 - loss: 1.432 - ETA: 3:26 - loss: 1.431 - ETA: 3:24 - loss: 1.431 - ETA: 3:23 - loss: 1.431 - ETA: 3:21 - loss: 1.431 - ETA: 3:19 - loss: 1.431 - ETA: 3:18 - loss: 1.431 - ETA: 3:16 - loss: 1.432 - ETA: 3:15 - loss: 1.431 - ETA: 3:13 - loss: 1.432 - ETA: 3:11 - loss: 1.431 - ETA: 3:10 - loss: 1.432 - ETA: 3:08 - loss: 1.432 - ETA: 3:07 - loss: 1.432 - ETA: 3:05 - loss: 1.432 - ETA: 3:03 - loss: 1.433 - ETA: 3:02 - loss: 1.433 - ETA: 3:00 - loss: 1.433 - ETA: 2:59 - loss: 1.433 - ETA: 2:57 - loss: 1.433 - ETA: 2:55 - loss: 1.433 - ETA: 2:54 - loss: 1.433 - ETA: 2:52 - loss: 1.432 - ETA: 2:50 - loss: 1.432 - ETA: 2:49 - loss: 1.432 - ETA: 2:47 - loss: 1.432 - ETA: 2:46 - loss: 1.433 - ETA: 2:44 - loss: 1.433 - ETA: 2:42 - loss: 1.432 - ETA: 2:41 - loss: 1.432 - ETA: 2:39 - loss: 1.432 - ETA: 2:38 - loss: 1.432 - ETA: 2:37 - loss: 1.432 - ETA: 2:35 - loss: 1.432 - ETA: 2:34 - loss: 1.432 - ETA: 2:32 - loss: 1.432 - ETA: 2:31 - loss: 1.432 - ETA: 2:29 - loss: 1.432 - ETA: 2:27 - loss: 1.432 - ETA: 2:26 - loss: 1.431 - ETA: 2:24 - loss: 1.431 - ETA: 2:22 - loss: 1.431 - ETA: 2:21 - loss: 1.431 - ETA: 2:19 - loss: 1.431 - ETA: 2:18 - loss: 1.431 - ETA: 2:16 - loss: 1.431 - ETA: 2:14 - loss: 1.431 - ETA: 2:13 - loss: 1.431 - ETA: 2:11 - loss: 1.431 - ETA: 2:09 - loss: 1.431 - ETA: 2:08 - loss: 1.430 - ETA: 2:06 - loss: 1.430 - ETA: 2:04 - loss: 1.430 - ETA: 2:03 - loss: 1.430 - ETA: 2:01 - loss: 1.429 - ETA: 1:59 - loss: 1.429 - ETA: 1:58 - loss: 1.430 - ETA: 1:56 - loss: 1.429 - ETA: 1:55 - loss: 1.429 - ETA: 1:53 - loss: 1.429 - ETA: 1:51 - loss: 1.429 - ETA: 1:50 - loss: 1.429 - ETA: 1:48 - loss: 1.429 - ETA: 1:46 - loss: 1.430 - ETA: 1:45 - loss: 1.430 - ETA: 1:43 - loss: 1.430 - ETA: 1:41 - loss: 1.430 - ETA: 1:40 - loss: 1.430 - ETA: 1:38 - loss: 1.430 - ETA: 1:37 - loss: 1.430 - ETA: 1:35 - loss: 1.430 - ETA: 1:34 - loss: 1.430 - ETA: 1:32 - loss: 1.431 - ETA: 1:30 - loss: 1.430 - ETA: 1:29 - loss: 1.430 - ETA: 1:27 - loss: 1.430 - ETA: 1:26 - loss: 1.430 - ETA: 1:24 - loss: 1.430 - ETA: 1:22 - loss: 1.431 - ETA: 1:21 - loss: 1.431 - ETA: 1:19 - loss: 1.430 - ETA: 1:17 - loss: 1.430 - ETA: 1:16 - loss: 1.430 - ETA: 1:14 - loss: 1.430 - ETA: 1:13 - loss: 1.429 - ETA: 1:11 - loss: 1.429 - ETA: 1:09 - loss: 1.429 - ETA: 1:08 - loss: 1.429 - ETA: 1:06 - loss: 1.429 - ETA: 1:04 - loss: 1.429 - ETA: 1:03 - loss: 1.428 - ETA: 1:01 - loss: 1.428 - ETA: 59s - loss: 1.428 - ETA: 58s - loss: 1.42 - ETA: 56s - loss: 1.42 - ETA: 55s - loss: 1.42 - ETA: 53s - loss: 1.42 - ETA: 51s - loss: 1.42 - ETA: 50s - loss: 1.42 - ETA: 48s - loss: 1.42 - ETA: 46s - loss: 1.42 - ETA: 45s - loss: 1.42 - ETA: 43s - loss: 1.42 - ETA: 42s - loss: 1.42 - ETA: 40s - loss: 1.42 - ETA: 38s - loss: 1.42 - ETA: 37s - loss: 1.42 - ETA: 35s - loss: 1.42 - ETA: 33s - loss: 1.42 - ETA: 32s - loss: 1.42 - ETA: 30s - loss: 1.42 - ETA: 29s - loss: 1.42 - ETA: 27s - loss: 1.42 - ETA: 25s - loss: 1.42 - ETA: 24s - loss: 1.42 - ETA: 22s - loss: 1.42 - ETA: 21s - loss: 1.42 - ETA: 19s - loss: 1.42 - ETA: 17s - loss: 1.42 - ETA: 16s - loss: 1.42 - ETA: 14s - loss: 1.42 - ETA: 12s - loss: 1.42 - ETA: 11s - loss: 1.42 - ETA: 9s - loss: 1.4281 - ETA: 8s - loss: 1.428 - ETA: 6s - loss: 1.428 - ETA: 4s - loss: 1.427 - ETA: 3s - loss: 1.427 - ETA: 1s - loss: 1.427 - 529s 2s/step - loss: 1.4278 - val_loss: 1.4599\n",
      "Epoch 7/20\n"
     ]
    },
    {
     "name": "stdout",
     "output_type": "stream",
     "text": [
      "300/300 [==============================] - ETA: 7:48 - loss: 1.368 - ETA: 7:42 - loss: 1.342 - ETA: 7:42 - loss: 1.345 - ETA: 7:42 - loss: 1.346 - ETA: 7:43 - loss: 1.349 - ETA: 7:40 - loss: 1.346 - ETA: 7:37 - loss: 1.363 - ETA: 7:35 - loss: 1.355 - ETA: 7:34 - loss: 1.352 - ETA: 7:33 - loss: 1.359 - ETA: 7:30 - loss: 1.359 - ETA: 7:28 - loss: 1.354 - ETA: 7:27 - loss: 1.350 - ETA: 7:26 - loss: 1.356 - ETA: 7:24 - loss: 1.356 - ETA: 7:22 - loss: 1.355 - ETA: 7:19 - loss: 1.353 - ETA: 7:18 - loss: 1.350 - ETA: 7:17 - loss: 1.351 - ETA: 7:15 - loss: 1.351 - ETA: 7:13 - loss: 1.352 - ETA: 7:13 - loss: 1.355 - ETA: 7:12 - loss: 1.354 - ETA: 7:11 - loss: 1.357 - ETA: 7:11 - loss: 1.361 - ETA: 7:11 - loss: 1.359 - ETA: 7:10 - loss: 1.357 - ETA: 7:09 - loss: 1.354 - ETA: 7:07 - loss: 1.355 - ETA: 7:05 - loss: 1.358 - ETA: 7:03 - loss: 1.359 - ETA: 7:02 - loss: 1.358 - ETA: 7:01 - loss: 1.357 - ETA: 6:59 - loss: 1.354 - ETA: 6:57 - loss: 1.351 - ETA: 6:55 - loss: 1.351 - ETA: 6:55 - loss: 1.352 - ETA: 6:53 - loss: 1.352 - ETA: 6:51 - loss: 1.350 - ETA: 6:49 - loss: 1.350 - ETA: 6:48 - loss: 1.352 - ETA: 6:46 - loss: 1.353 - ETA: 6:45 - loss: 1.353 - ETA: 6:43 - loss: 1.355 - ETA: 6:42 - loss: 1.352 - ETA: 6:40 - loss: 1.353 - ETA: 6:39 - loss: 1.352 - ETA: 6:37 - loss: 1.352 - ETA: 6:35 - loss: 1.351 - ETA: 6:34 - loss: 1.350 - ETA: 6:32 - loss: 1.352 - ETA: 6:30 - loss: 1.351 - ETA: 6:29 - loss: 1.351 - ETA: 6:27 - loss: 1.352 - ETA: 6:25 - loss: 1.352 - ETA: 6:24 - loss: 1.352 - ETA: 6:22 - loss: 1.352 - ETA: 6:21 - loss: 1.352 - ETA: 6:19 - loss: 1.352 - ETA: 6:17 - loss: 1.352 - ETA: 6:16 - loss: 1.352 - ETA: 6:14 - loss: 1.353 - ETA: 6:12 - loss: 1.354 - ETA: 6:11 - loss: 1.354 - ETA: 6:09 - loss: 1.355 - ETA: 6:08 - loss: 1.355 - ETA: 6:06 - loss: 1.356 - ETA: 6:04 - loss: 1.357 - ETA: 6:02 - loss: 1.358 - ETA: 6:01 - loss: 1.357 - ETA: 5:59 - loss: 1.359 - ETA: 5:58 - loss: 1.358 - ETA: 5:56 - loss: 1.357 - ETA: 5:55 - loss: 1.358 - ETA: 5:53 - loss: 1.357 - ETA: 5:56 - loss: 1.358 - ETA: 5:56 - loss: 1.358 - ETA: 5:54 - loss: 1.358 - ETA: 5:53 - loss: 1.358 - ETA: 5:51 - loss: 1.358 - ETA: 5:49 - loss: 1.358 - ETA: 5:48 - loss: 1.359 - ETA: 5:46 - loss: 1.358 - ETA: 5:44 - loss: 1.357 - ETA: 5:43 - loss: 1.357 - ETA: 5:41 - loss: 1.358 - ETA: 5:39 - loss: 1.358 - ETA: 5:38 - loss: 1.357 - ETA: 5:36 - loss: 1.358 - ETA: 5:34 - loss: 1.358 - ETA: 5:33 - loss: 1.358 - ETA: 5:31 - loss: 1.358 - ETA: 5:29 - loss: 1.358 - ETA: 5:28 - loss: 1.358 - ETA: 5:26 - loss: 1.358 - ETA: 5:24 - loss: 1.359 - ETA: 5:23 - loss: 1.360 - ETA: 5:21 - loss: 1.360 - ETA: 5:19 - loss: 1.360 - ETA: 5:18 - loss: 1.360 - ETA: 5:16 - loss: 1.360 - ETA: 5:14 - loss: 1.360 - ETA: 5:13 - loss: 1.360 - ETA: 5:11 - loss: 1.359 - ETA: 5:11 - loss: 1.359 - ETA: 5:11 - loss: 1.359 - ETA: 5:10 - loss: 1.359 - ETA: 5:08 - loss: 1.359 - ETA: 5:06 - loss: 1.360 - ETA: 5:05 - loss: 1.360 - ETA: 5:03 - loss: 1.361 - ETA: 5:02 - loss: 1.361 - ETA: 5:00 - loss: 1.361 - ETA: 4:58 - loss: 1.360 - ETA: 4:56 - loss: 1.360 - ETA: 4:55 - loss: 1.361 - ETA: 4:53 - loss: 1.361 - ETA: 4:51 - loss: 1.362 - ETA: 4:50 - loss: 1.361 - ETA: 4:48 - loss: 1.362 - ETA: 4:46 - loss: 1.362 - ETA: 4:45 - loss: 1.362 - ETA: 4:43 - loss: 1.362 - ETA: 4:41 - loss: 1.361 - ETA: 4:40 - loss: 1.361 - ETA: 4:38 - loss: 1.361 - ETA: 4:37 - loss: 1.361 - ETA: 4:35 - loss: 1.361 - ETA: 4:33 - loss: 1.361 - ETA: 4:32 - loss: 1.361 - ETA: 4:30 - loss: 1.361 - ETA: 4:28 - loss: 1.361 - ETA: 4:27 - loss: 1.361 - ETA: 4:25 - loss: 1.361 - ETA: 4:23 - loss: 1.362 - ETA: 4:23 - loss: 1.362 - ETA: 4:23 - loss: 1.362 - ETA: 4:21 - loss: 1.362 - ETA: 4:19 - loss: 1.363 - ETA: 4:18 - loss: 1.363 - ETA: 4:16 - loss: 1.363 - ETA: 4:14 - loss: 1.362 - ETA: 4:13 - loss: 1.362 - ETA: 4:11 - loss: 1.361 - ETA: 4:09 - loss: 1.362 - ETA: 4:08 - loss: 1.361 - ETA: 4:06 - loss: 1.361 - ETA: 4:04 - loss: 1.361 - ETA: 4:03 - loss: 1.361 - ETA: 4:01 - loss: 1.361 - ETA: 3:59 - loss: 1.362 - ETA: 3:58 - loss: 1.361 - ETA: 3:56 - loss: 1.362 - ETA: 3:54 - loss: 1.362 - ETA: 3:53 - loss: 1.362 - ETA: 3:51 - loss: 1.362 - ETA: 3:49 - loss: 1.362 - ETA: 3:48 - loss: 1.362 - ETA: 3:46 - loss: 1.362 - ETA: 3:45 - loss: 1.363 - ETA: 3:43 - loss: 1.363 - ETA: 3:41 - loss: 1.362 - ETA: 3:40 - loss: 1.362 - ETA: 3:38 - loss: 1.362 - ETA: 3:36 - loss: 1.363 - ETA: 3:35 - loss: 1.363 - ETA: 3:33 - loss: 1.363 - ETA: 3:31 - loss: 1.363 - ETA: 3:30 - loss: 1.364 - ETA: 3:28 - loss: 1.363 - ETA: 3:26 - loss: 1.363 - ETA: 3:25 - loss: 1.363 - ETA: 3:23 - loss: 1.363 - ETA: 3:22 - loss: 1.362 - ETA: 3:20 - loss: 1.362 - ETA: 3:18 - loss: 1.361 - ETA: 3:17 - loss: 1.361 - ETA: 3:15 - loss: 1.361 - ETA: 3:14 - loss: 1.361 - ETA: 3:13 - loss: 1.361 - ETA: 3:11 - loss: 1.360 - ETA: 3:10 - loss: 1.359 - ETA: 3:08 - loss: 1.359 - ETA: 3:07 - loss: 1.360 - ETA: 3:05 - loss: 1.360 - ETA: 3:03 - loss: 1.360 - ETA: 3:02 - loss: 1.360 - ETA: 3:00 - loss: 1.360 - ETA: 2:58 - loss: 1.360 - ETA: 2:57 - loss: 1.360 - ETA: 2:55 - loss: 1.359 - ETA: 2:53 - loss: 1.359 - ETA: 2:52 - loss: 1.359 - ETA: 2:50 - loss: 1.359 - ETA: 2:48 - loss: 1.359 - ETA: 2:47 - loss: 1.358 - ETA: 2:45 - loss: 1.358 - ETA: 2:44 - loss: 1.358 - ETA: 2:42 - loss: 1.358 - ETA: 2:40 - loss: 1.358 - ETA: 2:39 - loss: 1.358 - ETA: 2:37 - loss: 1.358 - ETA: 2:35 - loss: 1.358 - ETA: 2:34 - loss: 1.358 - ETA: 2:32 - loss: 1.358 - ETA: 2:30 - loss: 1.358 - ETA: 2:29 - loss: 1.357 - ETA: 2:27 - loss: 1.357 - ETA: 2:26 - loss: 1.356 - ETA: 2:24 - loss: 1.356 - ETA: 2:22 - loss: 1.356 - ETA: 2:21 - loss: 1.356 - ETA: 2:19 - loss: 1.356 - ETA: 2:18 - loss: 1.356 - ETA: 2:16 - loss: 1.356 - ETA: 2:14 - loss: 1.356 - ETA: 2:13 - loss: 1.356 - ETA: 2:11 - loss: 1.356 - ETA: 2:10 - loss: 1.355 - ETA: 2:08 - loss: 1.355 - ETA: 2:06 - loss: 1.355 - ETA: 2:05 - loss: 1.355 - ETA: 2:03 - loss: 1.356 - ETA: 2:01 - loss: 1.356 - ETA: 2:00 - loss: 1.356 - ETA: 1:59 - loss: 1.355 - ETA: 1:57 - loss: 1.356 - ETA: 1:56 - loss: 1.355 - ETA: 1:54 - loss: 1.355 - ETA: 1:52 - loss: 1.355 - ETA: 1:51 - loss: 1.356 - ETA: 1:49 - loss: 1.355 - ETA: 1:47 - loss: 1.356 - ETA: 1:46 - loss: 1.356 - ETA: 1:44 - loss: 1.355 - ETA: 1:43 - loss: 1.355 - ETA: 1:41 - loss: 1.355 - ETA: 1:39 - loss: 1.355 - ETA: 1:38 - loss: 1.355 - ETA: 1:36 - loss: 1.355 - ETA: 1:34 - loss: 1.355 - ETA: 1:33 - loss: 1.355 - ETA: 1:31 - loss: 1.355 - ETA: 1:30 - loss: 1.355 - ETA: 1:28 - loss: 1.355 - ETA: 1:26 - loss: 1.355 - ETA: 1:25 - loss: 1.355 - ETA: 1:23 - loss: 1.355 - ETA: 1:22 - loss: 1.356 - ETA: 1:20 - loss: 1.355 - ETA: 1:18 - loss: 1.356 - ETA: 1:17 - loss: 1.356 - ETA: 1:15 - loss: 1.356 - ETA: 1:13 - loss: 1.356 - ETA: 1:12 - loss: 1.356 - ETA: 1:10 - loss: 1.356 - ETA: 1:09 - loss: 1.356 - ETA: 1:07 - loss: 1.356 - ETA: 1:05 - loss: 1.356 - ETA: 1:04 - loss: 1.356 - ETA: 1:02 - loss: 1.356 - ETA: 1:01 - loss: 1.356 - ETA: 59s - loss: 1.356 - ETA: 57s - loss: 1.35 - ETA: 56s - loss: 1.35 - ETA: 54s - loss: 1.35 - ETA: 52s - loss: 1.35 - ETA: 51s - loss: 1.35 - ETA: 49s - loss: 1.35 - ETA: 48s - loss: 1.35 - ETA: 46s - loss: 1.35 - ETA: 45s - loss: 1.35 - ETA: 43s - loss: 1.35 - ETA: 41s - loss: 1.35 - ETA: 40s - loss: 1.35 - ETA: 38s - loss: 1.35 - ETA: 37s - loss: 1.35 - ETA: 35s - loss: 1.35 - ETA: 33s - loss: 1.35 - ETA: 32s - loss: 1.35 - ETA: 30s - loss: 1.35 - ETA: 28s - loss: 1.35 - ETA: 27s - loss: 1.35 - ETA: 25s - loss: 1.35 - ETA: 24s - loss: 1.35 - ETA: 22s - loss: 1.35 - ETA: 20s - loss: 1.35 - ETA: 19s - loss: 1.35 - ETA: 17s - loss: 1.35 - ETA: 16s - loss: 1.35 - ETA: 14s - loss: 1.35 - ETA: 12s - loss: 1.35 - ETA: 11s - loss: 1.35 - ETA: 9s - loss: 1.3545 - ETA: 8s - loss: 1.354 - ETA: 6s - loss: 1.354 - ETA: 4s - loss: 1.354 - ETA: 3s - loss: 1.354 - ETA: 1s - loss: 1.353 - 526s 2s/step - loss: 1.3536 - val_loss: 1.4175\n",
      "Epoch 8/20\n",
      "300/300 [==============================] - ETA: 7:37 - loss: 1.390 - ETA: 7:37 - loss: 1.314 - ETA: 7:36 - loss: 1.302 - ETA: 7:37 - loss: 1.273 - ETA: 7:36 - loss: 1.273 - ETA: 7:33 - loss: 1.276 - ETA: 7:31 - loss: 1.279 - ETA: 7:29 - loss: 1.278 - ETA: 7:29 - loss: 1.277 - ETA: 7:28 - loss: 1.283 - ETA: 7:26 - loss: 1.283 - ETA: 7:24 - loss: 1.286 - ETA: 7:23 - loss: 1.289 - ETA: 7:22 - loss: 1.284 - ETA: 7:21 - loss: 1.280 - ETA: 7:19 - loss: 1.273 - ETA: 7:17 - loss: 1.278 - ETA: 7:17 - loss: 1.277 - ETA: 7:17 - loss: 1.278 - ETA: 7:15 - loss: 1.280 - ETA: 7:14 - loss: 1.284 - ETA: 7:12 - loss: 1.286 - ETA: 7:11 - loss: 1.285 - ETA: 7:09 - loss: 1.283 - ETA: 7:08 - loss: 1.281 - ETA: 7:06 - loss: 1.282 - ETA: 7:04 - loss: 1.284 - ETA: 7:02 - loss: 1.283 - ETA: 7:01 - loss: 1.279 - ETA: 7:00 - loss: 1.275 - ETA: 6:58 - loss: 1.276 - ETA: 6:57 - loss: 1.277 - ETA: 6:55 - loss: 1.278 - ETA: 6:53 - loss: 1.278 - ETA: 6:52 - loss: 1.278 - ETA: 6:50 - loss: 1.276 - ETA: 6:49 - loss: 1.278 - ETA: 6:47 - loss: 1.276 - ETA: 6:46 - loss: 1.277 - ETA: 6:44 - loss: 1.275 - ETA: 6:42 - loss: 1.273 - ETA: 6:41 - loss: 1.272 - ETA: 6:40 - loss: 1.272 - ETA: 6:39 - loss: 1.272 - ETA: 6:37 - loss: 1.274 - ETA: 6:35 - loss: 1.274 - ETA: 6:34 - loss: 1.276 - ETA: 6:32 - loss: 1.275 - ETA: 6:31 - loss: 1.275 - ETA: 6:29 - loss: 1.276 - ETA: 6:27 - loss: 1.278 - ETA: 6:26 - loss: 1.279 - ETA: 6:24 - loss: 1.279 - ETA: 6:23 - loss: 1.279 - ETA: 6:21 - loss: 1.279 - ETA: 6:20 - loss: 1.279 - ETA: 6:18 - loss: 1.277 - ETA: 6:17 - loss: 1.277 - ETA: 6:15 - loss: 1.277 - ETA: 6:14 - loss: 1.278 - ETA: 6:12 - loss: 1.277 - ETA: 6:11 - loss: 1.278 - ETA: 6:09 - loss: 1.278 - ETA: 6:07 - loss: 1.278 - ETA: 6:06 - loss: 1.277 - ETA: 6:04 - loss: 1.278 - ETA: 6:03 - loss: 1.277 - ETA: 6:02 - loss: 1.278 - ETA: 6:01 - loss: 1.277 - ETA: 6:00 - loss: 1.277 - ETA: 5:58 - loss: 1.277 - ETA: 5:57 - loss: 1.278 - ETA: 5:55 - loss: 1.276 - ETA: 5:53 - loss: 1.275 - ETA: 5:52 - loss: 1.276 - ETA: 5:50 - loss: 1.277 - ETA: 5:49 - loss: 1.277 - ETA: 5:47 - loss: 1.277 - ETA: 5:46 - loss: 1.277 - ETA: 5:44 - loss: 1.278 - ETA: 5:43 - loss: 1.278 - ETA: 5:42 - loss: 1.279 - ETA: 5:40 - loss: 1.279 - ETA: 5:39 - loss: 1.280 - ETA: 5:37 - loss: 1.281 - ETA: 5:35 - loss: 1.280 - ETA: 5:34 - loss: 1.280 - ETA: 5:32 - loss: 1.280 - ETA: 5:31 - loss: 1.280 - ETA: 5:29 - loss: 1.281 - ETA: 5:27 - loss: 1.280 - ETA: 5:26 - loss: 1.280 - ETA: 5:24 - loss: 1.279 - ETA: 5:22 - loss: 1.279 - ETA: 5:21 - loss: 1.279 - ETA: 5:19 - loss: 1.280 - ETA: 5:18 - loss: 1.280 - ETA: 5:16 - loss: 1.280 - ETA: 5:15 - loss: 1.281 - ETA: 5:13 - loss: 1.281 - ETA: 5:12 - loss: 1.282 - ETA: 5:10 - loss: 1.283 - ETA: 5:12 - loss: 1.284 - ETA: 5:11 - loss: 1.284 - ETA: 5:09 - loss: 1.284 - ETA: 5:08 - loss: 1.284 - ETA: 5:06 - loss: 1.285 - ETA: 5:04 - loss: 1.283 - ETA: 5:03 - loss: 1.284 - ETA: 5:02 - loss: 1.284 - ETA: 5:00 - loss: 1.284 - ETA: 4:59 - loss: 1.283 - ETA: 4:57 - loss: 1.284 - ETA: 4:55 - loss: 1.284 - ETA: 4:54 - loss: 1.284 - ETA: 4:52 - loss: 1.284 - ETA: 4:51 - loss: 1.284 - ETA: 4:49 - loss: 1.285 - ETA: 4:48 - loss: 1.285 - ETA: 4:46 - loss: 1.285 - ETA: 4:44 - loss: 1.285 - ETA: 4:43 - loss: 1.285 - ETA: 4:41 - loss: 1.285 - ETA: 4:39 - loss: 1.286 - ETA: 4:38 - loss: 1.287 - ETA: 4:36 - loss: 1.287 - ETA: 4:35 - loss: 1.287 - ETA: 4:33 - loss: 1.288 - ETA: 4:31 - loss: 1.288 - ETA: 4:30 - loss: 1.288 - ETA: 4:28 - loss: 1.289 - ETA: 4:26 - loss: 1.288 - ETA: 4:25 - loss: 1.288 - ETA: 4:23 - loss: 1.289 - ETA: 4:23 - loss: 1.289 - ETA: 4:22 - loss: 1.288 - ETA: 4:21 - loss: 1.288 - ETA: 4:19 - loss: 1.288 - ETA: 4:17 - loss: 1.288 - ETA: 4:16 - loss: 1.288 - ETA: 4:14 - loss: 1.288 - ETA: 4:13 - loss: 1.288 - ETA: 4:11 - loss: 1.288 - ETA: 4:10 - loss: 1.288 - ETA: 4:08 - loss: 1.288 - ETA: 4:07 - loss: 1.288 - ETA: 4:05 - loss: 1.288 - ETA: 4:03 - loss: 1.288 - ETA: 4:02 - loss: 1.289 - ETA: 4:00 - loss: 1.289 - ETA: 3:58 - loss: 1.288 - ETA: 3:57 - loss: 1.288 - ETA: 3:55 - loss: 1.288 - ETA: 3:54 - loss: 1.289 - ETA: 3:52 - loss: 1.290 - ETA: 3:51 - loss: 1.290 - ETA: 3:49 - loss: 1.290 - ETA: 3:48 - loss: 1.290 - ETA: 3:46 - loss: 1.290 - ETA: 3:44 - loss: 1.289 - ETA: 3:43 - loss: 1.289 - ETA: 3:41 - loss: 1.289 - ETA: 3:40 - loss: 1.289 - ETA: 3:38 - loss: 1.289 - ETA: 3:36 - loss: 1.289 - ETA: 3:35 - loss: 1.289 - ETA: 3:33 - loss: 1.289 - ETA: 3:32 - loss: 1.289 - ETA: 3:30 - loss: 1.289 - ETA: 3:28 - loss: 1.289 - ETA: 3:27 - loss: 1.289 - ETA: 3:25 - loss: 1.289 - ETA: 3:24 - loss: 1.289 - ETA: 3:22 - loss: 1.289 - ETA: 3:20 - loss: 1.288 - ETA: 3:19 - loss: 1.289 - ETA: 3:17 - loss: 1.289 - ETA: 3:16 - loss: 1.289 - ETA: 3:14 - loss: 1.289 - ETA: 3:12 - loss: 1.289 - ETA: 3:11 - loss: 1.289 - ETA: 3:09 - loss: 1.289 - ETA: 3:07 - loss: 1.289 - ETA: 3:06 - loss: 1.288 - ETA: 3:05 - loss: 1.288 - ETA: 3:04 - loss: 1.288 - ETA: 3:02 - loss: 1.289 - ETA: 3:01 - loss: 1.288 - ETA: 2:59 - loss: 1.289 - ETA: 2:57 - loss: 1.289 - ETA: 2:56 - loss: 1.289 - ETA: 2:54 - loss: 1.289 - ETA: 2:52 - loss: 1.289 - ETA: 2:51 - loss: 1.289 - ETA: 2:49 - loss: 1.290 - ETA: 2:47 - loss: 1.290 - ETA: 2:46 - loss: 1.290 - ETA: 2:44 - loss: 1.290 - ETA: 2:42 - loss: 1.290 - ETA: 2:41 - loss: 1.290 - ETA: 2:39 - loss: 1.290 - ETA: 2:38 - loss: 1.290 - ETA: 2:36 - loss: 1.290 - ETA: 2:34 - loss: 1.290 - ETA: 2:33 - loss: 1.290 - ETA: 2:31 - loss: 1.290 - ETA: 2:29 - loss: 1.290 - ETA: 2:28 - loss: 1.290 - ETA: 2:26 - loss: 1.290 - ETA: 2:24 - loss: 1.290 - ETA: 2:23 - loss: 1.290 - ETA: 2:21 - loss: 1.291 - ETA: 2:20 - loss: 1.291 - ETA: 2:18 - loss: 1.291 - ETA: 2:16 - loss: 1.291 - ETA: 2:15 - loss: 1.291 - ETA: 2:13 - loss: 1.291 - ETA: 2:11 - loss: 1.291 - ETA: 2:10 - loss: 1.291 - ETA: 2:08 - loss: 1.291 - ETA: 2:07 - loss: 1.291 - ETA: 2:05 - loss: 1.291 - ETA: 2:03 - loss: 1.291 - ETA: 2:02 - loss: 1.291 - ETA: 2:00 - loss: 1.291 - ETA: 1:59 - loss: 1.291 - ETA: 1:58 - loss: 1.291 - ETA: 1:56 - loss: 1.291 - ETA: 1:54 - loss: 1.291 - ETA: 1:53 - loss: 1.291 - ETA: 1:52 - loss: 1.292 - ETA: 1:51 - loss: 1.292 - ETA: 1:49 - loss: 1.292 - ETA: 1:47 - loss: 1.291 - ETA: 1:46 - loss: 1.291 - ETA: 1:44 - loss: 1.291 - ETA: 1:42 - loss: 1.291 - ETA: 1:41 - loss: 1.291 - ETA: 1:39 - loss: 1.291 - ETA: 1:37 - loss: 1.291 - ETA: 1:36 - loss: 1.291 - ETA: 1:34 - loss: 1.291 - ETA: 1:32 - loss: 1.291 - ETA: 1:31 - loss: 1.291 - ETA: 1:29 - loss: 1.291 - ETA: 1:27 - loss: 1.291 - ETA: 1:26 - loss: 1.291 - ETA: 1:24 - loss: 1.291 - ETA: 1:23 - loss: 1.291 - ETA: 1:21 - loss: 1.291 - ETA: 1:19 - loss: 1.291 - ETA: 1:18 - loss: 1.291 - ETA: 1:16 - loss: 1.291 - ETA: 1:14 - loss: 1.291 - ETA: 1:13 - loss: 1.291 - ETA: 1:11 - loss: 1.291 - ETA: 1:09 - loss: 1.291 - ETA: 1:08 - loss: 1.291 - ETA: 1:06 - loss: 1.291 - ETA: 1:05 - loss: 1.291 - ETA: 1:03 - loss: 1.291 - ETA: 1:01 - loss: 1.292 - ETA: 1:00 - loss: 1.292 - ETA: 58s - loss: 1.292 - ETA: 56s - loss: 1.29 - ETA: 55s - loss: 1.29 - ETA: 53s - loss: 1.29 - ETA: 52s - loss: 1.29 - ETA: 50s - loss: 1.29 - ETA: 48s - loss: 1.29 - ETA: 47s - loss: 1.29 - ETA: 45s - loss: 1.29 - ETA: 43s - loss: 1.29 - ETA: 42s - loss: 1.29 - ETA: 40s - loss: 1.29 - ETA: 38s - loss: 1.29 - ETA: 37s - loss: 1.29 - ETA: 35s - loss: 1.29 - ETA: 34s - loss: 1.29 - ETA: 32s - loss: 1.29 - ETA: 30s - loss: 1.29 - ETA: 29s - loss: 1.29 - ETA: 27s - loss: 1.29 - ETA: 25s - loss: 1.29 - ETA: 24s - loss: 1.29 - ETA: 22s - loss: 1.29 - ETA: 21s - loss: 1.29 - ETA: 19s - loss: 1.29 - ETA: 17s - loss: 1.29 - ETA: 16s - loss: 1.29 - ETA: 14s - loss: 1.29 - ETA: 12s - loss: 1.29 - ETA: 11s - loss: 1.29 - ETA: 9s - loss: 1.2904 - ETA: 8s - loss: 1.290 - ETA: 6s - loss: 1.290 - ETA: 4s - loss: 1.289 - ETA: 3s - loss: 1.289 - ETA: 1s - loss: 1.289 - 532s 2s/step - loss: 1.2897 - val_loss: 1.3787\n",
      "Epoch 9/20\n"
     ]
    },
    {
     "name": "stdout",
     "output_type": "stream",
     "text": [
      "300/300 [==============================] - ETA: 7:53 - loss: 1.185 - ETA: 7:39 - loss: 1.239 - ETA: 7:37 - loss: 1.257 - ETA: 7:36 - loss: 1.247 - ETA: 7:37 - loss: 1.238 - ETA: 7:35 - loss: 1.230 - ETA: 7:34 - loss: 1.232 - ETA: 7:33 - loss: 1.228 - ETA: 7:33 - loss: 1.232 - ETA: 7:32 - loss: 1.219 - ETA: 7:30 - loss: 1.215 - ETA: 7:30 - loss: 1.225 - ETA: 7:29 - loss: 1.226 - ETA: 7:28 - loss: 1.224 - ETA: 7:27 - loss: 1.223 - ETA: 7:25 - loss: 1.220 - ETA: 7:23 - loss: 1.225 - ETA: 7:22 - loss: 1.222 - ETA: 7:20 - loss: 1.224 - ETA: 7:18 - loss: 1.222 - ETA: 7:16 - loss: 1.222 - ETA: 7:15 - loss: 1.220 - ETA: 7:13 - loss: 1.223 - ETA: 7:12 - loss: 1.223 - ETA: 7:10 - loss: 1.219 - ETA: 7:08 - loss: 1.223 - ETA: 7:07 - loss: 1.223 - ETA: 7:05 - loss: 1.223 - ETA: 7:04 - loss: 1.224 - ETA: 7:02 - loss: 1.221 - ETA: 7:00 - loss: 1.222 - ETA: 6:58 - loss: 1.222 - ETA: 6:56 - loss: 1.222 - ETA: 6:55 - loss: 1.222 - ETA: 6:53 - loss: 1.223 - ETA: 6:52 - loss: 1.223 - ETA: 6:50 - loss: 1.224 - ETA: 6:49 - loss: 1.227 - ETA: 6:47 - loss: 1.226 - ETA: 6:45 - loss: 1.226 - ETA: 6:44 - loss: 1.225 - ETA: 6:42 - loss: 1.225 - ETA: 6:41 - loss: 1.225 - ETA: 6:39 - loss: 1.225 - ETA: 6:37 - loss: 1.224 - ETA: 6:36 - loss: 1.224 - ETA: 6:34 - loss: 1.225 - ETA: 6:33 - loss: 1.226 - ETA: 6:31 - loss: 1.226 - ETA: 6:30 - loss: 1.228 - ETA: 6:28 - loss: 1.228 - ETA: 6:27 - loss: 1.228 - ETA: 6:25 - loss: 1.227 - ETA: 6:23 - loss: 1.227 - ETA: 6:22 - loss: 1.227 - ETA: 6:20 - loss: 1.226 - ETA: 6:19 - loss: 1.226 - ETA: 6:17 - loss: 1.226 - ETA: 6:16 - loss: 1.227 - ETA: 6:14 - loss: 1.228 - ETA: 6:13 - loss: 1.227 - ETA: 6:11 - loss: 1.227 - ETA: 6:09 - loss: 1.227 - ETA: 6:08 - loss: 1.226 - ETA: 6:06 - loss: 1.227 - ETA: 6:05 - loss: 1.227 - ETA: 6:03 - loss: 1.227 - ETA: 6:02 - loss: 1.227 - ETA: 6:00 - loss: 1.227 - ETA: 5:59 - loss: 1.229 - ETA: 5:58 - loss: 1.229 - ETA: 5:56 - loss: 1.229 - ETA: 5:54 - loss: 1.228 - ETA: 5:53 - loss: 1.227 - ETA: 5:51 - loss: 1.226 - ETA: 5:50 - loss: 1.226 - ETA: 5:48 - loss: 1.226 - ETA: 5:46 - loss: 1.225 - ETA: 5:45 - loss: 1.224 - ETA: 5:43 - loss: 1.224 - ETA: 5:42 - loss: 1.225 - ETA: 5:40 - loss: 1.225 - ETA: 5:38 - loss: 1.224 - ETA: 5:37 - loss: 1.224 - ETA: 5:35 - loss: 1.224 - ETA: 5:34 - loss: 1.224 - ETA: 5:33 - loss: 1.224 - ETA: 5:31 - loss: 1.224 - ETA: 5:29 - loss: 1.224 - ETA: 5:28 - loss: 1.225 - ETA: 5:26 - loss: 1.226 - ETA: 5:25 - loss: 1.225 - ETA: 5:23 - loss: 1.225 - ETA: 5:22 - loss: 1.225 - ETA: 5:20 - loss: 1.226 - ETA: 5:19 - loss: 1.226 - ETA: 5:17 - loss: 1.227 - ETA: 5:16 - loss: 1.227 - ETA: 5:14 - loss: 1.226 - ETA: 5:12 - loss: 1.227 - ETA: 5:11 - loss: 1.226 - ETA: 5:09 - loss: 1.226 - ETA: 5:08 - loss: 1.226 - ETA: 5:06 - loss: 1.226 - ETA: 5:04 - loss: 1.226 - ETA: 5:03 - loss: 1.225 - ETA: 5:01 - loss: 1.226 - ETA: 5:00 - loss: 1.226 - ETA: 4:58 - loss: 1.226 - ETA: 4:57 - loss: 1.227 - ETA: 4:55 - loss: 1.227 - ETA: 4:53 - loss: 1.227 - ETA: 4:52 - loss: 1.226 - ETA: 4:50 - loss: 1.228 - ETA: 4:49 - loss: 1.227 - ETA: 4:47 - loss: 1.227 - ETA: 4:46 - loss: 1.228 - ETA: 4:45 - loss: 1.227 - ETA: 4:44 - loss: 1.228 - ETA: 4:43 - loss: 1.227 - ETA: 4:41 - loss: 1.227 - ETA: 4:40 - loss: 1.227 - ETA: 4:38 - loss: 1.226 - ETA: 4:37 - loss: 1.226 - ETA: 4:35 - loss: 1.227 - ETA: 4:34 - loss: 1.226 - ETA: 4:32 - loss: 1.226 - ETA: 4:31 - loss: 1.227 - ETA: 4:29 - loss: 1.227 - ETA: 4:28 - loss: 1.228 - ETA: 4:26 - loss: 1.227 - ETA: 4:25 - loss: 1.227 - ETA: 4:23 - loss: 1.226 - ETA: 4:21 - loss: 1.227 - ETA: 4:20 - loss: 1.226 - ETA: 4:18 - loss: 1.226 - ETA: 4:17 - loss: 1.226 - ETA: 4:15 - loss: 1.226 - ETA: 4:13 - loss: 1.226 - ETA: 4:12 - loss: 1.226 - ETA: 4:10 - loss: 1.226 - ETA: 4:09 - loss: 1.226 - ETA: 4:07 - loss: 1.226 - ETA: 4:06 - loss: 1.227 - ETA: 4:04 - loss: 1.226 - ETA: 4:02 - loss: 1.227 - ETA: 4:01 - loss: 1.226 - ETA: 3:59 - loss: 1.225 - ETA: 3:58 - loss: 1.226 - ETA: 3:56 - loss: 1.226 - ETA: 3:55 - loss: 1.226 - ETA: 3:53 - loss: 1.227 - ETA: 3:51 - loss: 1.227 - ETA: 3:50 - loss: 1.227 - ETA: 3:48 - loss: 1.227 - ETA: 3:47 - loss: 1.227 - ETA: 3:47 - loss: 1.227 - ETA: 3:46 - loss: 1.227 - ETA: 3:44 - loss: 1.227 - ETA: 3:42 - loss: 1.227 - ETA: 3:41 - loss: 1.227 - ETA: 3:39 - loss: 1.228 - ETA: 3:38 - loss: 1.228 - ETA: 3:36 - loss: 1.228 - ETA: 3:34 - loss: 1.228 - ETA: 3:33 - loss: 1.227 - ETA: 3:31 - loss: 1.227 - ETA: 3:30 - loss: 1.227 - ETA: 3:28 - loss: 1.228 - ETA: 3:26 - loss: 1.228 - ETA: 3:25 - loss: 1.228 - ETA: 3:23 - loss: 1.228 - ETA: 3:21 - loss: 1.228 - ETA: 3:20 - loss: 1.228 - ETA: 3:18 - loss: 1.228 - ETA: 3:17 - loss: 1.228 - ETA: 3:15 - loss: 1.228 - ETA: 3:13 - loss: 1.228 - ETA: 3:12 - loss: 1.228 - ETA: 3:10 - loss: 1.229 - ETA: 3:09 - loss: 1.229 - ETA: 3:07 - loss: 1.229 - ETA: 3:05 - loss: 1.229 - ETA: 3:04 - loss: 1.229 - ETA: 3:02 - loss: 1.229 - ETA: 3:00 - loss: 1.229 - ETA: 2:59 - loss: 1.229 - ETA: 2:57 - loss: 1.229 - ETA: 2:56 - loss: 1.229 - ETA: 2:54 - loss: 1.229 - ETA: 2:53 - loss: 1.229 - ETA: 2:51 - loss: 1.229 - ETA: 2:49 - loss: 1.229 - ETA: 2:48 - loss: 1.229 - ETA: 2:46 - loss: 1.229 - ETA: 2:44 - loss: 1.229 - ETA: 2:44 - loss: 1.229 - ETA: 2:42 - loss: 1.229 - ETA: 2:41 - loss: 1.229 - ETA: 2:39 - loss: 1.228 - ETA: 2:38 - loss: 1.228 - ETA: 2:36 - loss: 1.228 - ETA: 2:34 - loss: 1.228 - ETA: 2:33 - loss: 1.228 - ETA: 2:31 - loss: 1.228 - ETA: 2:29 - loss: 1.228 - ETA: 2:28 - loss: 1.227 - ETA: 2:26 - loss: 1.228 - ETA: 2:25 - loss: 1.228 - ETA: 2:23 - loss: 1.228 - ETA: 2:21 - loss: 1.228 - ETA: 2:20 - loss: 1.228 - ETA: 2:18 - loss: 1.228 - ETA: 2:17 - loss: 1.228 - ETA: 2:15 - loss: 1.228 - ETA: 2:13 - loss: 1.227 - ETA: 2:12 - loss: 1.227 - ETA: 2:10 - loss: 1.227 - ETA: 2:09 - loss: 1.227 - ETA: 2:07 - loss: 1.227 - ETA: 2:05 - loss: 1.227 - ETA: 2:04 - loss: 1.227 - ETA: 2:02 - loss: 1.227 - ETA: 2:01 - loss: 1.227 - ETA: 1:59 - loss: 1.227 - ETA: 1:57 - loss: 1.227 - ETA: 1:56 - loss: 1.227 - ETA: 1:54 - loss: 1.227 - ETA: 1:53 - loss: 1.227 - ETA: 1:51 - loss: 1.227 - ETA: 1:49 - loss: 1.227 - ETA: 1:48 - loss: 1.228 - ETA: 1:46 - loss: 1.228 - ETA: 1:45 - loss: 1.228 - ETA: 1:43 - loss: 1.228 - ETA: 1:41 - loss: 1.228 - ETA: 1:40 - loss: 1.229 - ETA: 1:38 - loss: 1.229 - ETA: 1:37 - loss: 1.229 - ETA: 1:35 - loss: 1.229 - ETA: 1:33 - loss: 1.229 - ETA: 1:32 - loss: 1.230 - ETA: 1:30 - loss: 1.230 - ETA: 1:29 - loss: 1.230 - ETA: 1:27 - loss: 1.229 - ETA: 1:25 - loss: 1.229 - ETA: 1:24 - loss: 1.229 - ETA: 1:22 - loss: 1.229 - ETA: 1:21 - loss: 1.229 - ETA: 1:19 - loss: 1.229 - ETA: 1:17 - loss: 1.229 - ETA: 1:16 - loss: 1.229 - ETA: 1:14 - loss: 1.229 - ETA: 1:13 - loss: 1.228 - ETA: 1:11 - loss: 1.228 - ETA: 1:09 - loss: 1.229 - ETA: 1:08 - loss: 1.229 - ETA: 1:06 - loss: 1.229 - ETA: 1:05 - loss: 1.228 - ETA: 1:03 - loss: 1.229 - ETA: 1:01 - loss: 1.229 - ETA: 1:00 - loss: 1.228 - ETA: 58s - loss: 1.228 - ETA: 57s - loss: 1.22 - ETA: 55s - loss: 1.22 - ETA: 54s - loss: 1.22 - ETA: 52s - loss: 1.22 - ETA: 50s - loss: 1.22 - ETA: 49s - loss: 1.22 - ETA: 47s - loss: 1.22 - ETA: 46s - loss: 1.22 - ETA: 44s - loss: 1.22 - ETA: 42s - loss: 1.22 - ETA: 41s - loss: 1.22 - ETA: 39s - loss: 1.22 - ETA: 38s - loss: 1.22 - ETA: 36s - loss: 1.22 - ETA: 34s - loss: 1.22 - ETA: 33s - loss: 1.22 - ETA: 31s - loss: 1.22 - ETA: 30s - loss: 1.22 - ETA: 28s - loss: 1.22 - ETA: 26s - loss: 1.22 - ETA: 25s - loss: 1.22 - ETA: 23s - loss: 1.22 - ETA: 22s - loss: 1.22 - ETA: 20s - loss: 1.22 - ETA: 19s - loss: 1.22 - ETA: 17s - loss: 1.22 - ETA: 15s - loss: 1.22 - ETA: 14s - loss: 1.22 - ETA: 12s - loss: 1.22 - ETA: 11s - loss: 1.22 - ETA: 9s - loss: 1.2300 - ETA: 7s - loss: 1.229 - ETA: 6s - loss: 1.229 - ETA: 4s - loss: 1.229 - ETA: 3s - loss: 1.229 - ETA: 1s - loss: 1.230 - 518s 2s/step - loss: 1.2299 - val_loss: 1.3658\n",
      "Epoch 10/20\n",
      "300/300 [==============================] - ETA: 8:00 - loss: 1.236 - ETA: 7:48 - loss: 1.223 - ETA: 7:42 - loss: 1.184 - ETA: 7:39 - loss: 1.171 - ETA: 7:39 - loss: 1.178 - ETA: 7:39 - loss: 1.181 - ETA: 7:37 - loss: 1.169 - ETA: 7:35 - loss: 1.175 - ETA: 7:34 - loss: 1.167 - ETA: 7:33 - loss: 1.171 - ETA: 7:31 - loss: 1.177 - ETA: 7:29 - loss: 1.173 - ETA: 7:26 - loss: 1.172 - ETA: 7:26 - loss: 1.173 - ETA: 7:25 - loss: 1.168 - ETA: 7:23 - loss: 1.167 - ETA: 7:22 - loss: 1.168 - ETA: 7:20 - loss: 1.167 - ETA: 7:19 - loss: 1.166 - ETA: 7:18 - loss: 1.167 - ETA: 7:16 - loss: 1.166 - ETA: 7:15 - loss: 1.170 - ETA: 7:14 - loss: 1.167 - ETA: 7:12 - loss: 1.163 - ETA: 7:10 - loss: 1.163 - ETA: 7:09 - loss: 1.164 - ETA: 7:08 - loss: 1.165 - ETA: 7:06 - loss: 1.164 - ETA: 7:05 - loss: 1.161 - ETA: 7:03 - loss: 1.160 - ETA: 7:01 - loss: 1.164 - ETA: 6:59 - loss: 1.165 - ETA: 6:58 - loss: 1.167 - ETA: 6:57 - loss: 1.169 - ETA: 6:55 - loss: 1.168 - ETA: 6:53 - loss: 1.168 - ETA: 6:52 - loss: 1.168 - ETA: 6:50 - loss: 1.168 - ETA: 6:48 - loss: 1.166 - ETA: 6:47 - loss: 1.166 - ETA: 6:45 - loss: 1.166 - ETA: 6:44 - loss: 1.165 - ETA: 6:42 - loss: 1.166 - ETA: 6:40 - loss: 1.166 - ETA: 6:39 - loss: 1.164 - ETA: 6:37 - loss: 1.163 - ETA: 6:36 - loss: 1.163 - ETA: 6:34 - loss: 1.164 - ETA: 6:33 - loss: 1.163 - ETA: 6:31 - loss: 1.163 - ETA: 6:29 - loss: 1.163 - ETA: 6:28 - loss: 1.165 - ETA: 6:26 - loss: 1.163 - ETA: 6:24 - loss: 1.164 - ETA: 6:23 - loss: 1.164 - ETA: 6:21 - loss: 1.164 - ETA: 6:20 - loss: 1.165 - ETA: 6:18 - loss: 1.166 - ETA: 6:16 - loss: 1.166 - ETA: 6:15 - loss: 1.167 - ETA: 6:13 - loss: 1.167 - ETA: 6:12 - loss: 1.168 - ETA: 6:11 - loss: 1.167 - ETA: 6:10 - loss: 1.167 - ETA: 6:08 - loss: 1.168 - ETA: 6:06 - loss: 1.168 - ETA: 6:05 - loss: 1.168 - ETA: 6:03 - loss: 1.169 - ETA: 6:02 - loss: 1.170 - ETA: 6:00 - loss: 1.170 - ETA: 5:59 - loss: 1.171 - ETA: 5:57 - loss: 1.170 - ETA: 5:56 - loss: 1.171 - ETA: 5:54 - loss: 1.172 - ETA: 5:53 - loss: 1.173 - ETA: 5:51 - loss: 1.173 - ETA: 5:49 - loss: 1.171 - ETA: 5:48 - loss: 1.172 - ETA: 5:46 - loss: 1.172 - ETA: 5:45 - loss: 1.174 - ETA: 5:43 - loss: 1.173 - ETA: 5:41 - loss: 1.174 - ETA: 5:40 - loss: 1.174 - ETA: 5:38 - loss: 1.174 - ETA: 5:37 - loss: 1.175 - ETA: 5:35 - loss: 1.175 - ETA: 5:34 - loss: 1.175 - ETA: 5:32 - loss: 1.175 - ETA: 5:31 - loss: 1.174 - ETA: 5:29 - loss: 1.173 - ETA: 5:28 - loss: 1.172 - ETA: 5:26 - loss: 1.172 - ETA: 5:25 - loss: 1.173 - ETA: 5:23 - loss: 1.172 - ETA: 5:21 - loss: 1.173 - ETA: 5:20 - loss: 1.171 - ETA: 5:18 - loss: 1.171 - ETA: 5:17 - loss: 1.172 - ETA: 5:15 - loss: 1.173 - ETA: 5:14 - loss: 1.173 - ETA: 5:12 - loss: 1.173 - ETA: 5:11 - loss: 1.172 - ETA: 5:09 - loss: 1.173 - ETA: 5:07 - loss: 1.172 - ETA: 5:06 - loss: 1.172 - ETA: 5:04 - loss: 1.171 - ETA: 5:03 - loss: 1.171 - ETA: 5:01 - loss: 1.171 - ETA: 5:00 - loss: 1.171 - ETA: 4:58 - loss: 1.171 - ETA: 4:57 - loss: 1.170 - ETA: 4:56 - loss: 1.170 - ETA: 4:54 - loss: 1.171 - ETA: 4:53 - loss: 1.172 - ETA: 4:51 - loss: 1.171 - ETA: 4:50 - loss: 1.171 - ETA: 4:48 - loss: 1.171 - ETA: 4:47 - loss: 1.171 - ETA: 4:45 - loss: 1.170 - ETA: 4:44 - loss: 1.169 - ETA: 4:42 - loss: 1.170 - ETA: 4:40 - loss: 1.171 - ETA: 4:39 - loss: 1.170 - ETA: 4:37 - loss: 1.171 - ETA: 4:36 - loss: 1.171 - ETA: 4:34 - loss: 1.171 - ETA: 4:33 - loss: 1.171 - ETA: 4:31 - loss: 1.171 - ETA: 4:30 - loss: 1.171 - ETA: 4:28 - loss: 1.171 - ETA: 4:27 - loss: 1.170 - ETA: 4:25 - loss: 1.170 - ETA: 4:24 - loss: 1.170 - ETA: 4:22 - loss: 1.170 - ETA: 4:21 - loss: 1.171 - ETA: 4:19 - loss: 1.171 - ETA: 4:18 - loss: 1.170 - ETA: 4:16 - loss: 1.170 - ETA: 4:15 - loss: 1.171 - ETA: 4:13 - loss: 1.171 - ETA: 4:12 - loss: 1.171 - ETA: 4:10 - loss: 1.171 - ETA: 4:08 - loss: 1.172 - ETA: 4:07 - loss: 1.172 - ETA: 4:05 - loss: 1.172 - ETA: 4:04 - loss: 1.173 - ETA: 4:02 - loss: 1.173 - ETA: 4:01 - loss: 1.172 - ETA: 3:59 - loss: 1.173 - ETA: 3:57 - loss: 1.173 - ETA: 3:56 - loss: 1.173 - ETA: 3:54 - loss: 1.174 - ETA: 3:52 - loss: 1.174 - ETA: 3:51 - loss: 1.174 - ETA: 3:49 - loss: 1.174 - ETA: 3:48 - loss: 1.175 - ETA: 3:46 - loss: 1.175 - ETA: 3:44 - loss: 1.175 - ETA: 3:43 - loss: 1.176 - ETA: 3:41 - loss: 1.175 - ETA: 3:40 - loss: 1.176 - ETA: 3:38 - loss: 1.175 - ETA: 3:36 - loss: 1.175 - ETA: 3:35 - loss: 1.175 - ETA: 3:35 - loss: 1.175 - ETA: 3:34 - loss: 1.175 - ETA: 3:32 - loss: 1.175 - ETA: 3:30 - loss: 1.176 - ETA: 3:29 - loss: 1.176 - ETA: 3:27 - loss: 1.176 - ETA: 3:26 - loss: 1.176 - ETA: 3:24 - loss: 1.176 - ETA: 3:22 - loss: 1.176 - ETA: 3:21 - loss: 1.176 - ETA: 3:19 - loss: 1.176 - ETA: 3:18 - loss: 1.177 - ETA: 3:16 - loss: 1.177 - ETA: 3:14 - loss: 1.177 - ETA: 3:13 - loss: 1.177 - ETA: 3:11 - loss: 1.177 - ETA: 3:09 - loss: 1.178 - ETA: 3:08 - loss: 1.178 - ETA: 3:06 - loss: 1.178 - ETA: 3:05 - loss: 1.177 - ETA: 3:03 - loss: 1.177 - ETA: 3:01 - loss: 1.178 - ETA: 3:00 - loss: 1.177 - ETA: 2:58 - loss: 1.177 - ETA: 2:56 - loss: 1.177 - ETA: 2:55 - loss: 1.177 - ETA: 2:53 - loss: 1.177 - ETA: 2:52 - loss: 1.177 - ETA: 2:50 - loss: 1.177 - ETA: 2:48 - loss: 1.178 - ETA: 2:47 - loss: 1.178 - ETA: 2:45 - loss: 1.178 - ETA: 2:44 - loss: 1.178 - ETA: 2:42 - loss: 1.178 - ETA: 2:40 - loss: 1.178 - ETA: 2:39 - loss: 1.178 - ETA: 2:37 - loss: 1.178 - ETA: 2:36 - loss: 1.178 - ETA: 2:34 - loss: 1.178 - ETA: 2:32 - loss: 1.178 - ETA: 2:31 - loss: 1.178 - ETA: 2:29 - loss: 1.177 - ETA: 2:28 - loss: 1.177 - ETA: 2:26 - loss: 1.177 - ETA: 2:24 - loss: 1.177 - ETA: 2:23 - loss: 1.177 - ETA: 2:21 - loss: 1.178 - ETA: 2:20 - loss: 1.178 - ETA: 2:18 - loss: 1.177 - ETA: 2:16 - loss: 1.177 - ETA: 2:15 - loss: 1.177 - ETA: 2:13 - loss: 1.177 - ETA: 2:12 - loss: 1.176 - ETA: 2:10 - loss: 1.176 - ETA: 2:08 - loss: 1.176 - ETA: 2:07 - loss: 1.177 - ETA: 2:05 - loss: 1.177 - ETA: 2:04 - loss: 1.177 - ETA: 2:02 - loss: 1.177 - ETA: 2:00 - loss: 1.177 - ETA: 1:59 - loss: 1.177 - ETA: 1:57 - loss: 1.177 - ETA: 1:56 - loss: 1.178 - ETA: 1:54 - loss: 1.178 - ETA: 1:52 - loss: 1.178 - ETA: 1:51 - loss: 1.178 - ETA: 1:49 - loss: 1.178 - ETA: 1:48 - loss: 1.178 - ETA: 1:47 - loss: 1.178 - ETA: 1:45 - loss: 1.178 - ETA: 1:43 - loss: 1.178 - ETA: 1:42 - loss: 1.178 - ETA: 1:40 - loss: 1.178 - ETA: 1:39 - loss: 1.178 - ETA: 1:37 - loss: 1.178 - ETA: 1:35 - loss: 1.178 - ETA: 1:34 - loss: 1.178 - ETA: 1:32 - loss: 1.178 - ETA: 1:31 - loss: 1.178 - ETA: 1:29 - loss: 1.178 - ETA: 1:27 - loss: 1.178 - ETA: 1:26 - loss: 1.178 - ETA: 1:24 - loss: 1.178 - ETA: 1:23 - loss: 1.178 - ETA: 1:21 - loss: 1.179 - ETA: 1:19 - loss: 1.178 - ETA: 1:18 - loss: 1.178 - ETA: 1:16 - loss: 1.178 - ETA: 1:15 - loss: 1.178 - ETA: 1:13 - loss: 1.178 - ETA: 1:11 - loss: 1.178 - ETA: 1:10 - loss: 1.178 - ETA: 1:08 - loss: 1.177 - ETA: 1:07 - loss: 1.177 - ETA: 1:05 - loss: 1.177 - ETA: 1:03 - loss: 1.177 - ETA: 1:02 - loss: 1.177 - ETA: 1:00 - loss: 1.177 - ETA: 59s - loss: 1.178 - ETA: 57s - loss: 1.17 - ETA: 55s - loss: 1.17 - ETA: 54s - loss: 1.17 - ETA: 52s - loss: 1.17 - ETA: 51s - loss: 1.17 - ETA: 49s - loss: 1.17 - ETA: 48s - loss: 1.17 - ETA: 46s - loss: 1.17 - ETA: 45s - loss: 1.17 - ETA: 43s - loss: 1.17 - ETA: 41s - loss: 1.17 - ETA: 40s - loss: 1.17 - ETA: 38s - loss: 1.17 - ETA: 37s - loss: 1.17 - ETA: 35s - loss: 1.17 - ETA: 34s - loss: 1.17 - ETA: 32s - loss: 1.17 - ETA: 30s - loss: 1.17 - ETA: 29s - loss: 1.17 - ETA: 27s - loss: 1.17 - ETA: 26s - loss: 1.17 - ETA: 24s - loss: 1.17 - ETA: 22s - loss: 1.17 - ETA: 21s - loss: 1.17 - ETA: 19s - loss: 1.17 - ETA: 17s - loss: 1.17 - ETA: 16s - loss: 1.17 - ETA: 14s - loss: 1.17 - ETA: 13s - loss: 1.17 - ETA: 11s - loss: 1.17 - ETA: 9s - loss: 1.1788 - ETA: 8s - loss: 1.178 - ETA: 6s - loss: 1.179 - ETA: 4s - loss: 1.179 - ETA: 3s - loss: 1.179 - ETA: 1s - loss: 1.179 - 531s 2s/step - loss: 1.1791 - val_loss: 1.3395\n",
      "Epoch 11/20\n"
     ]
    },
    {
     "name": "stdout",
     "output_type": "stream",
     "text": [
      "300/300 [==============================] - ETA: 7:54 - loss: 1.195 - ETA: 7:48 - loss: 1.139 - ETA: 7:47 - loss: 1.123 - ETA: 7:53 - loss: 1.131 - ETA: 7:53 - loss: 1.135 - ETA: 7:52 - loss: 1.131 - ETA: 7:49 - loss: 1.139 - ETA: 7:46 - loss: 1.143 - ETA: 7:44 - loss: 1.135 - ETA: 7:44 - loss: 1.133 - ETA: 7:42 - loss: 1.134 - ETA: 7:39 - loss: 1.129 - ETA: 7:37 - loss: 1.127 - ETA: 7:36 - loss: 1.126 - ETA: 7:35 - loss: 1.130 - ETA: 7:32 - loss: 1.127 - ETA: 7:30 - loss: 1.129 - ETA: 7:28 - loss: 1.130 - ETA: 7:27 - loss: 1.132 - ETA: 7:28 - loss: 1.135 - ETA: 7:27 - loss: 1.133 - ETA: 7:25 - loss: 1.133 - ETA: 7:23 - loss: 1.134 - ETA: 7:21 - loss: 1.135 - ETA: 7:19 - loss: 1.136 - ETA: 7:17 - loss: 1.139 - ETA: 7:16 - loss: 1.139 - ETA: 7:15 - loss: 1.138 - ETA: 7:14 - loss: 1.140 - ETA: 7:12 - loss: 1.137 - ETA: 7:10 - loss: 1.134 - ETA: 7:08 - loss: 1.133 - ETA: 7:06 - loss: 1.130 - ETA: 7:05 - loss: 1.132 - ETA: 7:03 - loss: 1.133 - ETA: 7:01 - loss: 1.132 - ETA: 6:59 - loss: 1.132 - ETA: 6:57 - loss: 1.132 - ETA: 6:56 - loss: 1.133 - ETA: 6:54 - loss: 1.133 - ETA: 6:52 - loss: 1.131 - ETA: 6:50 - loss: 1.130 - ETA: 6:49 - loss: 1.131 - ETA: 6:47 - loss: 1.132 - ETA: 6:45 - loss: 1.130 - ETA: 6:43 - loss: 1.128 - ETA: 6:42 - loss: 1.128 - ETA: 6:40 - loss: 1.128 - ETA: 6:38 - loss: 1.127 - ETA: 6:37 - loss: 1.125 - ETA: 6:35 - loss: 1.125 - ETA: 6:33 - loss: 1.124 - ETA: 6:32 - loss: 1.125 - ETA: 6:31 - loss: 1.124 - ETA: 6:29 - loss: 1.125 - ETA: 6:27 - loss: 1.124 - ETA: 6:26 - loss: 1.123 - ETA: 6:25 - loss: 1.123 - ETA: 6:23 - loss: 1.121 - ETA: 6:22 - loss: 1.121 - ETA: 6:20 - loss: 1.122 - ETA: 6:19 - loss: 1.121 - ETA: 6:18 - loss: 1.120 - ETA: 6:16 - loss: 1.121 - ETA: 6:15 - loss: 1.121 - ETA: 6:13 - loss: 1.120 - ETA: 6:11 - loss: 1.120 - ETA: 6:10 - loss: 1.119 - ETA: 6:08 - loss: 1.119 - ETA: 6:06 - loss: 1.119 - ETA: 6:05 - loss: 1.119 - ETA: 6:03 - loss: 1.119 - ETA: 6:01 - loss: 1.118 - ETA: 5:59 - loss: 1.119 - ETA: 5:58 - loss: 1.120 - ETA: 5:56 - loss: 1.120 - ETA: 5:54 - loss: 1.120 - ETA: 5:53 - loss: 1.120 - ETA: 5:51 - loss: 1.120 - ETA: 5:50 - loss: 1.120 - ETA: 5:48 - loss: 1.121 - ETA: 5:46 - loss: 1.121 - ETA: 5:45 - loss: 1.121 - ETA: 5:43 - loss: 1.121 - ETA: 5:41 - loss: 1.121 - ETA: 5:40 - loss: 1.121 - ETA: 5:38 - loss: 1.120 - ETA: 5:36 - loss: 1.120 - ETA: 5:35 - loss: 1.120 - ETA: 5:33 - loss: 1.120 - ETA: 5:31 - loss: 1.119 - ETA: 5:30 - loss: 1.119 - ETA: 5:28 - loss: 1.121 - ETA: 5:27 - loss: 1.121 - ETA: 5:25 - loss: 1.122 - ETA: 5:23 - loss: 1.123 - ETA: 5:22 - loss: 1.122 - ETA: 5:20 - loss: 1.123 - ETA: 5:18 - loss: 1.122 - ETA: 5:17 - loss: 1.123 - ETA: 5:15 - loss: 1.124 - ETA: 5:14 - loss: 1.124 - ETA: 5:12 - loss: 1.124 - ETA: 5:11 - loss: 1.124 - ETA: 5:09 - loss: 1.124 - ETA: 5:07 - loss: 1.124 - ETA: 5:06 - loss: 1.125 - ETA: 5:04 - loss: 1.126 - ETA: 5:02 - loss: 1.126 - ETA: 5:01 - loss: 1.126 - ETA: 4:59 - loss: 1.126 - ETA: 4:58 - loss: 1.126 - ETA: 4:56 - loss: 1.126 - ETA: 4:55 - loss: 1.126 - ETA: 4:53 - loss: 1.126 - ETA: 4:51 - loss: 1.126 - ETA: 4:50 - loss: 1.126 - ETA: 4:48 - loss: 1.127 - ETA: 4:47 - loss: 1.127 - ETA: 4:45 - loss: 1.126 - ETA: 4:43 - loss: 1.126 - ETA: 4:42 - loss: 1.126 - ETA: 4:40 - loss: 1.126 - ETA: 4:38 - loss: 1.126 - ETA: 4:37 - loss: 1.127 - ETA: 4:35 - loss: 1.127 - ETA: 4:34 - loss: 1.128 - ETA: 4:32 - loss: 1.127 - ETA: 4:30 - loss: 1.127 - ETA: 4:29 - loss: 1.127 - ETA: 4:27 - loss: 1.126 - ETA: 4:26 - loss: 1.126 - ETA: 4:24 - loss: 1.126 - ETA: 4:22 - loss: 1.126 - ETA: 4:21 - loss: 1.126 - ETA: 4:19 - loss: 1.126 - ETA: 4:17 - loss: 1.126 - ETA: 4:16 - loss: 1.125 - ETA: 4:14 - loss: 1.126 - ETA: 4:13 - loss: 1.126 - ETA: 4:11 - loss: 1.126 - ETA: 4:10 - loss: 1.126 - ETA: 4:08 - loss: 1.126 - ETA: 4:06 - loss: 1.126 - ETA: 4:05 - loss: 1.126 - ETA: 4:03 - loss: 1.125 - ETA: 4:02 - loss: 1.126 - ETA: 4:00 - loss: 1.126 - ETA: 3:58 - loss: 1.126 - ETA: 3:57 - loss: 1.127 - ETA: 3:55 - loss: 1.127 - ETA: 3:54 - loss: 1.127 - ETA: 3:52 - loss: 1.127 - ETA: 3:51 - loss: 1.127 - ETA: 3:49 - loss: 1.126 - ETA: 3:48 - loss: 1.126 - ETA: 3:46 - loss: 1.126 - ETA: 3:44 - loss: 1.126 - ETA: 3:43 - loss: 1.126 - ETA: 3:41 - loss: 1.126 - ETA: 3:40 - loss: 1.126 - ETA: 3:38 - loss: 1.127 - ETA: 3:36 - loss: 1.127 - ETA: 3:35 - loss: 1.127 - ETA: 3:33 - loss: 1.127 - ETA: 3:32 - loss: 1.127 - ETA: 3:30 - loss: 1.126 - ETA: 3:28 - loss: 1.127 - ETA: 3:27 - loss: 1.127 - ETA: 3:25 - loss: 1.126 - ETA: 3:24 - loss: 1.127 - ETA: 3:22 - loss: 1.127 - ETA: 3:21 - loss: 1.127 - ETA: 3:19 - loss: 1.127 - ETA: 3:17 - loss: 1.128 - ETA: 3:16 - loss: 1.127 - ETA: 3:14 - loss: 1.127 - ETA: 3:13 - loss: 1.127 - ETA: 3:11 - loss: 1.127 - ETA: 3:09 - loss: 1.127 - ETA: 3:08 - loss: 1.126 - ETA: 3:06 - loss: 1.126 - ETA: 3:05 - loss: 1.126 - ETA: 3:03 - loss: 1.126 - ETA: 3:02 - loss: 1.126 - ETA: 3:00 - loss: 1.126 - ETA: 2:58 - loss: 1.126 - ETA: 2:57 - loss: 1.126 - ETA: 2:55 - loss: 1.127 - ETA: 2:54 - loss: 1.126 - ETA: 2:52 - loss: 1.127 - ETA: 2:51 - loss: 1.127 - ETA: 2:49 - loss: 1.128 - ETA: 2:47 - loss: 1.128 - ETA: 2:46 - loss: 1.128 - ETA: 2:44 - loss: 1.128 - ETA: 2:43 - loss: 1.128 - ETA: 2:41 - loss: 1.127 - ETA: 2:39 - loss: 1.128 - ETA: 2:38 - loss: 1.127 - ETA: 2:36 - loss: 1.128 - ETA: 2:35 - loss: 1.127 - ETA: 2:33 - loss: 1.127 - ETA: 2:32 - loss: 1.127 - ETA: 2:30 - loss: 1.128 - ETA: 2:28 - loss: 1.128 - ETA: 2:27 - loss: 1.128 - ETA: 2:25 - loss: 1.128 - ETA: 2:24 - loss: 1.128 - ETA: 2:22 - loss: 1.128 - ETA: 2:20 - loss: 1.128 - ETA: 2:19 - loss: 1.128 - ETA: 2:17 - loss: 1.128 - ETA: 2:16 - loss: 1.128 - ETA: 2:14 - loss: 1.128 - ETA: 2:12 - loss: 1.128 - ETA: 2:11 - loss: 1.128 - ETA: 2:09 - loss: 1.128 - ETA: 2:08 - loss: 1.128 - ETA: 2:06 - loss: 1.128 - ETA: 2:05 - loss: 1.128 - ETA: 2:03 - loss: 1.128 - ETA: 2:01 - loss: 1.128 - ETA: 2:00 - loss: 1.128 - ETA: 1:58 - loss: 1.128 - ETA: 1:57 - loss: 1.128 - ETA: 1:55 - loss: 1.128 - ETA: 1:53 - loss: 1.129 - ETA: 1:52 - loss: 1.129 - ETA: 1:50 - loss: 1.129 - ETA: 1:49 - loss: 1.128 - ETA: 1:47 - loss: 1.129 - ETA: 1:45 - loss: 1.129 - ETA: 1:44 - loss: 1.129 - ETA: 1:42 - loss: 1.129 - ETA: 1:41 - loss: 1.128 - ETA: 1:39 - loss: 1.129 - ETA: 1:38 - loss: 1.129 - ETA: 1:36 - loss: 1.129 - ETA: 1:34 - loss: 1.129 - ETA: 1:33 - loss: 1.129 - ETA: 1:31 - loss: 1.129 - ETA: 1:30 - loss: 1.129 - ETA: 1:28 - loss: 1.129 - ETA: 1:26 - loss: 1.129 - ETA: 1:25 - loss: 1.129 - ETA: 1:23 - loss: 1.129 - ETA: 1:22 - loss: 1.129 - ETA: 1:20 - loss: 1.129 - ETA: 1:19 - loss: 1.129 - ETA: 1:17 - loss: 1.129 - ETA: 1:15 - loss: 1.129 - ETA: 1:14 - loss: 1.129 - ETA: 1:12 - loss: 1.129 - ETA: 1:11 - loss: 1.129 - ETA: 1:09 - loss: 1.129 - ETA: 1:08 - loss: 1.129 - ETA: 1:06 - loss: 1.129 - ETA: 1:04 - loss: 1.129 - ETA: 1:03 - loss: 1.128 - ETA: 1:01 - loss: 1.128 - ETA: 1:00 - loss: 1.128 - ETA: 58s - loss: 1.128 - ETA: 56s - loss: 1.12 - ETA: 55s - loss: 1.12 - ETA: 53s - loss: 1.12 - ETA: 52s - loss: 1.12 - ETA: 50s - loss: 1.12 - ETA: 49s - loss: 1.12 - ETA: 47s - loss: 1.12 - ETA: 45s - loss: 1.12 - ETA: 44s - loss: 1.12 - ETA: 42s - loss: 1.12 - ETA: 41s - loss: 1.12 - ETA: 39s - loss: 1.12 - ETA: 37s - loss: 1.12 - ETA: 36s - loss: 1.12 - ETA: 34s - loss: 1.12 - ETA: 33s - loss: 1.12 - ETA: 31s - loss: 1.12 - ETA: 30s - loss: 1.12 - ETA: 28s - loss: 1.12 - ETA: 26s - loss: 1.12 - ETA: 25s - loss: 1.12 - ETA: 23s - loss: 1.12 - ETA: 22s - loss: 1.12 - ETA: 20s - loss: 1.12 - ETA: 18s - loss: 1.12 - ETA: 17s - loss: 1.12 - ETA: 15s - loss: 1.12 - ETA: 14s - loss: 1.12 - ETA: 12s - loss: 1.12 - ETA: 11s - loss: 1.12 - ETA: 9s - loss: 1.1274 - ETA: 7s - loss: 1.127 - ETA: 6s - loss: 1.127 - ETA: 4s - loss: 1.127 - ETA: 3s - loss: 1.128 - ETA: 1s - loss: 1.128 - 519s 2s/step - loss: 1.1284 - val_loss: 1.3205\n",
      "Epoch 12/20\n",
      "300/300 [==============================] - ETA: 8:11 - loss: 1.075 - ETA: 7:54 - loss: 1.139 - ETA: 7:49 - loss: 1.131 - ETA: 7:45 - loss: 1.112 - ETA: 7:47 - loss: 1.107 - ETA: 7:46 - loss: 1.099 - ETA: 7:49 - loss: 1.099 - ETA: 7:45 - loss: 1.103 - ETA: 7:43 - loss: 1.100 - ETA: 7:42 - loss: 1.097 - ETA: 7:40 - loss: 1.092 - ETA: 7:37 - loss: 1.087 - ETA: 7:35 - loss: 1.086 - ETA: 7:32 - loss: 1.084 - ETA: 7:30 - loss: 1.083 - ETA: 7:29 - loss: 1.081 - ETA: 7:27 - loss: 1.081 - ETA: 7:25 - loss: 1.080 - ETA: 7:23 - loss: 1.076 - ETA: 7:22 - loss: 1.074 - ETA: 7:20 - loss: 1.073 - ETA: 7:18 - loss: 1.078 - ETA: 7:16 - loss: 1.076 - ETA: 7:15 - loss: 1.078 - ETA: 7:26 - loss: 1.078 - ETA: 7:33 - loss: 1.079 - ETA: 7:30 - loss: 1.076 - ETA: 7:28 - loss: 1.074 - ETA: 7:25 - loss: 1.076 - ETA: 7:23 - loss: 1.076 - ETA: 7:20 - loss: 1.078 - ETA: 7:18 - loss: 1.079 - ETA: 7:15 - loss: 1.076 - ETA: 7:13 - loss: 1.076 - ETA: 7:11 - loss: 1.076 - ETA: 7:09 - loss: 1.076 - ETA: 7:06 - loss: 1.077 - ETA: 7:05 - loss: 1.077 - ETA: 7:03 - loss: 1.075 - ETA: 7:01 - loss: 1.078 - ETA: 6:59 - loss: 1.078 - ETA: 6:57 - loss: 1.077 - ETA: 6:55 - loss: 1.076 - ETA: 6:53 - loss: 1.076 - ETA: 6:51 - loss: 1.076 - ETA: 6:49 - loss: 1.076 - ETA: 6:47 - loss: 1.076 - ETA: 6:45 - loss: 1.076 - ETA: 6:43 - loss: 1.076 - ETA: 6:41 - loss: 1.076 - ETA: 6:39 - loss: 1.077 - ETA: 6:38 - loss: 1.076 - ETA: 6:36 - loss: 1.074 - ETA: 6:34 - loss: 1.074 - ETA: 6:32 - loss: 1.076 - ETA: 6:30 - loss: 1.076 - ETA: 6:28 - loss: 1.077 - ETA: 6:27 - loss: 1.077 - ETA: 6:25 - loss: 1.078 - ETA: 6:23 - loss: 1.077 - ETA: 6:21 - loss: 1.077 - ETA: 6:20 - loss: 1.076 - ETA: 6:18 - loss: 1.075 - ETA: 6:16 - loss: 1.075 - ETA: 6:14 - loss: 1.075 - ETA: 6:13 - loss: 1.074 - ETA: 6:11 - loss: 1.074 - ETA: 6:09 - loss: 1.074 - ETA: 6:08 - loss: 1.074 - ETA: 6:06 - loss: 1.075 - ETA: 6:09 - loss: 1.075 - ETA: 6:11 - loss: 1.075 - ETA: 6:09 - loss: 1.075 - ETA: 6:08 - loss: 1.075 - ETA: 6:06 - loss: 1.076 - ETA: 6:05 - loss: 1.077 - ETA: 6:03 - loss: 1.077 - ETA: 6:01 - loss: 1.077 - ETA: 6:00 - loss: 1.077 - ETA: 5:58 - loss: 1.077 - ETA: 5:57 - loss: 1.077 - ETA: 5:55 - loss: 1.077 - ETA: 5:53 - loss: 1.078 - ETA: 5:52 - loss: 1.078 - ETA: 5:50 - loss: 1.078 - ETA: 5:48 - loss: 1.078 - ETA: 5:47 - loss: 1.078 - ETA: 5:45 - loss: 1.077 - ETA: 5:43 - loss: 1.078 - ETA: 5:42 - loss: 1.078 - ETA: 5:40 - loss: 1.078 - ETA: 5:39 - loss: 1.078 - ETA: 5:37 - loss: 1.078 - ETA: 5:35 - loss: 1.078 - ETA: 5:34 - loss: 1.078 - ETA: 5:32 - loss: 1.077 - ETA: 5:30 - loss: 1.077 - ETA: 5:28 - loss: 1.077 - ETA: 5:27 - loss: 1.078 - ETA: 5:25 - loss: 1.079 - ETA: 5:23 - loss: 1.078 - ETA: 5:22 - loss: 1.078 - ETA: 5:20 - loss: 1.079 - ETA: 5:18 - loss: 1.079 - ETA: 5:17 - loss: 1.079 - ETA: 5:15 - loss: 1.079 - ETA: 5:13 - loss: 1.080 - ETA: 5:12 - loss: 1.080 - ETA: 5:10 - loss: 1.080 - ETA: 5:09 - loss: 1.080 - ETA: 5:07 - loss: 1.080 - ETA: 5:05 - loss: 1.079 - ETA: 5:03 - loss: 1.080 - ETA: 5:02 - loss: 1.079 - ETA: 5:00 - loss: 1.079 - ETA: 4:58 - loss: 1.079 - ETA: 4:56 - loss: 1.080 - ETA: 4:55 - loss: 1.080 - ETA: 4:53 - loss: 1.079 - ETA: 4:51 - loss: 1.080 - ETA: 4:50 - loss: 1.080 - ETA: 4:48 - loss: 1.080 - ETA: 4:46 - loss: 1.080 - ETA: 4:45 - loss: 1.080 - ETA: 4:43 - loss: 1.080 - ETA: 4:41 - loss: 1.080 - ETA: 4:39 - loss: 1.080 - ETA: 4:39 - loss: 1.080 - ETA: 4:39 - loss: 1.080 - ETA: 4:37 - loss: 1.080 - ETA: 4:35 - loss: 1.081 - ETA: 4:33 - loss: 1.081 - ETA: 4:32 - loss: 1.081 - ETA: 4:30 - loss: 1.081 - ETA: 4:28 - loss: 1.081 - ETA: 4:27 - loss: 1.081 - ETA: 4:25 - loss: 1.081 - ETA: 4:23 - loss: 1.081 - ETA: 4:22 - loss: 1.081 - ETA: 4:20 - loss: 1.081 - ETA: 4:18 - loss: 1.083 - ETA: 4:16 - loss: 1.083 - ETA: 4:15 - loss: 1.083 - ETA: 4:13 - loss: 1.083 - ETA: 4:11 - loss: 1.083 - ETA: 4:10 - loss: 1.083 - ETA: 4:08 - loss: 1.083 - ETA: 4:06 - loss: 1.084 - ETA: 4:05 - loss: 1.084 - ETA: 4:03 - loss: 1.083 - ETA: 4:01 - loss: 1.083 - ETA: 4:00 - loss: 1.083 - ETA: 3:58 - loss: 1.084 - ETA: 3:56 - loss: 1.083 - ETA: 3:55 - loss: 1.083 - ETA: 3:53 - loss: 1.084 - ETA: 3:51 - loss: 1.084 - ETA: 3:50 - loss: 1.085 - ETA: 3:48 - loss: 1.084 - ETA: 3:46 - loss: 1.084 - ETA: 3:45 - loss: 1.085 - ETA: 3:43 - loss: 1.085 - ETA: 3:41 - loss: 1.084 - ETA: 3:40 - loss: 1.085 - ETA: 3:38 - loss: 1.085 - ETA: 3:36 - loss: 1.085 - ETA: 3:35 - loss: 1.085 - ETA: 3:33 - loss: 1.085 - ETA: 3:31 - loss: 1.084 - ETA: 3:30 - loss: 1.084 - ETA: 3:28 - loss: 1.085 - ETA: 3:26 - loss: 1.085 - ETA: 3:25 - loss: 1.085 - ETA: 3:23 - loss: 1.086 - ETA: 3:21 - loss: 1.086 - ETA: 3:20 - loss: 1.086 - ETA: 3:18 - loss: 1.086 - ETA: 3:16 - loss: 1.086 - ETA: 3:15 - loss: 1.086 - ETA: 3:13 - loss: 1.086 - ETA: 3:11 - loss: 1.086 - ETA: 3:10 - loss: 1.086 - ETA: 3:08 - loss: 1.086 - ETA: 3:06 - loss: 1.086 - ETA: 3:05 - loss: 1.085 - ETA: 3:03 - loss: 1.086 - ETA: 3:02 - loss: 1.087 - ETA: 3:00 - loss: 1.087 - ETA: 2:58 - loss: 1.087 - ETA: 2:57 - loss: 1.087 - ETA: 2:55 - loss: 1.087 - ETA: 2:53 - loss: 1.087 - ETA: 2:52 - loss: 1.087 - ETA: 2:50 - loss: 1.087 - ETA: 2:49 - loss: 1.087 - ETA: 2:47 - loss: 1.087 - ETA: 2:45 - loss: 1.086 - ETA: 2:44 - loss: 1.087 - ETA: 2:42 - loss: 1.086 - ETA: 2:40 - loss: 1.086 - ETA: 2:39 - loss: 1.086 - ETA: 2:37 - loss: 1.086 - ETA: 2:35 - loss: 1.086 - ETA: 2:34 - loss: 1.085 - ETA: 2:32 - loss: 1.085 - ETA: 2:31 - loss: 1.086 - ETA: 2:29 - loss: 1.085 - ETA: 2:27 - loss: 1.085 - ETA: 2:26 - loss: 1.085 - ETA: 2:24 - loss: 1.085 - ETA: 2:22 - loss: 1.085 - ETA: 2:21 - loss: 1.085 - ETA: 2:19 - loss: 1.085 - ETA: 2:18 - loss: 1.085 - ETA: 2:16 - loss: 1.085 - ETA: 2:14 - loss: 1.084 - ETA: 2:13 - loss: 1.084 - ETA: 2:11 - loss: 1.085 - ETA: 2:09 - loss: 1.085 - ETA: 2:08 - loss: 1.085 - ETA: 2:07 - loss: 1.085 - ETA: 2:05 - loss: 1.084 - ETA: 2:04 - loss: 1.085 - ETA: 2:02 - loss: 1.085 - ETA: 2:00 - loss: 1.084 - ETA: 1:59 - loss: 1.084 - ETA: 1:57 - loss: 1.084 - ETA: 1:56 - loss: 1.084 - ETA: 1:54 - loss: 1.084 - ETA: 1:52 - loss: 1.084 - ETA: 1:51 - loss: 1.084 - ETA: 1:49 - loss: 1.084 - ETA: 1:47 - loss: 1.084 - ETA: 1:46 - loss: 1.084 - ETA: 1:44 - loss: 1.084 - ETA: 1:43 - loss: 1.084 - ETA: 1:41 - loss: 1.084 - ETA: 1:39 - loss: 1.084 - ETA: 1:38 - loss: 1.083 - ETA: 1:36 - loss: 1.083 - ETA: 1:35 - loss: 1.083 - ETA: 1:33 - loss: 1.084 - ETA: 1:31 - loss: 1.083 - ETA: 1:30 - loss: 1.084 - ETA: 1:28 - loss: 1.084 - ETA: 1:26 - loss: 1.083 - ETA: 1:25 - loss: 1.083 - ETA: 1:23 - loss: 1.083 - ETA: 1:22 - loss: 1.083 - ETA: 1:20 - loss: 1.082 - ETA: 1:18 - loss: 1.082 - ETA: 1:17 - loss: 1.082 - ETA: 1:15 - loss: 1.082 - ETA: 1:13 - loss: 1.083 - ETA: 1:12 - loss: 1.083 - ETA: 1:10 - loss: 1.083 - ETA: 1:09 - loss: 1.082 - ETA: 1:07 - loss: 1.082 - ETA: 1:05 - loss: 1.082 - ETA: 1:04 - loss: 1.082 - ETA: 1:02 - loss: 1.082 - ETA: 1:01 - loss: 1.082 - ETA: 59s - loss: 1.082 - ETA: 57s - loss: 1.08 - ETA: 56s - loss: 1.08 - ETA: 54s - loss: 1.08 - ETA: 53s - loss: 1.08 - ETA: 51s - loss: 1.08 - ETA: 49s - loss: 1.08 - ETA: 48s - loss: 1.08 - ETA: 46s - loss: 1.08 - ETA: 44s - loss: 1.08 - ETA: 43s - loss: 1.08 - ETA: 41s - loss: 1.08 - ETA: 40s - loss: 1.08 - ETA: 38s - loss: 1.08 - ETA: 36s - loss: 1.08 - ETA: 35s - loss: 1.08 - ETA: 33s - loss: 1.08 - ETA: 32s - loss: 1.08 - ETA: 30s - loss: 1.08 - ETA: 28s - loss: 1.08 - ETA: 27s - loss: 1.08 - ETA: 25s - loss: 1.08 - ETA: 24s - loss: 1.08 - ETA: 22s - loss: 1.08 - ETA: 20s - loss: 1.08 - ETA: 19s - loss: 1.08 - ETA: 17s - loss: 1.08 - ETA: 16s - loss: 1.08 - ETA: 14s - loss: 1.08 - ETA: 12s - loss: 1.08 - ETA: 11s - loss: 1.08 - ETA: 9s - loss: 1.0824 - ETA: 8s - loss: 1.082 - ETA: 6s - loss: 1.082 - ETA: 4s - loss: 1.082 - ETA: 3s - loss: 1.082 - ETA: 1s - loss: 1.082 - 525s 2s/step - loss: 1.0822 - val_loss: 1.3137\n",
      "Epoch 13/20\n"
     ]
    },
    {
     "name": "stdout",
     "output_type": "stream",
     "text": [
      "300/300 [==============================] - ETA: 8:02 - loss: 1.056 - ETA: 7:56 - loss: 1.074 - ETA: 7:46 - loss: 1.051 - ETA: 7:43 - loss: 1.050 - ETA: 7:44 - loss: 1.050 - ETA: 7:44 - loss: 1.048 - ETA: 7:40 - loss: 1.044 - ETA: 7:38 - loss: 1.044 - ETA: 8:00 - loss: 1.031 - ETA: 8:49 - loss: 1.032 - ETA: 9:28 - loss: 1.032 - ETA: 9:25 - loss: 1.035 - ETA: 9:13 - loss: 1.030 - ETA: 9:03 - loss: 1.037 - ETA: 8:55 - loss: 1.037 - ETA: 8:48 - loss: 1.034 - ETA: 8:40 - loss: 1.034 - ETA: 8:34 - loss: 1.030 - ETA: 8:28 - loss: 1.033 - ETA: 8:23 - loss: 1.029 - ETA: 8:17 - loss: 1.031 - ETA: 8:13 - loss: 1.028 - ETA: 8:08 - loss: 1.029 - ETA: 8:04 - loss: 1.027 - ETA: 8:00 - loss: 1.025 - ETA: 7:56 - loss: 1.027 - ETA: 7:54 - loss: 1.028 - ETA: 7:50 - loss: 1.025 - ETA: 7:48 - loss: 1.024 - ETA: 7:45 - loss: 1.022 - ETA: 7:42 - loss: 1.023 - ETA: 7:39 - loss: 1.020 - ETA: 7:36 - loss: 1.021 - ETA: 7:33 - loss: 1.017 - ETA: 7:30 - loss: 1.016 - ETA: 7:27 - loss: 1.018 - ETA: 7:25 - loss: 1.018 - ETA: 7:22 - loss: 1.018 - ETA: 7:20 - loss: 1.018 - ETA: 7:17 - loss: 1.019 - ETA: 7:14 - loss: 1.020 - ETA: 7:12 - loss: 1.020 - ETA: 7:10 - loss: 1.020 - ETA: 7:07 - loss: 1.022 - ETA: 7:05 - loss: 1.022 - ETA: 7:03 - loss: 1.020 - ETA: 7:01 - loss: 1.020 - ETA: 6:58 - loss: 1.021 - ETA: 6:57 - loss: 1.020 - ETA: 6:54 - loss: 1.020 - ETA: 6:52 - loss: 1.019 - ETA: 6:50 - loss: 1.018 - ETA: 6:48 - loss: 1.018 - ETA: 6:46 - loss: 1.019 - ETA: 6:44 - loss: 1.017 - ETA: 6:42 - loss: 1.017 - ETA: 6:40 - loss: 1.016 - ETA: 6:38 - loss: 1.017 - ETA: 6:36 - loss: 1.017 - ETA: 6:34 - loss: 1.017 - ETA: 6:32 - loss: 1.017 - ETA: 6:30 - loss: 1.017 - ETA: 6:28 - loss: 1.017 - ETA: 6:26 - loss: 1.018 - ETA: 6:24 - loss: 1.017 - ETA: 6:22 - loss: 1.016 - ETA: 6:20 - loss: 1.016 - ETA: 6:18 - loss: 1.016 - ETA: 6:17 - loss: 1.014 - ETA: 6:15 - loss: 1.014 - ETA: 6:13 - loss: 1.013 - ETA: 6:11 - loss: 1.013 - ETA: 6:09 - loss: 1.012 - ETA: 6:07 - loss: 1.013 - ETA: 6:05 - loss: 1.015 - ETA: 6:03 - loss: 1.015 - ETA: 6:02 - loss: 1.015 - ETA: 6:00 - loss: 1.014 - ETA: 5:58 - loss: 1.016 - ETA: 5:57 - loss: 1.016 - ETA: 5:55 - loss: 1.016 - ETA: 5:53 - loss: 1.016 - ETA: 5:51 - loss: 1.017 - ETA: 5:49 - loss: 1.016 - ETA: 5:48 - loss: 1.016 - ETA: 5:46 - loss: 1.016 - ETA: 5:44 - loss: 1.015 - ETA: 5:42 - loss: 1.015 - ETA: 5:41 - loss: 1.016 - ETA: 5:39 - loss: 1.016 - ETA: 5:37 - loss: 1.017 - ETA: 5:35 - loss: 1.017 - ETA: 5:34 - loss: 1.018 - ETA: 5:32 - loss: 1.017 - ETA: 5:30 - loss: 1.017 - ETA: 5:28 - loss: 1.017 - ETA: 5:27 - loss: 1.018 - ETA: 5:25 - loss: 1.017 - ETA: 5:23 - loss: 1.018 - ETA: 5:22 - loss: 1.018 - ETA: 5:20 - loss: 1.017 - ETA: 5:18 - loss: 1.018 - ETA: 5:16 - loss: 1.018 - ETA: 5:15 - loss: 1.019 - ETA: 5:13 - loss: 1.019 - ETA: 5:11 - loss: 1.019 - ETA: 5:10 - loss: 1.020 - ETA: 5:08 - loss: 1.020 - ETA: 5:06 - loss: 1.020 - ETA: 5:04 - loss: 1.020 - ETA: 5:03 - loss: 1.020 - ETA: 5:01 - loss: 1.020 - ETA: 4:59 - loss: 1.019 - ETA: 4:58 - loss: 1.020 - ETA: 4:56 - loss: 1.020 - ETA: 4:54 - loss: 1.020 - ETA: 4:53 - loss: 1.020 - ETA: 4:51 - loss: 1.021 - ETA: 4:50 - loss: 1.022 - ETA: 4:48 - loss: 1.022 - ETA: 4:46 - loss: 1.022 - ETA: 4:45 - loss: 1.022 - ETA: 4:43 - loss: 1.022 - ETA: 4:41 - loss: 1.022 - ETA: 4:40 - loss: 1.022 - ETA: 4:38 - loss: 1.022 - ETA: 4:37 - loss: 1.022 - ETA: 4:35 - loss: 1.022 - ETA: 4:33 - loss: 1.023 - ETA: 4:32 - loss: 1.023 - ETA: 4:30 - loss: 1.023 - ETA: 4:28 - loss: 1.023 - ETA: 4:27 - loss: 1.023 - ETA: 4:25 - loss: 1.023 - ETA: 4:25 - loss: 1.022 - ETA: 4:24 - loss: 1.023 - ETA: 4:23 - loss: 1.023 - ETA: 4:21 - loss: 1.023 - ETA: 4:19 - loss: 1.023 - ETA: 4:18 - loss: 1.023 - ETA: 4:16 - loss: 1.023 - ETA: 4:14 - loss: 1.023 - ETA: 4:13 - loss: 1.023 - ETA: 4:11 - loss: 1.024 - ETA: 4:09 - loss: 1.024 - ETA: 4:08 - loss: 1.024 - ETA: 4:06 - loss: 1.024 - ETA: 4:04 - loss: 1.024 - ETA: 4:03 - loss: 1.025 - ETA: 4:01 - loss: 1.024 - ETA: 3:59 - loss: 1.024 - ETA: 3:58 - loss: 1.025 - ETA: 3:56 - loss: 1.025 - ETA: 3:54 - loss: 1.025 - ETA: 3:53 - loss: 1.025 - ETA: 3:51 - loss: 1.025 - ETA: 3:49 - loss: 1.025 - ETA: 3:48 - loss: 1.025 - ETA: 3:46 - loss: 1.025 - ETA: 3:44 - loss: 1.025 - ETA: 3:43 - loss: 1.025 - ETA: 3:41 - loss: 1.026 - ETA: 3:39 - loss: 1.026 - ETA: 3:38 - loss: 1.026 - ETA: 3:36 - loss: 1.026 - ETA: 3:35 - loss: 1.026 - ETA: 3:33 - loss: 1.027 - ETA: 3:31 - loss: 1.027 - ETA: 3:30 - loss: 1.027 - ETA: 3:28 - loss: 1.027 - ETA: 3:26 - loss: 1.028 - ETA: 3:25 - loss: 1.028 - ETA: 3:23 - loss: 1.027 - ETA: 3:21 - loss: 1.028 - ETA: 3:20 - loss: 1.027 - ETA: 3:18 - loss: 1.027 - ETA: 3:17 - loss: 1.027 - ETA: 3:15 - loss: 1.027 - ETA: 3:13 - loss: 1.027 - ETA: 3:12 - loss: 1.028 - ETA: 3:10 - loss: 1.028 - ETA: 3:08 - loss: 1.028 - ETA: 3:07 - loss: 1.028 - ETA: 3:05 - loss: 1.029 - ETA: 3:03 - loss: 1.029 - ETA: 3:02 - loss: 1.029 - ETA: 3:00 - loss: 1.029 - ETA: 2:59 - loss: 1.029 - ETA: 2:57 - loss: 1.029 - ETA: 2:55 - loss: 1.029 - ETA: 2:54 - loss: 1.029 - ETA: 2:52 - loss: 1.029 - ETA: 2:50 - loss: 1.029 - ETA: 2:49 - loss: 1.029 - ETA: 2:47 - loss: 1.029 - ETA: 2:46 - loss: 1.029 - ETA: 2:44 - loss: 1.029 - ETA: 2:42 - loss: 1.030 - ETA: 2:41 - loss: 1.030 - ETA: 2:39 - loss: 1.030 - ETA: 2:38 - loss: 1.030 - ETA: 2:36 - loss: 1.031 - ETA: 2:34 - loss: 1.031 - ETA: 2:33 - loss: 1.031 - ETA: 2:31 - loss: 1.031 - ETA: 2:30 - loss: 1.031 - ETA: 2:28 - loss: 1.031 - ETA: 2:26 - loss: 1.032 - ETA: 2:25 - loss: 1.032 - ETA: 2:23 - loss: 1.032 - ETA: 2:21 - loss: 1.032 - ETA: 2:20 - loss: 1.032 - ETA: 2:18 - loss: 1.032 - ETA: 2:17 - loss: 1.032 - ETA: 2:15 - loss: 1.032 - ETA: 2:13 - loss: 1.032 - ETA: 2:12 - loss: 1.031 - ETA: 2:10 - loss: 1.032 - ETA: 2:09 - loss: 1.032 - ETA: 2:07 - loss: 1.032 - ETA: 2:05 - loss: 1.031 - ETA: 2:04 - loss: 1.032 - ETA: 2:02 - loss: 1.032 - ETA: 2:01 - loss: 1.032 - ETA: 1:59 - loss: 1.032 - ETA: 1:57 - loss: 1.032 - ETA: 1:56 - loss: 1.032 - ETA: 1:55 - loss: 1.032 - ETA: 1:53 - loss: 1.032 - ETA: 1:52 - loss: 1.032 - ETA: 1:50 - loss: 1.033 - ETA: 1:48 - loss: 1.033 - ETA: 1:47 - loss: 1.033 - ETA: 1:45 - loss: 1.033 - ETA: 1:44 - loss: 1.033 - ETA: 1:42 - loss: 1.033 - ETA: 1:40 - loss: 1.033 - ETA: 1:39 - loss: 1.033 - ETA: 1:37 - loss: 1.033 - ETA: 1:36 - loss: 1.034 - ETA: 1:34 - loss: 1.034 - ETA: 1:32 - loss: 1.034 - ETA: 1:31 - loss: 1.034 - ETA: 1:29 - loss: 1.034 - ETA: 1:28 - loss: 1.034 - ETA: 1:26 - loss: 1.033 - ETA: 1:24 - loss: 1.033 - ETA: 1:23 - loss: 1.033 - ETA: 1:21 - loss: 1.034 - ETA: 1:20 - loss: 1.034 - ETA: 1:18 - loss: 1.034 - ETA: 1:16 - loss: 1.034 - ETA: 1:15 - loss: 1.034 - ETA: 1:13 - loss: 1.034 - ETA: 1:11 - loss: 1.034 - ETA: 1:10 - loss: 1.034 - ETA: 1:08 - loss: 1.034 - ETA: 1:07 - loss: 1.034 - ETA: 1:05 - loss: 1.034 - ETA: 1:03 - loss: 1.034 - ETA: 1:02 - loss: 1.034 - ETA: 1:00 - loss: 1.034 - ETA: 59s - loss: 1.034 - ETA: 57s - loss: 1.03 - ETA: 55s - loss: 1.03 - ETA: 54s - loss: 1.03 - ETA: 52s - loss: 1.03 - ETA: 51s - loss: 1.03 - ETA: 49s - loss: 1.03 - ETA: 47s - loss: 1.03 - ETA: 46s - loss: 1.03 - ETA: 44s - loss: 1.03 - ETA: 43s - loss: 1.03 - ETA: 41s - loss: 1.03 - ETA: 39s - loss: 1.03 - ETA: 38s - loss: 1.03 - ETA: 36s - loss: 1.03 - ETA: 35s - loss: 1.03 - ETA: 33s - loss: 1.03 - ETA: 31s - loss: 1.03 - ETA: 30s - loss: 1.03 - ETA: 28s - loss: 1.03 - ETA: 27s - loss: 1.03 - ETA: 25s - loss: 1.03 - ETA: 23s - loss: 1.03 - ETA: 22s - loss: 1.03 - ETA: 20s - loss: 1.03 - ETA: 19s - loss: 1.03 - ETA: 17s - loss: 1.03 - ETA: 15s - loss: 1.03 - ETA: 14s - loss: 1.03 - ETA: 12s - loss: 1.03 - ETA: 11s - loss: 1.03 - ETA: 9s - loss: 1.0370 - ETA: 8s - loss: 1.037 - ETA: 6s - loss: 1.037 - ETA: 4s - loss: 1.037 - ETA: 3s - loss: 1.037 - ETA: 1s - loss: 1.037 - 523s 2s/step - loss: 1.0371 - val_loss: 1.2979\n",
      "Epoch 14/20\n",
      "300/300 [==============================] - ETA: 7:50 - loss: 0.949 - ETA: 7:46 - loss: 0.996 - ETA: 7:38 - loss: 0.986 - ETA: 7:35 - loss: 0.987 - ETA: 7:32 - loss: 0.991 - ETA: 7:33 - loss: 0.987 - ETA: 7:33 - loss: 0.984 - ETA: 7:32 - loss: 0.987 - ETA: 7:29 - loss: 0.985 - ETA: 7:29 - loss: 0.984 - ETA: 7:28 - loss: 0.989 - ETA: 7:26 - loss: 0.986 - ETA: 7:24 - loss: 0.987 - ETA: 7:22 - loss: 0.989 - ETA: 7:22 - loss: 0.995 - ETA: 7:21 - loss: 0.995 - ETA: 7:19 - loss: 0.993 - ETA: 7:17 - loss: 0.991 - ETA: 7:16 - loss: 0.993 - ETA: 7:15 - loss: 0.995 - ETA: 7:13 - loss: 0.995 - ETA: 7:12 - loss: 0.993 - ETA: 7:10 - loss: 0.994 - ETA: 7:09 - loss: 0.996 - ETA: 7:09 - loss: 0.999 - ETA: 7:08 - loss: 1.000 - ETA: 7:06 - loss: 1.000 - ETA: 7:04 - loss: 1.000 - ETA: 7:03 - loss: 0.998 - ETA: 7:01 - loss: 0.996 - ETA: 7:00 - loss: 0.996 - ETA: 6:58 - loss: 0.995 - ETA: 6:57 - loss: 0.994 - ETA: 6:56 - loss: 0.990 - ETA: 6:55 - loss: 0.986 - ETA: 6:53 - loss: 0.985 - ETA: 6:52 - loss: 0.985 - ETA: 6:50 - loss: 0.983 - ETA: 6:49 - loss: 0.983 - ETA: 6:49 - loss: 0.984 - ETA: 6:48 - loss: 0.985 - ETA: 6:46 - loss: 0.987 - ETA: 6:45 - loss: 0.986 - ETA: 6:44 - loss: 0.985 - ETA: 6:42 - loss: 0.985 - ETA: 6:40 - loss: 0.986 - ETA: 6:39 - loss: 0.987 - ETA: 6:38 - loss: 0.986 - ETA: 6:37 - loss: 0.986 - ETA: 6:35 - loss: 0.986 - ETA: 6:34 - loss: 0.986 - ETA: 6:32 - loss: 0.987 - ETA: 6:31 - loss: 0.986 - ETA: 6:29 - loss: 0.987 - ETA: 6:28 - loss: 0.987 - ETA: 6:26 - loss: 0.986 - ETA: 6:25 - loss: 0.988 - ETA: 6:23 - loss: 0.988 - ETA: 6:22 - loss: 0.989 - ETA: 6:21 - loss: 0.988 - ETA: 6:19 - loss: 0.988 - ETA: 6:18 - loss: 0.988 - ETA: 6:17 - loss: 0.989 - ETA: 6:15 - loss: 0.989 - ETA: 6:13 - loss: 0.988 - ETA: 6:12 - loss: 0.990 - ETA: 6:10 - loss: 0.989 - ETA: 6:09 - loss: 0.988 - ETA: 6:07 - loss: 0.989 - ETA: 6:06 - loss: 0.989 - ETA: 6:04 - loss: 0.991 - ETA: 6:03 - loss: 0.990 - ETA: 6:01 - loss: 0.988 - ETA: 6:00 - loss: 0.988 - ETA: 5:58 - loss: 0.988 - ETA: 5:57 - loss: 0.989 - ETA: 5:55 - loss: 0.988 - ETA: 5:53 - loss: 0.989 - ETA: 5:52 - loss: 0.989 - ETA: 5:50 - loss: 0.990 - ETA: 5:48 - loss: 0.990 - ETA: 5:47 - loss: 0.990 - ETA: 5:45 - loss: 0.990 - ETA: 5:43 - loss: 0.990 - ETA: 5:42 - loss: 0.989 - ETA: 5:40 - loss: 0.990 - ETA: 5:38 - loss: 0.989 - ETA: 5:36 - loss: 0.988 - ETA: 5:35 - loss: 0.988 - ETA: 5:33 - loss: 0.987 - ETA: 5:32 - loss: 0.987 - ETA: 5:30 - loss: 0.988 - ETA: 5:28 - loss: 0.988 - ETA: 5:27 - loss: 0.987 - ETA: 5:25 - loss: 0.988 - ETA: 5:23 - loss: 0.988 - ETA: 5:22 - loss: 0.989 - ETA: 5:20 - loss: 0.989 - ETA: 5:19 - loss: 0.989 - ETA: 5:17 - loss: 0.989 - ETA: 5:16 - loss: 0.990 - ETA: 5:14 - loss: 0.990 - ETA: 5:12 - loss: 0.990 - ETA: 5:11 - loss: 0.989 - ETA: 5:09 - loss: 0.989 - ETA: 5:07 - loss: 0.989 - ETA: 5:06 - loss: 0.989 - ETA: 5:04 - loss: 0.988 - ETA: 5:03 - loss: 0.989 - ETA: 5:01 - loss: 0.991 - ETA: 4:59 - loss: 0.990 - ETA: 4:58 - loss: 0.990 - ETA: 4:56 - loss: 0.990 - ETA: 4:54 - loss: 0.989 - ETA: 4:53 - loss: 0.990 - ETA: 4:51 - loss: 0.989 - ETA: 4:49 - loss: 0.989 - ETA: 4:48 - loss: 0.990 - ETA: 4:46 - loss: 0.990 - ETA: 4:44 - loss: 0.990 - ETA: 4:43 - loss: 0.991 - ETA: 4:41 - loss: 0.990 - ETA: 4:40 - loss: 0.990 - ETA: 4:38 - loss: 0.990 - ETA: 4:36 - loss: 0.990 - ETA: 4:35 - loss: 0.990 - ETA: 4:33 - loss: 0.989 - ETA: 4:31 - loss: 0.989 - ETA: 4:30 - loss: 0.990 - ETA: 4:28 - loss: 0.989 - ETA: 4:27 - loss: 0.990 - ETA: 4:25 - loss: 0.990 - ETA: 4:24 - loss: 0.989 - ETA: 4:22 - loss: 0.990 - ETA: 4:20 - loss: 0.989 - ETA: 4:19 - loss: 0.990 - ETA: 4:17 - loss: 0.990 - ETA: 4:16 - loss: 0.990 - ETA: 4:14 - loss: 0.989 - ETA: 4:13 - loss: 0.989 - ETA: 4:11 - loss: 0.989 - ETA: 4:09 - loss: 0.988 - ETA: 4:08 - loss: 0.988 - ETA: 4:06 - loss: 0.989 - ETA: 4:04 - loss: 0.989 - ETA: 4:03 - loss: 0.989 - ETA: 4:01 - loss: 0.989 - ETA: 4:00 - loss: 0.989 - ETA: 3:58 - loss: 0.989 - ETA: 3:56 - loss: 0.989 - ETA: 3:55 - loss: 0.989 - ETA: 3:53 - loss: 0.990 - ETA: 3:52 - loss: 0.990 - ETA: 3:50 - loss: 0.989 - ETA: 3:48 - loss: 0.989 - ETA: 3:47 - loss: 0.988 - ETA: 3:45 - loss: 0.989 - ETA: 3:44 - loss: 0.989 - ETA: 3:42 - loss: 0.989 - ETA: 3:40 - loss: 0.988 - ETA: 3:39 - loss: 0.988 - ETA: 3:37 - loss: 0.988 - ETA: 3:36 - loss: 0.989 - ETA: 3:34 - loss: 0.988 - ETA: 3:32 - loss: 0.989 - ETA: 3:31 - loss: 0.989 - ETA: 3:29 - loss: 0.989 - ETA: 3:28 - loss: 0.989 - ETA: 3:26 - loss: 0.988 - ETA: 3:24 - loss: 0.988 - ETA: 3:23 - loss: 0.988 - ETA: 3:21 - loss: 0.989 - ETA: 3:20 - loss: 0.989 - ETA: 3:18 - loss: 0.989 - ETA: 3:16 - loss: 0.989 - ETA: 3:15 - loss: 0.989 - ETA: 3:13 - loss: 0.989 - ETA: 3:12 - loss: 0.989 - ETA: 3:10 - loss: 0.989 - ETA: 3:09 - loss: 0.988 - ETA: 3:07 - loss: 0.988 - ETA: 3:05 - loss: 0.988 - ETA: 3:04 - loss: 0.989 - ETA: 3:02 - loss: 0.989 - ETA: 3:01 - loss: 0.989 - ETA: 2:59 - loss: 0.989 - ETA: 2:57 - loss: 0.988 - ETA: 2:56 - loss: 0.988 - ETA: 2:54 - loss: 0.988 - ETA: 2:53 - loss: 0.988 - ETA: 2:51 - loss: 0.988 - ETA: 2:49 - loss: 0.988 - ETA: 2:48 - loss: 0.988 - ETA: 2:46 - loss: 0.988 - ETA: 2:45 - loss: 0.988 - ETA: 2:43 - loss: 0.989 - ETA: 2:41 - loss: 0.988 - ETA: 2:40 - loss: 0.989 - ETA: 2:38 - loss: 0.989 - ETA: 2:37 - loss: 0.989 - ETA: 2:35 - loss: 0.989 - ETA: 2:34 - loss: 0.989 - ETA: 2:32 - loss: 0.989 - ETA: 2:30 - loss: 0.989 - ETA: 2:29 - loss: 0.989 - ETA: 2:27 - loss: 0.989 - ETA: 2:26 - loss: 0.989 - ETA: 2:24 - loss: 0.989 - ETA: 2:23 - loss: 0.989 - ETA: 2:21 - loss: 0.989 - ETA: 2:19 - loss: 0.989 - ETA: 2:18 - loss: 0.989 - ETA: 2:16 - loss: 0.989 - ETA: 2:15 - loss: 0.989 - ETA: 2:13 - loss: 0.989 - ETA: 2:12 - loss: 0.989 - ETA: 2:10 - loss: 0.989 - ETA: 2:08 - loss: 0.989 - ETA: 2:07 - loss: 0.989 - ETA: 2:05 - loss: 0.989 - ETA: 2:04 - loss: 0.989 - ETA: 2:02 - loss: 0.989 - ETA: 2:01 - loss: 0.989 - ETA: 1:59 - loss: 0.989 - ETA: 1:57 - loss: 0.989 - ETA: 1:56 - loss: 0.989 - ETA: 1:54 - loss: 0.990 - ETA: 1:53 - loss: 0.990 - ETA: 1:51 - loss: 0.989 - ETA: 1:50 - loss: 0.989 - ETA: 1:48 - loss: 0.990 - ETA: 1:46 - loss: 0.990 - ETA: 1:45 - loss: 0.990 - ETA: 1:43 - loss: 0.990 - ETA: 1:42 - loss: 0.990 - ETA: 1:40 - loss: 0.990 - ETA: 1:39 - loss: 0.990 - ETA: 1:37 - loss: 0.990 - ETA: 1:35 - loss: 0.990 - ETA: 1:34 - loss: 0.990 - ETA: 1:32 - loss: 0.990 - ETA: 1:31 - loss: 0.990 - ETA: 1:29 - loss: 0.990 - ETA: 1:28 - loss: 0.991 - ETA: 1:26 - loss: 0.991 - ETA: 1:24 - loss: 0.991 - ETA: 1:23 - loss: 0.991 - ETA: 1:21 - loss: 0.991 - ETA: 1:20 - loss: 0.991 - ETA: 1:18 - loss: 0.991 - ETA: 1:17 - loss: 0.991 - ETA: 1:15 - loss: 0.991 - ETA: 1:13 - loss: 0.991 - ETA: 1:12 - loss: 0.991 - ETA: 1:10 - loss: 0.991 - ETA: 1:09 - loss: 0.992 - ETA: 1:07 - loss: 0.992 - ETA: 1:06 - loss: 0.992 - ETA: 1:04 - loss: 0.992 - ETA: 1:02 - loss: 0.992 - ETA: 1:01 - loss: 0.991 - ETA: 59s - loss: 0.991 - ETA: 58s - loss: 0.99 - ETA: 56s - loss: 0.99 - ETA: 55s - loss: 0.99 - ETA: 53s - loss: 0.99 - ETA: 51s - loss: 0.99 - ETA: 50s - loss: 0.99 - ETA: 48s - loss: 0.99 - ETA: 47s - loss: 0.99 - ETA: 45s - loss: 0.99 - ETA: 43s - loss: 0.99 - ETA: 42s - loss: 0.99 - ETA: 40s - loss: 0.99 - ETA: 39s - loss: 0.99 - ETA: 37s - loss: 0.99 - ETA: 36s - loss: 0.99 - ETA: 34s - loss: 0.99 - ETA: 32s - loss: 0.99 - ETA: 31s - loss: 0.99 - ETA: 29s - loss: 0.99 - ETA: 28s - loss: 0.99 - ETA: 26s - loss: 0.99 - ETA: 25s - loss: 0.99 - ETA: 23s - loss: 0.99 - ETA: 22s - loss: 0.99 - ETA: 20s - loss: 0.99 - ETA: 18s - loss: 0.99 - ETA: 17s - loss: 0.99 - ETA: 15s - loss: 0.99 - ETA: 14s - loss: 0.99 - ETA: 12s - loss: 0.99 - ETA: 11s - loss: 0.99 - ETA: 9s - loss: 0.9939 - ETA: 7s - loss: 0.994 - ETA: 6s - loss: 0.994 - ETA: 4s - loss: 0.994 - ETA: 3s - loss: 0.994 - ETA: 1s - loss: 0.994 - 511s 2s/step - loss: 0.9943 - val_loss: 1.2857\n",
      "Epoch 15/20\n"
     ]
    },
    {
     "name": "stdout",
     "output_type": "stream",
     "text": [
      "300/300 [==============================] - ETA: 7:55 - loss: 0.902 - ETA: 7:49 - loss: 0.938 - ETA: 7:51 - loss: 0.933 - ETA: 7:49 - loss: 0.938 - ETA: 7:53 - loss: 0.915 - ETA: 7:50 - loss: 0.904 - ETA: 7:48 - loss: 0.914 - ETA: 7:45 - loss: 0.913 - ETA: 7:43 - loss: 0.915 - ETA: 7:39 - loss: 0.916 - ETA: 7:37 - loss: 0.922 - ETA: 7:35 - loss: 0.921 - ETA: 7:32 - loss: 0.924 - ETA: 7:30 - loss: 0.920 - ETA: 7:28 - loss: 0.915 - ETA: 7:27 - loss: 0.914 - ETA: 7:25 - loss: 0.914 - ETA: 7:23 - loss: 0.917 - ETA: 7:20 - loss: 0.917 - ETA: 7:19 - loss: 0.919 - ETA: 7:18 - loss: 0.919 - ETA: 7:17 - loss: 0.918 - ETA: 7:15 - loss: 0.917 - ETA: 7:13 - loss: 0.917 - ETA: 7:12 - loss: 0.918 - ETA: 7:10 - loss: 0.919 - ETA: 7:08 - loss: 0.923 - ETA: 7:07 - loss: 0.925 - ETA: 7:05 - loss: 0.926 - ETA: 7:04 - loss: 0.926 - ETA: 7:02 - loss: 0.928 - ETA: 7:00 - loss: 0.929 - ETA: 6:59 - loss: 0.929 - ETA: 6:59 - loss: 0.932 - ETA: 6:58 - loss: 0.933 - ETA: 6:57 - loss: 0.936 - ETA: 6:55 - loss: 0.937 - ETA: 6:53 - loss: 0.936 - ETA: 6:51 - loss: 0.936 - ETA: 6:50 - loss: 0.937 - ETA: 6:48 - loss: 0.936 - ETA: 6:47 - loss: 0.937 - ETA: 6:45 - loss: 0.936 - ETA: 6:44 - loss: 0.939 - ETA: 6:42 - loss: 0.937 - ETA: 6:40 - loss: 0.938 - ETA: 6:38 - loss: 0.939 - ETA: 6:37 - loss: 0.940 - ETA: 6:35 - loss: 0.938 - ETA: 6:33 - loss: 0.937 - ETA: 6:32 - loss: 0.936 - ETA: 6:30 - loss: 0.936 - ETA: 6:28 - loss: 0.936 - ETA: 6:27 - loss: 0.936 - ETA: 6:25 - loss: 0.936 - ETA: 6:23 - loss: 0.936 - ETA: 6:22 - loss: 0.935 - ETA: 6:20 - loss: 0.934 - ETA: 6:18 - loss: 0.935 - ETA: 6:17 - loss: 0.933 - ETA: 6:15 - loss: 0.933 - ETA: 6:13 - loss: 0.934 - ETA: 6:12 - loss: 0.934 - ETA: 6:11 - loss: 0.934 - ETA: 6:10 - loss: 0.935 - ETA: 6:11 - loss: 0.935 - ETA: 6:13 - loss: 0.935 - ETA: 6:16 - loss: 0.934 - ETA: 6:17 - loss: 0.935 - ETA: 6:17 - loss: 0.935 - ETA: 6:15 - loss: 0.935 - ETA: 6:13 - loss: 0.934 - ETA: 6:11 - loss: 0.935 - ETA: 6:09 - loss: 0.936 - ETA: 6:08 - loss: 0.937 - ETA: 6:06 - loss: 0.937 - ETA: 6:04 - loss: 0.938 - ETA: 6:02 - loss: 0.939 - ETA: 6:01 - loss: 0.940 - ETA: 5:59 - loss: 0.939 - ETA: 5:58 - loss: 0.938 - ETA: 5:56 - loss: 0.939 - ETA: 5:54 - loss: 0.939 - ETA: 5:52 - loss: 0.940 - ETA: 5:50 - loss: 0.940 - ETA: 5:49 - loss: 0.940 - ETA: 5:47 - loss: 0.940 - ETA: 5:45 - loss: 0.939 - ETA: 5:44 - loss: 0.940 - ETA: 5:42 - loss: 0.939 - ETA: 5:40 - loss: 0.939 - ETA: 5:38 - loss: 0.940 - ETA: 5:37 - loss: 0.941 - ETA: 5:35 - loss: 0.940 - ETA: 5:33 - loss: 0.940 - ETA: 5:32 - loss: 0.940 - ETA: 5:30 - loss: 0.940 - ETA: 5:28 - loss: 0.941 - ETA: 5:27 - loss: 0.941 - ETA: 5:25 - loss: 0.941 - ETA: 5:23 - loss: 0.941 - ETA: 5:22 - loss: 0.942 - ETA: 5:20 - loss: 0.943 - ETA: 5:18 - loss: 0.944 - ETA: 5:16 - loss: 0.943 - ETA: 5:15 - loss: 0.943 - ETA: 5:13 - loss: 0.943 - ETA: 5:11 - loss: 0.944 - ETA: 5:10 - loss: 0.944 - ETA: 5:08 - loss: 0.944 - ETA: 5:06 - loss: 0.945 - ETA: 5:05 - loss: 0.945 - ETA: 5:03 - loss: 0.946 - ETA: 5:01 - loss: 0.946 - ETA: 5:00 - loss: 0.946 - ETA: 4:58 - loss: 0.946 - ETA: 4:56 - loss: 0.946 - ETA: 4:55 - loss: 0.946 - ETA: 4:53 - loss: 0.945 - ETA: 4:51 - loss: 0.945 - ETA: 4:50 - loss: 0.945 - ETA: 4:48 - loss: 0.945 - ETA: 4:46 - loss: 0.945 - ETA: 4:45 - loss: 0.945 - ETA: 4:43 - loss: 0.944 - ETA: 4:41 - loss: 0.944 - ETA: 4:40 - loss: 0.945 - ETA: 4:38 - loss: 0.944 - ETA: 4:37 - loss: 0.945 - ETA: 4:35 - loss: 0.945 - ETA: 4:33 - loss: 0.945 - ETA: 4:32 - loss: 0.946 - ETA: 4:30 - loss: 0.946 - ETA: 4:28 - loss: 0.946 - ETA: 4:27 - loss: 0.945 - ETA: 4:25 - loss: 0.945 - ETA: 4:24 - loss: 0.945 - ETA: 4:22 - loss: 0.944 - ETA: 4:20 - loss: 0.945 - ETA: 4:19 - loss: 0.945 - ETA: 4:17 - loss: 0.945 - ETA: 4:15 - loss: 0.945 - ETA: 4:14 - loss: 0.945 - ETA: 4:12 - loss: 0.946 - ETA: 4:10 - loss: 0.946 - ETA: 4:09 - loss: 0.946 - ETA: 4:07 - loss: 0.946 - ETA: 4:05 - loss: 0.947 - ETA: 4:04 - loss: 0.947 - ETA: 4:02 - loss: 0.947 - ETA: 4:00 - loss: 0.947 - ETA: 3:59 - loss: 0.946 - ETA: 3:57 - loss: 0.946 - ETA: 3:56 - loss: 0.947 - ETA: 3:54 - loss: 0.947 - ETA: 3:52 - loss: 0.947 - ETA: 3:51 - loss: 0.947 - ETA: 3:49 - loss: 0.947 - ETA: 3:47 - loss: 0.947 - ETA: 3:46 - loss: 0.947 - ETA: 3:44 - loss: 0.947 - ETA: 3:43 - loss: 0.947 - ETA: 3:41 - loss: 0.947 - ETA: 3:39 - loss: 0.947 - ETA: 3:38 - loss: 0.947 - ETA: 3:36 - loss: 0.947 - ETA: 3:34 - loss: 0.947 - ETA: 3:33 - loss: 0.947 - ETA: 3:31 - loss: 0.947 - ETA: 3:29 - loss: 0.947 - ETA: 3:28 - loss: 0.947 - ETA: 3:26 - loss: 0.947 - ETA: 3:25 - loss: 0.947 - ETA: 3:23 - loss: 0.947 - ETA: 3:21 - loss: 0.947 - ETA: 3:20 - loss: 0.947 - ETA: 3:18 - loss: 0.947 - ETA: 3:16 - loss: 0.947 - ETA: 3:15 - loss: 0.947 - ETA: 3:13 - loss: 0.948 - ETA: 3:12 - loss: 0.947 - ETA: 3:10 - loss: 0.947 - ETA: 3:08 - loss: 0.947 - ETA: 3:07 - loss: 0.947 - ETA: 3:05 - loss: 0.947 - ETA: 3:03 - loss: 0.947 - ETA: 3:02 - loss: 0.948 - ETA: 3:00 - loss: 0.948 - ETA: 2:59 - loss: 0.948 - ETA: 2:57 - loss: 0.948 - ETA: 2:55 - loss: 0.948 - ETA: 2:54 - loss: 0.948 - ETA: 2:52 - loss: 0.948 - ETA: 2:50 - loss: 0.948 - ETA: 2:49 - loss: 0.948 - ETA: 2:47 - loss: 0.948 - ETA: 2:46 - loss: 0.948 - ETA: 2:44 - loss: 0.948 - ETA: 2:42 - loss: 0.949 - ETA: 2:41 - loss: 0.949 - ETA: 2:39 - loss: 0.949 - ETA: 2:37 - loss: 0.949 - ETA: 2:36 - loss: 0.949 - ETA: 2:34 - loss: 0.949 - ETA: 2:33 - loss: 0.949 - ETA: 2:31 - loss: 0.949 - ETA: 2:29 - loss: 0.949 - ETA: 2:28 - loss: 0.949 - ETA: 2:26 - loss: 0.949 - ETA: 2:24 - loss: 0.949 - ETA: 2:23 - loss: 0.949 - ETA: 2:21 - loss: 0.949 - ETA: 2:20 - loss: 0.949 - ETA: 2:18 - loss: 0.949 - ETA: 2:16 - loss: 0.949 - ETA: 2:15 - loss: 0.950 - ETA: 2:13 - loss: 0.950 - ETA: 2:12 - loss: 0.950 - ETA: 2:10 - loss: 0.950 - ETA: 2:08 - loss: 0.950 - ETA: 2:07 - loss: 0.950 - ETA: 2:05 - loss: 0.950 - ETA: 2:04 - loss: 0.951 - ETA: 2:02 - loss: 0.951 - ETA: 2:00 - loss: 0.951 - ETA: 1:59 - loss: 0.951 - ETA: 1:57 - loss: 0.951 - ETA: 1:56 - loss: 0.951 - ETA: 1:54 - loss: 0.951 - ETA: 1:52 - loss: 0.952 - ETA: 1:51 - loss: 0.952 - ETA: 1:49 - loss: 0.952 - ETA: 1:48 - loss: 0.952 - ETA: 1:46 - loss: 0.952 - ETA: 1:44 - loss: 0.952 - ETA: 1:43 - loss: 0.951 - ETA: 1:41 - loss: 0.951 - ETA: 1:39 - loss: 0.951 - ETA: 1:38 - loss: 0.951 - ETA: 1:36 - loss: 0.951 - ETA: 1:35 - loss: 0.951 - ETA: 1:33 - loss: 0.951 - ETA: 1:31 - loss: 0.951 - ETA: 1:30 - loss: 0.951 - ETA: 1:28 - loss: 0.951 - ETA: 1:27 - loss: 0.951 - ETA: 1:25 - loss: 0.951 - ETA: 1:23 - loss: 0.951 - ETA: 1:22 - loss: 0.951 - ETA: 1:20 - loss: 0.951 - ETA: 1:18 - loss: 0.951 - ETA: 1:17 - loss: 0.951 - ETA: 1:15 - loss: 0.951 - ETA: 1:14 - loss: 0.951 - ETA: 1:12 - loss: 0.952 - ETA: 1:10 - loss: 0.952 - ETA: 1:09 - loss: 0.951 - ETA: 1:07 - loss: 0.951 - ETA: 1:06 - loss: 0.952 - ETA: 1:04 - loss: 0.952 - ETA: 1:02 - loss: 0.952 - ETA: 1:01 - loss: 0.951 - ETA: 59s - loss: 0.951 - ETA: 57s - loss: 0.95 - ETA: 56s - loss: 0.95 - ETA: 54s - loss: 0.95 - ETA: 53s - loss: 0.95 - ETA: 51s - loss: 0.95 - ETA: 49s - loss: 0.95 - ETA: 48s - loss: 0.95 - ETA: 46s - loss: 0.95 - ETA: 45s - loss: 0.95 - ETA: 43s - loss: 0.95 - ETA: 42s - loss: 0.95 - ETA: 40s - loss: 0.95 - ETA: 39s - loss: 0.95 - ETA: 37s - loss: 0.95 - ETA: 35s - loss: 0.95 - ETA: 34s - loss: 0.95 - ETA: 32s - loss: 0.95 - ETA: 30s - loss: 0.95 - ETA: 29s - loss: 0.95 - ETA: 27s - loss: 0.95 - ETA: 26s - loss: 0.95 - ETA: 24s - loss: 0.95 - ETA: 22s - loss: 0.95 - ETA: 21s - loss: 0.95 - ETA: 19s - loss: 0.95 - ETA: 17s - loss: 0.95 - ETA: 16s - loss: 0.95 - ETA: 14s - loss: 0.95 - ETA: 13s - loss: 0.95 - ETA: 11s - loss: 0.95 - ETA: 9s - loss: 0.9532 - ETA: 8s - loss: 0.953 - ETA: 6s - loss: 0.953 - ETA: 4s - loss: 0.953 - ETA: 3s - loss: 0.953 - ETA: 1s - loss: 0.953 - 533s 2s/step - loss: 0.9537 - val_loss: 1.2779\n",
      "Epoch 16/20\n",
      "300/300 [==============================] - ETA: 7:56 - loss: 0.942 - ETA: 7:49 - loss: 0.913 - ETA: 7:46 - loss: 0.916 - ETA: 7:45 - loss: 0.912 - ETA: 7:42 - loss: 0.915 - ETA: 7:42 - loss: 0.901 - ETA: 7:51 - loss: 0.902 - ETA: 7:53 - loss: 0.913 - ETA: 7:53 - loss: 0.907 - ETA: 7:50 - loss: 0.903 - ETA: 7:51 - loss: 0.901 - ETA: 7:49 - loss: 0.905 - ETA: 7:48 - loss: 0.902 - ETA: 7:45 - loss: 0.897 - ETA: 7:44 - loss: 0.894 - ETA: 7:42 - loss: 0.898 - ETA: 7:41 - loss: 0.900 - ETA: 7:38 - loss: 0.905 - ETA: 7:36 - loss: 0.901 - ETA: 7:35 - loss: 0.900 - ETA: 7:34 - loss: 0.899 - ETA: 7:31 - loss: 0.902 - ETA: 7:30 - loss: 0.905 - ETA: 7:27 - loss: 0.900 - ETA: 7:26 - loss: 0.902 - ETA: 7:25 - loss: 0.902 - ETA: 7:24 - loss: 0.901 - ETA: 7:22 - loss: 0.903 - ETA: 7:20 - loss: 0.901 - ETA: 7:18 - loss: 0.901 - ETA: 7:17 - loss: 0.901 - ETA: 7:15 - loss: 0.901 - ETA: 7:13 - loss: 0.901 - ETA: 7:11 - loss: 0.902 - ETA: 7:10 - loss: 0.903 - ETA: 7:08 - loss: 0.902 - ETA: 7:06 - loss: 0.901 - ETA: 7:04 - loss: 0.901 - ETA: 7:03 - loss: 0.901 - ETA: 7:01 - loss: 0.902 - ETA: 7:00 - loss: 0.904 - ETA: 6:58 - loss: 0.905 - ETA: 6:57 - loss: 0.904 - ETA: 6:55 - loss: 0.904 - ETA: 6:54 - loss: 0.904 - ETA: 6:53 - loss: 0.904 - ETA: 6:51 - loss: 0.902 - ETA: 6:49 - loss: 0.902 - ETA: 6:47 - loss: 0.902 - ETA: 6:45 - loss: 0.904 - ETA: 6:43 - loss: 0.905 - ETA: 6:41 - loss: 0.905 - ETA: 6:40 - loss: 0.906 - ETA: 6:39 - loss: 0.906 - ETA: 6:38 - loss: 0.905 - ETA: 6:37 - loss: 0.903 - ETA: 6:36 - loss: 0.903 - ETA: 6:34 - loss: 0.904 - ETA: 6:33 - loss: 0.905 - ETA: 6:32 - loss: 0.905 - ETA: 6:30 - loss: 0.905 - ETA: 6:28 - loss: 0.905 - ETA: 6:27 - loss: 0.904 - ETA: 6:25 - loss: 0.904 - ETA: 6:23 - loss: 0.905 - ETA: 6:21 - loss: 0.905 - ETA: 6:19 - loss: 0.905 - ETA: 6:17 - loss: 0.904 - ETA: 6:16 - loss: 0.905 - ETA: 6:14 - loss: 0.906 - ETA: 6:12 - loss: 0.906 - ETA: 6:10 - loss: 0.907 - ETA: 6:09 - loss: 0.906 - ETA: 6:07 - loss: 0.907 - ETA: 6:06 - loss: 0.907 - ETA: 6:04 - loss: 0.908 - ETA: 6:02 - loss: 0.910 - ETA: 6:00 - loss: 0.909 - ETA: 5:59 - loss: 0.909 - ETA: 5:57 - loss: 0.909 - ETA: 5:56 - loss: 0.909 - ETA: 5:54 - loss: 0.909 - ETA: 5:53 - loss: 0.910 - ETA: 5:51 - loss: 0.909 - ETA: 5:49 - loss: 0.910 - ETA: 5:47 - loss: 0.909 - ETA: 5:46 - loss: 0.909 - ETA: 5:44 - loss: 0.908 - ETA: 5:42 - loss: 0.909 - ETA: 5:40 - loss: 0.909 - ETA: 5:39 - loss: 0.909 - ETA: 5:37 - loss: 0.908 - ETA: 5:35 - loss: 0.908 - ETA: 5:33 - loss: 0.908 - ETA: 5:32 - loss: 0.909 - ETA: 5:30 - loss: 0.909 - ETA: 5:28 - loss: 0.908 - ETA: 5:27 - loss: 0.909 - ETA: 5:25 - loss: 0.909 - ETA: 5:23 - loss: 0.910 - ETA: 5:22 - loss: 0.909 - ETA: 5:20 - loss: 0.909 - ETA: 5:18 - loss: 0.909 - ETA: 5:17 - loss: 0.910 - ETA: 5:15 - loss: 0.910 - ETA: 5:13 - loss: 0.910 - ETA: 5:12 - loss: 0.910 - ETA: 5:10 - loss: 0.909 - ETA: 5:08 - loss: 0.909 - ETA: 5:07 - loss: 0.910 - ETA: 5:05 - loss: 0.909 - ETA: 5:03 - loss: 0.909 - ETA: 5:01 - loss: 0.909 - ETA: 5:00 - loss: 0.909 - ETA: 4:58 - loss: 0.909 - ETA: 4:57 - loss: 0.909 - ETA: 4:55 - loss: 0.909 - ETA: 4:53 - loss: 0.908 - ETA: 4:52 - loss: 0.909 - ETA: 4:50 - loss: 0.909 - ETA: 4:48 - loss: 0.909 - ETA: 4:47 - loss: 0.909 - ETA: 4:45 - loss: 0.909 - ETA: 4:43 - loss: 0.909 - ETA: 4:42 - loss: 0.908 - ETA: 4:40 - loss: 0.909 - ETA: 4:38 - loss: 0.908 - ETA: 4:37 - loss: 0.909 - ETA: 4:35 - loss: 0.909 - ETA: 4:33 - loss: 0.909 - ETA: 4:32 - loss: 0.909 - ETA: 4:30 - loss: 0.909 - ETA: 4:28 - loss: 0.909 - ETA: 4:27 - loss: 0.909 - ETA: 4:25 - loss: 0.910 - ETA: 4:23 - loss: 0.910 - ETA: 4:22 - loss: 0.909 - ETA: 4:20 - loss: 0.910 - ETA: 4:18 - loss: 0.910 - ETA: 4:17 - loss: 0.910 - ETA: 4:15 - loss: 0.910 - ETA: 4:13 - loss: 0.910 - ETA: 4:12 - loss: 0.910 - ETA: 4:10 - loss: 0.910 - ETA: 4:08 - loss: 0.910 - ETA: 4:07 - loss: 0.910 - ETA: 4:05 - loss: 0.910 - ETA: 4:04 - loss: 0.911 - ETA: 4:02 - loss: 0.910 - ETA: 4:00 - loss: 0.911 - ETA: 3:59 - loss: 0.910 - ETA: 3:57 - loss: 0.911 - ETA: 3:55 - loss: 0.911 - ETA: 3:54 - loss: 0.911 - ETA: 3:52 - loss: 0.911 - ETA: 3:51 - loss: 0.911 - ETA: 3:49 - loss: 0.911 - ETA: 3:47 - loss: 0.911 - ETA: 3:46 - loss: 0.911 - ETA: 3:44 - loss: 0.912 - ETA: 3:42 - loss: 0.912 - ETA: 3:41 - loss: 0.911 - ETA: 3:39 - loss: 0.911 - ETA: 3:38 - loss: 0.912 - ETA: 3:36 - loss: 0.911 - ETA: 3:34 - loss: 0.912 - ETA: 3:33 - loss: 0.912 - ETA: 3:31 - loss: 0.912 - ETA: 3:29 - loss: 0.912 - ETA: 3:28 - loss: 0.912 - ETA: 3:26 - loss: 0.911 - ETA: 3:24 - loss: 0.911 - ETA: 3:23 - loss: 0.911 - ETA: 3:21 - loss: 0.912 - ETA: 3:19 - loss: 0.912 - ETA: 3:18 - loss: 0.912 - ETA: 3:16 - loss: 0.913 - ETA: 3:15 - loss: 0.913 - ETA: 3:13 - loss: 0.912 - ETA: 3:11 - loss: 0.913 - ETA: 3:10 - loss: 0.913 - ETA: 3:08 - loss: 0.914 - ETA: 3:06 - loss: 0.913 - ETA: 3:05 - loss: 0.913 - ETA: 3:03 - loss: 0.913 - ETA: 3:02 - loss: 0.913 - ETA: 3:00 - loss: 0.913 - ETA: 2:58 - loss: 0.913 - ETA: 2:57 - loss: 0.913 - ETA: 2:55 - loss: 0.913 - ETA: 2:53 - loss: 0.913 - ETA: 2:52 - loss: 0.914 - ETA: 2:50 - loss: 0.914 - ETA: 2:49 - loss: 0.914 - ETA: 2:47 - loss: 0.914 - ETA: 2:45 - loss: 0.914 - ETA: 2:44 - loss: 0.914 - ETA: 2:42 - loss: 0.914 - ETA: 2:41 - loss: 0.914 - ETA: 2:39 - loss: 0.914 - ETA: 2:37 - loss: 0.914 - ETA: 2:36 - loss: 0.915 - ETA: 2:34 - loss: 0.914 - ETA: 2:33 - loss: 0.915 - ETA: 2:31 - loss: 0.915 - ETA: 2:29 - loss: 0.915 - ETA: 2:28 - loss: 0.915 - ETA: 2:26 - loss: 0.915 - ETA: 2:25 - loss: 0.915 - ETA: 2:23 - loss: 0.915 - ETA: 2:21 - loss: 0.914 - ETA: 2:20 - loss: 0.914 - ETA: 2:18 - loss: 0.914 - ETA: 2:17 - loss: 0.913 - ETA: 2:15 - loss: 0.913 - ETA: 2:13 - loss: 0.913 - ETA: 2:12 - loss: 0.913 - ETA: 2:10 - loss: 0.913 - ETA: 2:09 - loss: 0.913 - ETA: 2:07 - loss: 0.913 - ETA: 2:05 - loss: 0.913 - ETA: 2:04 - loss: 0.914 - ETA: 2:02 - loss: 0.913 - ETA: 2:01 - loss: 0.913 - ETA: 1:59 - loss: 0.914 - ETA: 1:57 - loss: 0.913 - ETA: 1:56 - loss: 0.914 - ETA: 1:54 - loss: 0.914 - ETA: 1:53 - loss: 0.914 - ETA: 1:51 - loss: 0.914 - ETA: 1:49 - loss: 0.913 - ETA: 1:48 - loss: 0.913 - ETA: 1:46 - loss: 0.913 - ETA: 1:45 - loss: 0.913 - ETA: 1:43 - loss: 0.913 - ETA: 1:41 - loss: 0.913 - ETA: 1:40 - loss: 0.913 - ETA: 1:38 - loss: 0.913 - ETA: 1:37 - loss: 0.914 - ETA: 1:35 - loss: 0.914 - ETA: 1:33 - loss: 0.914 - ETA: 1:32 - loss: 0.913 - ETA: 1:30 - loss: 0.913 - ETA: 1:29 - loss: 0.913 - ETA: 1:27 - loss: 0.913 - ETA: 1:25 - loss: 0.914 - ETA: 1:24 - loss: 0.914 - ETA: 1:22 - loss: 0.914 - ETA: 1:21 - loss: 0.914 - ETA: 1:19 - loss: 0.914 - ETA: 1:17 - loss: 0.914 - ETA: 1:16 - loss: 0.914 - ETA: 1:14 - loss: 0.914 - ETA: 1:13 - loss: 0.913 - ETA: 1:11 - loss: 0.914 - ETA: 1:09 - loss: 0.914 - ETA: 1:08 - loss: 0.914 - ETA: 1:06 - loss: 0.914 - ETA: 1:05 - loss: 0.914 - ETA: 1:03 - loss: 0.914 - ETA: 1:01 - loss: 0.914 - ETA: 1:00 - loss: 0.914 - ETA: 58s - loss: 0.914 - ETA: 57s - loss: 0.91 - ETA: 55s - loss: 0.91 - ETA: 54s - loss: 0.91 - ETA: 52s - loss: 0.91 - ETA: 50s - loss: 0.91 - ETA: 49s - loss: 0.91 - ETA: 47s - loss: 0.91 - ETA: 46s - loss: 0.91 - ETA: 44s - loss: 0.91 - ETA: 42s - loss: 0.91 - ETA: 41s - loss: 0.91 - ETA: 39s - loss: 0.91 - ETA: 38s - loss: 0.91 - ETA: 36s - loss: 0.91 - ETA: 34s - loss: 0.91 - ETA: 33s - loss: 0.91 - ETA: 31s - loss: 0.91 - ETA: 30s - loss: 0.91 - ETA: 28s - loss: 0.91 - ETA: 26s - loss: 0.91 - ETA: 25s - loss: 0.91 - ETA: 23s - loss: 0.91 - ETA: 22s - loss: 0.91 - ETA: 20s - loss: 0.91 - ETA: 19s - loss: 0.91 - ETA: 17s - loss: 0.91 - ETA: 15s - loss: 0.91 - ETA: 14s - loss: 0.91 - ETA: 12s - loss: 0.91 - ETA: 11s - loss: 0.91 - ETA: 9s - loss: 0.9149 - ETA: 7s - loss: 0.914 - ETA: 6s - loss: 0.915 - ETA: 4s - loss: 0.915 - ETA: 3s - loss: 0.915 - ETA: 1s - loss: 0.915 - 516s 2s/step - loss: 0.9156 - val_loss: 1.2795\n",
      "Epoch 17/20\n"
     ]
    },
    {
     "name": "stdout",
     "output_type": "stream",
     "text": [
      "300/300 [==============================] - ETA: 7:44 - loss: 0.847 - ETA: 7:42 - loss: 0.846 - ETA: 7:44 - loss: 0.841 - ETA: 7:40 - loss: 0.844 - ETA: 7:37 - loss: 0.844 - ETA: 7:34 - loss: 0.838 - ETA: 7:32 - loss: 0.855 - ETA: 7:30 - loss: 0.870 - ETA: 7:28 - loss: 0.867 - ETA: 7:27 - loss: 0.867 - ETA: 7:28 - loss: 0.871 - ETA: 7:28 - loss: 0.871 - ETA: 7:26 - loss: 0.870 - ETA: 7:24 - loss: 0.865 - ETA: 7:22 - loss: 0.863 - ETA: 7:21 - loss: 0.859 - ETA: 7:20 - loss: 0.858 - ETA: 7:18 - loss: 0.862 - ETA: 7:16 - loss: 0.863 - ETA: 7:14 - loss: 0.864 - ETA: 7:13 - loss: 0.864 - ETA: 7:11 - loss: 0.864 - ETA: 7:11 - loss: 0.864 - ETA: 7:10 - loss: 0.864 - ETA: 7:10 - loss: 0.864 - ETA: 7:09 - loss: 0.867 - ETA: 7:07 - loss: 0.868 - ETA: 7:05 - loss: 0.868 - ETA: 7:03 - loss: 0.869 - ETA: 7:02 - loss: 0.871 - ETA: 7:01 - loss: 0.868 - ETA: 6:59 - loss: 0.868 - ETA: 6:57 - loss: 0.867 - ETA: 6:55 - loss: 0.868 - ETA: 6:54 - loss: 0.868 - ETA: 7:02 - loss: 0.869 - ETA: 7:13 - loss: 0.869 - ETA: 7:23 - loss: 0.871 - ETA: 7:24 - loss: 0.870 - ETA: 7:21 - loss: 0.870 - ETA: 7:19 - loss: 0.870 - ETA: 7:16 - loss: 0.870 - ETA: 7:14 - loss: 0.870 - ETA: 7:11 - loss: 0.869 - ETA: 7:09 - loss: 0.868 - ETA: 7:06 - loss: 0.871 - ETA: 7:04 - loss: 0.873 - ETA: 7:02 - loss: 0.873 - ETA: 7:00 - loss: 0.873 - ETA: 6:58 - loss: 0.873 - ETA: 6:56 - loss: 0.874 - ETA: 6:53 - loss: 0.874 - ETA: 6:51 - loss: 0.874 - ETA: 6:49 - loss: 0.875 - ETA: 6:47 - loss: 0.875 - ETA: 6:45 - loss: 0.876 - ETA: 6:43 - loss: 0.876 - ETA: 6:41 - loss: 0.876 - ETA: 6:39 - loss: 0.875 - ETA: 6:37 - loss: 0.875 - ETA: 6:35 - loss: 0.874 - ETA: 6:33 - loss: 0.874 - ETA: 6:31 - loss: 0.875 - ETA: 6:29 - loss: 0.875 - ETA: 6:27 - loss: 0.875 - ETA: 6:25 - loss: 0.875 - ETA: 6:23 - loss: 0.875 - ETA: 6:21 - loss: 0.875 - ETA: 6:19 - loss: 0.874 - ETA: 6:17 - loss: 0.874 - ETA: 6:15 - loss: 0.875 - ETA: 6:14 - loss: 0.875 - ETA: 6:12 - loss: 0.876 - ETA: 6:10 - loss: 0.876 - ETA: 6:08 - loss: 0.877 - ETA: 6:06 - loss: 0.878 - ETA: 6:04 - loss: 0.878 - ETA: 6:02 - loss: 0.878 - ETA: 6:00 - loss: 0.878 - ETA: 5:58 - loss: 0.878 - ETA: 5:56 - loss: 0.878 - ETA: 5:55 - loss: 0.879 - ETA: 5:53 - loss: 0.879 - ETA: 5:51 - loss: 0.879 - ETA: 5:49 - loss: 0.878 - ETA: 5:47 - loss: 0.878 - ETA: 5:45 - loss: 0.878 - ETA: 5:44 - loss: 0.877 - ETA: 5:42 - loss: 0.878 - ETA: 5:40 - loss: 0.877 - ETA: 5:38 - loss: 0.877 - ETA: 5:37 - loss: 0.878 - ETA: 5:35 - loss: 0.878 - ETA: 5:33 - loss: 0.878 - ETA: 5:31 - loss: 0.878 - ETA: 5:29 - loss: 0.878 - ETA: 5:28 - loss: 0.878 - ETA: 5:26 - loss: 0.877 - ETA: 5:25 - loss: 0.876 - ETA: 5:23 - loss: 0.877 - ETA: 5:21 - loss: 0.878 - ETA: 5:20 - loss: 0.878 - ETA: 5:18 - loss: 0.878 - ETA: 5:16 - loss: 0.878 - ETA: 5:15 - loss: 0.877 - ETA: 5:13 - loss: 0.877 - ETA: 5:11 - loss: 0.877 - ETA: 5:09 - loss: 0.877 - ETA: 5:08 - loss: 0.877 - ETA: 5:06 - loss: 0.877 - ETA: 5:04 - loss: 0.878 - ETA: 5:03 - loss: 0.878 - ETA: 5:01 - loss: 0.878 - ETA: 4:59 - loss: 0.878 - ETA: 4:58 - loss: 0.877 - ETA: 4:56 - loss: 0.877 - ETA: 4:54 - loss: 0.876 - ETA: 4:52 - loss: 0.875 - ETA: 4:51 - loss: 0.876 - ETA: 4:49 - loss: 0.875 - ETA: 4:47 - loss: 0.875 - ETA: 4:45 - loss: 0.874 - ETA: 4:44 - loss: 0.874 - ETA: 4:42 - loss: 0.874 - ETA: 4:40 - loss: 0.875 - ETA: 4:39 - loss: 0.874 - ETA: 4:37 - loss: 0.875 - ETA: 4:36 - loss: 0.875 - ETA: 4:34 - loss: 0.875 - ETA: 4:33 - loss: 0.875 - ETA: 4:31 - loss: 0.876 - ETA: 4:30 - loss: 0.876 - ETA: 4:28 - loss: 0.875 - ETA: 4:27 - loss: 0.875 - ETA: 4:25 - loss: 0.874 - ETA: 4:23 - loss: 0.875 - ETA: 4:21 - loss: 0.874 - ETA: 4:20 - loss: 0.874 - ETA: 4:18 - loss: 0.874 - ETA: 4:17 - loss: 0.873 - ETA: 4:15 - loss: 0.873 - ETA: 4:13 - loss: 0.873 - ETA: 4:12 - loss: 0.872 - ETA: 4:10 - loss: 0.872 - ETA: 4:08 - loss: 0.873 - ETA: 4:07 - loss: 0.874 - ETA: 4:05 - loss: 0.874 - ETA: 4:03 - loss: 0.875 - ETA: 4:02 - loss: 0.875 - ETA: 4:00 - loss: 0.875 - ETA: 3:58 - loss: 0.875 - ETA: 3:57 - loss: 0.874 - ETA: 3:55 - loss: 0.875 - ETA: 3:54 - loss: 0.875 - ETA: 3:52 - loss: 0.875 - ETA: 3:50 - loss: 0.875 - ETA: 3:49 - loss: 0.874 - ETA: 3:47 - loss: 0.875 - ETA: 3:45 - loss: 0.874 - ETA: 3:44 - loss: 0.875 - ETA: 3:42 - loss: 0.875 - ETA: 3:40 - loss: 0.875 - ETA: 3:39 - loss: 0.875 - ETA: 3:37 - loss: 0.875 - ETA: 3:35 - loss: 0.876 - ETA: 3:34 - loss: 0.876 - ETA: 3:32 - loss: 0.876 - ETA: 3:31 - loss: 0.876 - ETA: 3:29 - loss: 0.876 - ETA: 3:27 - loss: 0.875 - ETA: 3:26 - loss: 0.875 - ETA: 3:24 - loss: 0.876 - ETA: 3:22 - loss: 0.876 - ETA: 3:21 - loss: 0.875 - ETA: 3:19 - loss: 0.876 - ETA: 3:18 - loss: 0.876 - ETA: 3:16 - loss: 0.875 - ETA: 3:14 - loss: 0.875 - ETA: 3:13 - loss: 0.875 - ETA: 3:11 - loss: 0.875 - ETA: 3:10 - loss: 0.875 - ETA: 3:08 - loss: 0.875 - ETA: 3:06 - loss: 0.875 - ETA: 3:05 - loss: 0.875 - ETA: 3:03 - loss: 0.875 - ETA: 3:01 - loss: 0.875 - ETA: 3:00 - loss: 0.875 - ETA: 2:58 - loss: 0.875 - ETA: 2:57 - loss: 0.875 - ETA: 2:55 - loss: 0.875 - ETA: 2:53 - loss: 0.875 - ETA: 2:52 - loss: 0.875 - ETA: 2:50 - loss: 0.876 - ETA: 2:48 - loss: 0.876 - ETA: 2:47 - loss: 0.876 - ETA: 2:45 - loss: 0.876 - ETA: 2:44 - loss: 0.876 - ETA: 2:42 - loss: 0.876 - ETA: 2:40 - loss: 0.877 - ETA: 2:39 - loss: 0.877 - ETA: 2:37 - loss: 0.877 - ETA: 2:36 - loss: 0.876 - ETA: 2:34 - loss: 0.877 - ETA: 2:32 - loss: 0.876 - ETA: 2:31 - loss: 0.876 - ETA: 2:29 - loss: 0.876 - ETA: 2:28 - loss: 0.876 - ETA: 2:26 - loss: 0.876 - ETA: 2:24 - loss: 0.875 - ETA: 2:23 - loss: 0.876 - ETA: 2:21 - loss: 0.876 - ETA: 2:20 - loss: 0.876 - ETA: 2:18 - loss: 0.876 - ETA: 2:16 - loss: 0.877 - ETA: 2:15 - loss: 0.877 - ETA: 2:13 - loss: 0.876 - ETA: 2:12 - loss: 0.876 - ETA: 2:10 - loss: 0.876 - ETA: 2:08 - loss: 0.876 - ETA: 2:07 - loss: 0.876 - ETA: 2:05 - loss: 0.876 - ETA: 2:04 - loss: 0.876 - ETA: 2:02 - loss: 0.876 - ETA: 2:00 - loss: 0.876 - ETA: 1:59 - loss: 0.877 - ETA: 1:57 - loss: 0.877 - ETA: 1:56 - loss: 0.877 - ETA: 1:54 - loss: 0.876 - ETA: 1:52 - loss: 0.877 - ETA: 1:51 - loss: 0.877 - ETA: 1:49 - loss: 0.877 - ETA: 1:48 - loss: 0.877 - ETA: 1:46 - loss: 0.877 - ETA: 1:44 - loss: 0.877 - ETA: 1:43 - loss: 0.877 - ETA: 1:41 - loss: 0.878 - ETA: 1:40 - loss: 0.877 - ETA: 1:38 - loss: 0.877 - ETA: 1:36 - loss: 0.877 - ETA: 1:35 - loss: 0.878 - ETA: 1:33 - loss: 0.878 - ETA: 1:32 - loss: 0.878 - ETA: 1:30 - loss: 0.878 - ETA: 1:28 - loss: 0.878 - ETA: 1:27 - loss: 0.878 - ETA: 1:25 - loss: 0.878 - ETA: 1:24 - loss: 0.877 - ETA: 1:22 - loss: 0.877 - ETA: 1:20 - loss: 0.878 - ETA: 1:19 - loss: 0.878 - ETA: 1:17 - loss: 0.878 - ETA: 1:16 - loss: 0.878 - ETA: 1:14 - loss: 0.878 - ETA: 1:13 - loss: 0.878 - ETA: 1:11 - loss: 0.878 - ETA: 1:09 - loss: 0.878 - ETA: 1:08 - loss: 0.878 - ETA: 1:06 - loss: 0.878 - ETA: 1:05 - loss: 0.878 - ETA: 1:03 - loss: 0.878 - ETA: 1:01 - loss: 0.878 - ETA: 1:00 - loss: 0.878 - ETA: 58s - loss: 0.878 - ETA: 57s - loss: 0.87 - ETA: 55s - loss: 0.87 - ETA: 53s - loss: 0.87 - ETA: 52s - loss: 0.87 - ETA: 50s - loss: 0.87 - ETA: 49s - loss: 0.87 - ETA: 47s - loss: 0.87 - ETA: 45s - loss: 0.87 - ETA: 44s - loss: 0.87 - ETA: 42s - loss: 0.87 - ETA: 41s - loss: 0.87 - ETA: 39s - loss: 0.87 - ETA: 38s - loss: 0.87 - ETA: 36s - loss: 0.87 - ETA: 34s - loss: 0.87 - ETA: 33s - loss: 0.87 - ETA: 31s - loss: 0.87 - ETA: 30s - loss: 0.87 - ETA: 28s - loss: 0.87 - ETA: 26s - loss: 0.87 - ETA: 25s - loss: 0.87 - ETA: 23s - loss: 0.87 - ETA: 22s - loss: 0.87 - ETA: 20s - loss: 0.87 - ETA: 19s - loss: 0.87 - ETA: 17s - loss: 0.87 - ETA: 15s - loss: 0.87 - ETA: 14s - loss: 0.87 - ETA: 12s - loss: 0.87 - ETA: 11s - loss: 0.87 - ETA: 9s - loss: 0.8797 - ETA: 7s - loss: 0.879 - ETA: 6s - loss: 0.879 - ETA: 4s - loss: 0.879 - ETA: 3s - loss: 0.879 - ETA: 1s - loss: 0.879 - 518s 2s/step - loss: 0.8800 - val_loss: 1.2788\n",
      "Epoch 18/20\n",
      "300/300 [==============================] - ETA: 7:53 - loss: 0.781 - ETA: 8:14 - loss: 0.778 - ETA: 8:07 - loss: 0.803 - ETA: 8:05 - loss: 0.801 - ETA: 8:00 - loss: 0.803 - ETA: 7:59 - loss: 0.789 - ETA: 7:57 - loss: 0.807 - ETA: 7:56 - loss: 0.810 - ETA: 7:51 - loss: 0.810 - ETA: 7:50 - loss: 0.810 - ETA: 7:48 - loss: 0.812 - ETA: 7:48 - loss: 0.813 - ETA: 7:45 - loss: 0.817 - ETA: 7:43 - loss: 0.818 - ETA: 7:39 - loss: 0.822 - ETA: 7:39 - loss: 0.821 - ETA: 7:37 - loss: 0.819 - ETA: 7:35 - loss: 0.821 - ETA: 7:33 - loss: 0.826 - ETA: 7:31 - loss: 0.828 - ETA: 7:29 - loss: 0.826 - ETA: 7:28 - loss: 0.830 - ETA: 7:25 - loss: 0.829 - ETA: 7:23 - loss: 0.832 - ETA: 7:21 - loss: 0.831 - ETA: 7:19 - loss: 0.830 - ETA: 7:17 - loss: 0.829 - ETA: 7:15 - loss: 0.827 - ETA: 7:13 - loss: 0.829 - ETA: 7:11 - loss: 0.829 - ETA: 7:09 - loss: 0.833 - ETA: 7:07 - loss: 0.829 - ETA: 7:05 - loss: 0.828 - ETA: 7:03 - loss: 0.829 - ETA: 7:01 - loss: 0.827 - ETA: 7:00 - loss: 0.825 - ETA: 6:58 - loss: 0.823 - ETA: 6:56 - loss: 0.821 - ETA: 6:55 - loss: 0.821 - ETA: 6:52 - loss: 0.821 - ETA: 6:51 - loss: 0.823 - ETA: 6:49 - loss: 0.823 - ETA: 6:47 - loss: 0.825 - ETA: 6:45 - loss: 0.825 - ETA: 6:44 - loss: 0.826 - ETA: 6:42 - loss: 0.826 - ETA: 6:41 - loss: 0.826 - ETA: 6:39 - loss: 0.827 - ETA: 6:37 - loss: 0.826 - ETA: 6:36 - loss: 0.826 - ETA: 6:34 - loss: 0.827 - ETA: 6:32 - loss: 0.827 - ETA: 6:30 - loss: 0.827 - ETA: 6:29 - loss: 0.828 - ETA: 6:27 - loss: 0.829 - ETA: 6:25 - loss: 0.830 - ETA: 6:24 - loss: 0.831 - ETA: 6:23 - loss: 0.832 - ETA: 6:21 - loss: 0.832 - ETA: 6:19 - loss: 0.832 - ETA: 6:17 - loss: 0.833 - ETA: 6:16 - loss: 0.834 - ETA: 6:14 - loss: 0.834 - ETA: 6:12 - loss: 0.834 - ETA: 6:11 - loss: 0.833 - ETA: 6:09 - loss: 0.834 - ETA: 6:07 - loss: 0.833 - ETA: 6:05 - loss: 0.833 - ETA: 6:04 - loss: 0.834 - ETA: 6:02 - loss: 0.834 - ETA: 6:00 - loss: 0.834 - ETA: 5:59 - loss: 0.834 - ETA: 5:57 - loss: 0.835 - ETA: 5:56 - loss: 0.834 - ETA: 5:54 - loss: 0.835 - ETA: 5:53 - loss: 0.836 - ETA: 5:52 - loss: 0.835 - ETA: 5:50 - loss: 0.835 - ETA: 5:48 - loss: 0.836 - ETA: 5:47 - loss: 0.836 - ETA: 5:45 - loss: 0.837 - ETA: 5:43 - loss: 0.837 - ETA: 5:42 - loss: 0.837 - ETA: 5:40 - loss: 0.837 - ETA: 5:38 - loss: 0.839 - ETA: 5:37 - loss: 0.838 - ETA: 5:35 - loss: 0.839 - ETA: 5:34 - loss: 0.839 - ETA: 5:32 - loss: 0.839 - ETA: 5:30 - loss: 0.840 - ETA: 5:29 - loss: 0.840 - ETA: 5:27 - loss: 0.840 - ETA: 5:26 - loss: 0.840 - ETA: 5:24 - loss: 0.840 - ETA: 5:22 - loss: 0.840 - ETA: 5:21 - loss: 0.840 - ETA: 5:19 - loss: 0.839 - ETA: 5:17 - loss: 0.839 - ETA: 5:16 - loss: 0.838 - ETA: 5:14 - loss: 0.839 - ETA: 5:13 - loss: 0.839 - ETA: 5:11 - loss: 0.840 - ETA: 5:09 - loss: 0.840 - ETA: 5:08 - loss: 0.841 - ETA: 5:06 - loss: 0.841 - ETA: 5:05 - loss: 0.840 - ETA: 5:03 - loss: 0.840 - ETA: 5:02 - loss: 0.840 - ETA: 5:00 - loss: 0.840 - ETA: 4:58 - loss: 0.840 - ETA: 4:57 - loss: 0.840 - ETA: 4:55 - loss: 0.840 - ETA: 4:54 - loss: 0.840 - ETA: 4:52 - loss: 0.841 - ETA: 4:51 - loss: 0.841 - ETA: 4:49 - loss: 0.841 - ETA: 4:48 - loss: 0.841 - ETA: 4:46 - loss: 0.840 - ETA: 4:44 - loss: 0.840 - ETA: 4:43 - loss: 0.840 - ETA: 4:41 - loss: 0.839 - ETA: 4:40 - loss: 0.839 - ETA: 4:38 - loss: 0.840 - ETA: 4:37 - loss: 0.840 - ETA: 4:35 - loss: 0.839 - ETA: 4:33 - loss: 0.839 - ETA: 4:32 - loss: 0.840 - ETA: 4:30 - loss: 0.840 - ETA: 4:28 - loss: 0.840 - ETA: 4:27 - loss: 0.840 - ETA: 4:25 - loss: 0.839 - ETA: 4:24 - loss: 0.839 - ETA: 4:22 - loss: 0.840 - ETA: 4:20 - loss: 0.840 - ETA: 4:19 - loss: 0.841 - ETA: 4:17 - loss: 0.840 - ETA: 4:16 - loss: 0.840 - ETA: 4:14 - loss: 0.840 - ETA: 4:12 - loss: 0.840 - ETA: 4:11 - loss: 0.841 - ETA: 4:09 - loss: 0.841 - ETA: 4:08 - loss: 0.841 - ETA: 4:06 - loss: 0.841 - ETA: 4:04 - loss: 0.841 - ETA: 4:03 - loss: 0.842 - ETA: 4:01 - loss: 0.842 - ETA: 4:00 - loss: 0.842 - ETA: 3:58 - loss: 0.842 - ETA: 3:57 - loss: 0.843 - ETA: 3:55 - loss: 0.842 - ETA: 3:53 - loss: 0.843 - ETA: 3:52 - loss: 0.843 - ETA: 3:50 - loss: 0.843 - ETA: 3:49 - loss: 0.843 - ETA: 3:47 - loss: 0.843 - ETA: 3:46 - loss: 0.843 - ETA: 3:44 - loss: 0.843 - ETA: 3:43 - loss: 0.843 - ETA: 3:41 - loss: 0.843 - ETA: 3:39 - loss: 0.843 - ETA: 3:38 - loss: 0.844 - ETA: 3:36 - loss: 0.843 - ETA: 3:35 - loss: 0.844 - ETA: 3:33 - loss: 0.844 - ETA: 3:32 - loss: 0.844 - ETA: 3:30 - loss: 0.844 - ETA: 3:28 - loss: 0.843 - ETA: 3:27 - loss: 0.843 - ETA: 3:25 - loss: 0.843 - ETA: 3:24 - loss: 0.843 - ETA: 3:22 - loss: 0.843 - ETA: 3:21 - loss: 0.843 - ETA: 3:19 - loss: 0.843 - ETA: 3:17 - loss: 0.843 - ETA: 3:16 - loss: 0.842 - ETA: 3:14 - loss: 0.842 - ETA: 3:13 - loss: 0.842 - ETA: 3:11 - loss: 0.842 - ETA: 3:10 - loss: 0.842 - ETA: 3:08 - loss: 0.842 - ETA: 3:06 - loss: 0.842 - ETA: 3:05 - loss: 0.842 - ETA: 3:03 - loss: 0.842 - ETA: 3:02 - loss: 0.842 - ETA: 3:00 - loss: 0.842 - ETA: 2:58 - loss: 0.842 - ETA: 2:57 - loss: 0.842 - ETA: 2:55 - loss: 0.842 - ETA: 2:54 - loss: 0.842 - ETA: 2:52 - loss: 0.842 - ETA: 2:51 - loss: 0.842 - ETA: 2:49 - loss: 0.842 - ETA: 2:47 - loss: 0.842 - ETA: 2:46 - loss: 0.843 - ETA: 2:44 - loss: 0.843 - ETA: 2:43 - loss: 0.843 - ETA: 2:41 - loss: 0.843 - ETA: 2:40 - loss: 0.843 - ETA: 2:38 - loss: 0.843 - ETA: 2:36 - loss: 0.843 - ETA: 2:35 - loss: 0.843 - ETA: 2:33 - loss: 0.843 - ETA: 2:32 - loss: 0.842 - ETA: 2:30 - loss: 0.843 - ETA: 2:28 - loss: 0.843 - ETA: 2:27 - loss: 0.843 - ETA: 2:25 - loss: 0.844 - ETA: 2:24 - loss: 0.843 - ETA: 2:22 - loss: 0.843 - ETA: 2:21 - loss: 0.843 - ETA: 2:19 - loss: 0.843 - ETA: 2:17 - loss: 0.844 - ETA: 2:16 - loss: 0.843 - ETA: 2:14 - loss: 0.843 - ETA: 2:13 - loss: 0.843 - ETA: 2:11 - loss: 0.844 - ETA: 2:10 - loss: 0.844 - ETA: 2:08 - loss: 0.844 - ETA: 2:07 - loss: 0.844 - ETA: 2:05 - loss: 0.844 - ETA: 2:03 - loss: 0.844 - ETA: 2:02 - loss: 0.844 - ETA: 2:00 - loss: 0.844 - ETA: 1:59 - loss: 0.844 - ETA: 1:57 - loss: 0.844 - ETA: 1:56 - loss: 0.844 - ETA: 1:54 - loss: 0.845 - ETA: 1:53 - loss: 0.845 - ETA: 1:51 - loss: 0.845 - ETA: 1:49 - loss: 0.845 - ETA: 1:48 - loss: 0.845 - ETA: 1:46 - loss: 0.845 - ETA: 1:45 - loss: 0.845 - ETA: 1:43 - loss: 0.845 - ETA: 1:42 - loss: 0.845 - ETA: 1:40 - loss: 0.845 - ETA: 1:38 - loss: 0.845 - ETA: 1:37 - loss: 0.845 - ETA: 1:35 - loss: 0.845 - ETA: 1:34 - loss: 0.845 - ETA: 1:32 - loss: 0.845 - ETA: 1:31 - loss: 0.845 - ETA: 1:29 - loss: 0.845 - ETA: 1:27 - loss: 0.845 - ETA: 1:26 - loss: 0.845 - ETA: 1:24 - loss: 0.845 - ETA: 1:23 - loss: 0.845 - ETA: 1:21 - loss: 0.845 - ETA: 1:20 - loss: 0.845 - ETA: 1:18 - loss: 0.845 - ETA: 1:16 - loss: 0.845 - ETA: 1:15 - loss: 0.845 - ETA: 1:13 - loss: 0.845 - ETA: 1:12 - loss: 0.845 - ETA: 1:10 - loss: 0.845 - ETA: 1:09 - loss: 0.845 - ETA: 1:07 - loss: 0.845 - ETA: 1:05 - loss: 0.845 - ETA: 1:04 - loss: 0.845 - ETA: 1:02 - loss: 0.845 - ETA: 1:01 - loss: 0.845 - ETA: 59s - loss: 0.846 - ETA: 58s - loss: 0.84 - ETA: 56s - loss: 0.84 - ETA: 54s - loss: 0.84 - ETA: 53s - loss: 0.84 - ETA: 51s - loss: 0.84 - ETA: 50s - loss: 0.84 - ETA: 48s - loss: 0.84 - ETA: 47s - loss: 0.84 - ETA: 45s - loss: 0.84 - ETA: 43s - loss: 0.84 - ETA: 42s - loss: 0.84 - ETA: 40s - loss: 0.84 - ETA: 39s - loss: 0.84 - ETA: 37s - loss: 0.84 - ETA: 36s - loss: 0.84 - ETA: 34s - loss: 0.84 - ETA: 32s - loss: 0.84 - ETA: 31s - loss: 0.84 - ETA: 29s - loss: 0.84 - ETA: 28s - loss: 0.84 - ETA: 26s - loss: 0.84 - ETA: 25s - loss: 0.84 - ETA: 23s - loss: 0.84 - ETA: 21s - loss: 0.84 - ETA: 20s - loss: 0.84 - ETA: 18s - loss: 0.84 - ETA: 17s - loss: 0.84 - ETA: 15s - loss: 0.84 - ETA: 14s - loss: 0.84 - ETA: 12s - loss: 0.84 - ETA: 10s - loss: 0.84 - ETA: 9s - loss: 0.8463 - ETA: 7s - loss: 0.846 - ETA: 6s - loss: 0.846 - ETA: 4s - loss: 0.846 - ETA: 3s - loss: 0.846 - ETA: 1s - loss: 0.846 - 511s 2s/step - loss: 0.8460 - val_loss: 1.2725\n",
      "Epoch 19/20\n"
     ]
    },
    {
     "name": "stdout",
     "output_type": "stream",
     "text": [
      "300/300 [==============================] - ETA: 8:01 - loss: 0.869 - ETA: 8:00 - loss: 0.832 - ETA: 7:55 - loss: 0.846 - ETA: 7:51 - loss: 0.841 - ETA: 7:50 - loss: 0.834 - ETA: 7:47 - loss: 0.827 - ETA: 7:46 - loss: 0.832 - ETA: 7:45 - loss: 0.831 - ETA: 7:41 - loss: 0.819 - ETA: 7:39 - loss: 0.809 - ETA: 7:37 - loss: 0.805 - ETA: 7:35 - loss: 0.806 - ETA: 7:33 - loss: 0.813 - ETA: 7:31 - loss: 0.814 - ETA: 7:29 - loss: 0.814 - ETA: 7:27 - loss: 0.811 - ETA: 7:26 - loss: 0.814 - ETA: 7:24 - loss: 0.815 - ETA: 7:22 - loss: 0.818 - ETA: 7:21 - loss: 0.816 - ETA: 7:20 - loss: 0.818 - ETA: 7:18 - loss: 0.816 - ETA: 7:16 - loss: 0.818 - ETA: 7:14 - loss: 0.816 - ETA: 7:12 - loss: 0.817 - ETA: 7:10 - loss: 0.816 - ETA: 7:09 - loss: 0.816 - ETA: 7:07 - loss: 0.814 - ETA: 7:05 - loss: 0.815 - ETA: 7:04 - loss: 0.815 - ETA: 7:02 - loss: 0.814 - ETA: 7:01 - loss: 0.813 - ETA: 6:59 - loss: 0.813 - ETA: 6:57 - loss: 0.810 - ETA: 6:55 - loss: 0.810 - ETA: 6:54 - loss: 0.811 - ETA: 6:52 - loss: 0.813 - ETA: 6:51 - loss: 0.812 - ETA: 6:49 - loss: 0.813 - ETA: 6:47 - loss: 0.814 - ETA: 6:46 - loss: 0.814 - ETA: 6:44 - loss: 0.815 - ETA: 6:43 - loss: 0.814 - ETA: 6:41 - loss: 0.814 - ETA: 6:40 - loss: 0.814 - ETA: 6:38 - loss: 0.814 - ETA: 6:36 - loss: 0.814 - ETA: 6:35 - loss: 0.814 - ETA: 6:34 - loss: 0.812 - ETA: 6:32 - loss: 0.811 - ETA: 6:31 - loss: 0.812 - ETA: 6:29 - loss: 0.812 - ETA: 6:27 - loss: 0.813 - ETA: 6:26 - loss: 0.812 - ETA: 6:25 - loss: 0.811 - ETA: 6:24 - loss: 0.811 - ETA: 6:31 - loss: 0.811 - ETA: 6:29 - loss: 0.809 - ETA: 6:27 - loss: 0.810 - ETA: 6:26 - loss: 0.811 - ETA: 6:24 - loss: 0.811 - ETA: 6:22 - loss: 0.811 - ETA: 6:20 - loss: 0.812 - ETA: 6:18 - loss: 0.810 - ETA: 6:16 - loss: 0.809 - ETA: 6:15 - loss: 0.808 - ETA: 6:13 - loss: 0.808 - ETA: 6:11 - loss: 0.809 - ETA: 6:10 - loss: 0.810 - ETA: 6:08 - loss: 0.810 - ETA: 6:06 - loss: 0.810 - ETA: 6:04 - loss: 0.811 - ETA: 6:03 - loss: 0.811 - ETA: 6:01 - loss: 0.811 - ETA: 5:59 - loss: 0.811 - ETA: 5:57 - loss: 0.810 - ETA: 5:56 - loss: 0.811 - ETA: 5:54 - loss: 0.810 - ETA: 5:52 - loss: 0.810 - ETA: 5:50 - loss: 0.810 - ETA: 5:49 - loss: 0.810 - ETA: 5:47 - loss: 0.810 - ETA: 5:45 - loss: 0.810 - ETA: 5:44 - loss: 0.810 - ETA: 5:42 - loss: 0.810 - ETA: 5:41 - loss: 0.810 - ETA: 5:39 - loss: 0.809 - ETA: 5:37 - loss: 0.810 - ETA: 5:35 - loss: 0.809 - ETA: 5:34 - loss: 0.810 - ETA: 5:32 - loss: 0.809 - ETA: 5:31 - loss: 0.809 - ETA: 5:29 - loss: 0.810 - ETA: 5:27 - loss: 0.809 - ETA: 5:26 - loss: 0.809 - ETA: 5:24 - loss: 0.811 - ETA: 5:22 - loss: 0.811 - ETA: 5:21 - loss: 0.812 - ETA: 5:19 - loss: 0.812 - ETA: 5:17 - loss: 0.812 - ETA: 5:16 - loss: 0.813 - ETA: 5:14 - loss: 0.814 - ETA: 5:13 - loss: 0.813 - ETA: 5:11 - loss: 0.812 - ETA: 5:10 - loss: 0.812 - ETA: 5:08 - loss: 0.810 - ETA: 5:07 - loss: 0.811 - ETA: 5:06 - loss: 0.811 - ETA: 5:04 - loss: 0.810 - ETA: 5:03 - loss: 0.810 - ETA: 5:01 - loss: 0.810 - ETA: 5:00 - loss: 0.811 - ETA: 4:58 - loss: 0.812 - ETA: 4:56 - loss: 0.812 - ETA: 4:55 - loss: 0.811 - ETA: 4:53 - loss: 0.811 - ETA: 4:51 - loss: 0.811 - ETA: 4:50 - loss: 0.811 - ETA: 4:48 - loss: 0.811 - ETA: 4:46 - loss: 0.812 - ETA: 4:45 - loss: 0.812 - ETA: 4:43 - loss: 0.812 - ETA: 4:42 - loss: 0.812 - ETA: 4:40 - loss: 0.812 - ETA: 4:38 - loss: 0.812 - ETA: 4:37 - loss: 0.812 - ETA: 4:38 - loss: 0.812 - ETA: 4:36 - loss: 0.811 - ETA: 4:34 - loss: 0.812 - ETA: 4:33 - loss: 0.812 - ETA: 4:31 - loss: 0.813 - ETA: 4:29 - loss: 0.813 - ETA: 4:28 - loss: 0.814 - ETA: 4:26 - loss: 0.815 - ETA: 4:24 - loss: 0.815 - ETA: 4:23 - loss: 0.815 - ETA: 4:21 - loss: 0.815 - ETA: 4:19 - loss: 0.814 - ETA: 4:18 - loss: 0.814 - ETA: 4:16 - loss: 0.814 - ETA: 4:14 - loss: 0.814 - ETA: 4:13 - loss: 0.815 - ETA: 4:11 - loss: 0.815 - ETA: 4:10 - loss: 0.815 - ETA: 4:08 - loss: 0.815 - ETA: 4:06 - loss: 0.815 - ETA: 4:05 - loss: 0.814 - ETA: 4:03 - loss: 0.815 - ETA: 4:01 - loss: 0.815 - ETA: 4:00 - loss: 0.814 - ETA: 3:58 - loss: 0.815 - ETA: 3:56 - loss: 0.815 - ETA: 3:55 - loss: 0.815 - ETA: 3:53 - loss: 0.816 - ETA: 3:51 - loss: 0.816 - ETA: 3:50 - loss: 0.816 - ETA: 3:48 - loss: 0.816 - ETA: 3:47 - loss: 0.816 - ETA: 3:45 - loss: 0.815 - ETA: 3:43 - loss: 0.815 - ETA: 3:42 - loss: 0.815 - ETA: 3:40 - loss: 0.815 - ETA: 3:38 - loss: 0.815 - ETA: 3:37 - loss: 0.815 - ETA: 3:35 - loss: 0.814 - ETA: 3:34 - loss: 0.815 - ETA: 3:32 - loss: 0.815 - ETA: 3:30 - loss: 0.815 - ETA: 3:29 - loss: 0.814 - ETA: 3:27 - loss: 0.814 - ETA: 3:26 - loss: 0.815 - ETA: 3:24 - loss: 0.814 - ETA: 3:22 - loss: 0.814 - ETA: 3:21 - loss: 0.814 - ETA: 3:19 - loss: 0.814 - ETA: 3:17 - loss: 0.814 - ETA: 3:16 - loss: 0.814 - ETA: 3:14 - loss: 0.814 - ETA: 3:13 - loss: 0.814 - ETA: 3:11 - loss: 0.814 - ETA: 3:09 - loss: 0.814 - ETA: 3:08 - loss: 0.814 - ETA: 3:06 - loss: 0.814 - ETA: 3:04 - loss: 0.814 - ETA: 3:03 - loss: 0.814 - ETA: 3:01 - loss: 0.814 - ETA: 3:00 - loss: 0.814 - ETA: 2:58 - loss: 0.814 - ETA: 2:57 - loss: 0.814 - ETA: 2:55 - loss: 0.814 - ETA: 2:53 - loss: 0.814 - ETA: 2:52 - loss: 0.814 - ETA: 2:50 - loss: 0.814 - ETA: 2:48 - loss: 0.814 - ETA: 2:47 - loss: 0.814 - ETA: 2:45 - loss: 0.814 - ETA: 2:44 - loss: 0.814 - ETA: 2:42 - loss: 0.814 - ETA: 2:40 - loss: 0.814 - ETA: 2:39 - loss: 0.814 - ETA: 2:37 - loss: 0.814 - ETA: 2:36 - loss: 0.814 - ETA: 2:34 - loss: 0.814 - ETA: 2:32 - loss: 0.814 - ETA: 2:31 - loss: 0.814 - ETA: 2:29 - loss: 0.814 - ETA: 2:27 - loss: 0.814 - ETA: 2:26 - loss: 0.814 - ETA: 2:24 - loss: 0.814 - ETA: 2:23 - loss: 0.814 - ETA: 2:21 - loss: 0.813 - ETA: 2:19 - loss: 0.814 - ETA: 2:18 - loss: 0.813 - ETA: 2:16 - loss: 0.814 - ETA: 2:15 - loss: 0.814 - ETA: 2:13 - loss: 0.814 - ETA: 2:11 - loss: 0.814 - ETA: 2:10 - loss: 0.814 - ETA: 2:08 - loss: 0.814 - ETA: 2:07 - loss: 0.815 - ETA: 2:05 - loss: 0.815 - ETA: 2:03 - loss: 0.814 - ETA: 2:02 - loss: 0.814 - ETA: 2:00 - loss: 0.814 - ETA: 1:59 - loss: 0.814 - ETA: 1:57 - loss: 0.814 - ETA: 1:55 - loss: 0.814 - ETA: 1:54 - loss: 0.814 - ETA: 1:52 - loss: 0.814 - ETA: 1:51 - loss: 0.815 - ETA: 1:49 - loss: 0.814 - ETA: 1:47 - loss: 0.814 - ETA: 1:46 - loss: 0.815 - ETA: 1:44 - loss: 0.815 - ETA: 1:43 - loss: 0.815 - ETA: 1:41 - loss: 0.815 - ETA: 1:39 - loss: 0.814 - ETA: 1:38 - loss: 0.815 - ETA: 1:36 - loss: 0.815 - ETA: 1:35 - loss: 0.814 - ETA: 1:33 - loss: 0.814 - ETA: 1:32 - loss: 0.814 - ETA: 1:30 - loss: 0.814 - ETA: 1:28 - loss: 0.814 - ETA: 1:27 - loss: 0.814 - ETA: 1:25 - loss: 0.814 - ETA: 1:24 - loss: 0.814 - ETA: 1:22 - loss: 0.814 - ETA: 1:20 - loss: 0.814 - ETA: 1:19 - loss: 0.814 - ETA: 1:17 - loss: 0.814 - ETA: 1:16 - loss: 0.814 - ETA: 1:14 - loss: 0.814 - ETA: 1:12 - loss: 0.815 - ETA: 1:11 - loss: 0.815 - ETA: 1:09 - loss: 0.815 - ETA: 1:08 - loss: 0.815 - ETA: 1:06 - loss: 0.814 - ETA: 1:04 - loss: 0.815 - ETA: 1:03 - loss: 0.814 - ETA: 1:01 - loss: 0.814 - ETA: 1:00 - loss: 0.814 - ETA: 58s - loss: 0.814 - ETA: 57s - loss: 0.81 - ETA: 55s - loss: 0.81 - ETA: 53s - loss: 0.81 - ETA: 52s - loss: 0.81 - ETA: 50s - loss: 0.81 - ETA: 49s - loss: 0.81 - ETA: 47s - loss: 0.81 - ETA: 45s - loss: 0.81 - ETA: 44s - loss: 0.81 - ETA: 42s - loss: 0.81 - ETA: 41s - loss: 0.81 - ETA: 39s - loss: 0.81 - ETA: 38s - loss: 0.81 - ETA: 36s - loss: 0.81 - ETA: 34s - loss: 0.81 - ETA: 33s - loss: 0.81 - ETA: 31s - loss: 0.81 - ETA: 30s - loss: 0.81 - ETA: 28s - loss: 0.81 - ETA: 26s - loss: 0.81 - ETA: 25s - loss: 0.81 - ETA: 23s - loss: 0.81 - ETA: 22s - loss: 0.81 - ETA: 20s - loss: 0.81 - ETA: 19s - loss: 0.81 - ETA: 17s - loss: 0.81 - ETA: 15s - loss: 0.81 - ETA: 14s - loss: 0.81 - ETA: 12s - loss: 0.81 - ETA: 11s - loss: 0.81 - ETA: 9s - loss: 0.8163 - ETA: 7s - loss: 0.816 - ETA: 6s - loss: 0.816 - ETA: 4s - loss: 0.816 - ETA: 3s - loss: 0.816 - ETA: 1s - loss: 0.816 - 523s 2s/step - loss: 0.8160 - val_loss: 1.2724\n",
      "Epoch 20/20\n",
      "300/300 [==============================] - ETA: 7:45 - loss: 0.737 - ETA: 7:40 - loss: 0.786 - ETA: 7:40 - loss: 0.790 - ETA: 7:43 - loss: 0.778 - ETA: 7:41 - loss: 0.777 - ETA: 7:39 - loss: 0.778 - ETA: 7:39 - loss: 0.775 - ETA: 7:38 - loss: 0.784 - ETA: 7:41 - loss: 0.791 - ETA: 7:38 - loss: 0.798 - ETA: 7:39 - loss: 0.803 - ETA: 7:38 - loss: 0.804 - ETA: 7:36 - loss: 0.804 - ETA: 7:34 - loss: 0.805 - ETA: 7:31 - loss: 0.797 - ETA: 7:29 - loss: 0.800 - ETA: 7:27 - loss: 0.802 - ETA: 7:26 - loss: 0.801 - ETA: 7:23 - loss: 0.800 - ETA: 7:21 - loss: 0.801 - ETA: 7:20 - loss: 0.801 - ETA: 7:18 - loss: 0.799 - ETA: 7:16 - loss: 0.799 - ETA: 7:14 - loss: 0.800 - ETA: 7:12 - loss: 0.796 - ETA: 7:10 - loss: 0.795 - ETA: 7:09 - loss: 0.794 - ETA: 7:07 - loss: 0.796 - ETA: 7:05 - loss: 0.795 - ETA: 7:03 - loss: 0.795 - ETA: 7:02 - loss: 0.795 - ETA: 7:01 - loss: 0.796 - ETA: 7:00 - loss: 0.795 - ETA: 6:58 - loss: 0.795 - ETA: 6:56 - loss: 0.794 - ETA: 6:55 - loss: 0.792 - ETA: 6:53 - loss: 0.794 - ETA: 6:51 - loss: 0.794 - ETA: 6:50 - loss: 0.793 - ETA: 6:49 - loss: 0.794 - ETA: 6:48 - loss: 0.791 - ETA: 6:46 - loss: 0.790 - ETA: 6:44 - loss: 0.791 - ETA: 6:43 - loss: 0.793 - ETA: 6:41 - loss: 0.793 - ETA: 6:40 - loss: 0.794 - ETA: 6:38 - loss: 0.794 - ETA: 6:36 - loss: 0.792 - ETA: 6:34 - loss: 0.794 - ETA: 6:33 - loss: 0.794 - ETA: 6:32 - loss: 0.794 - ETA: 6:30 - loss: 0.795 - ETA: 6:28 - loss: 0.794 - ETA: 6:26 - loss: 0.794 - ETA: 6:25 - loss: 0.793 - ETA: 6:23 - loss: 0.793 - ETA: 6:21 - loss: 0.791 - ETA: 6:20 - loss: 0.791 - ETA: 6:18 - loss: 0.791 - ETA: 6:17 - loss: 0.791 - ETA: 6:15 - loss: 0.792 - ETA: 6:13 - loss: 0.792 - ETA: 6:12 - loss: 0.791 - ETA: 6:10 - loss: 0.793 - ETA: 6:09 - loss: 0.792 - ETA: 6:07 - loss: 0.792 - ETA: 6:05 - loss: 0.792 - ETA: 6:04 - loss: 0.792 - ETA: 6:02 - loss: 0.793 - ETA: 6:01 - loss: 0.793 - ETA: 5:59 - loss: 0.794 - ETA: 5:57 - loss: 0.795 - ETA: 5:56 - loss: 0.795 - ETA: 5:54 - loss: 0.797 - ETA: 5:53 - loss: 0.796 - ETA: 5:51 - loss: 0.796 - ETA: 5:49 - loss: 0.795 - ETA: 5:48 - loss: 0.795 - ETA: 5:46 - loss: 0.796 - ETA: 5:45 - loss: 0.796 - ETA: 5:43 - loss: 0.796 - ETA: 5:42 - loss: 0.796 - ETA: 5:40 - loss: 0.796 - ETA: 5:38 - loss: 0.796 - ETA: 5:37 - loss: 0.796 - ETA: 5:36 - loss: 0.796 - ETA: 5:34 - loss: 0.796 - ETA: 5:33 - loss: 0.796 - ETA: 5:31 - loss: 0.795 - ETA: 5:30 - loss: 0.795 - ETA: 5:28 - loss: 0.796 - ETA: 5:26 - loss: 0.795 - ETA: 5:25 - loss: 0.796 - ETA: 5:23 - loss: 0.796 - ETA: 5:22 - loss: 0.795 - ETA: 5:20 - loss: 0.795 - ETA: 5:19 - loss: 0.795 - ETA: 5:18 - loss: 0.794 - ETA: 5:16 - loss: 0.794 - ETA: 5:15 - loss: 0.793 - ETA: 5:13 - loss: 0.794 - ETA: 5:11 - loss: 0.794 - ETA: 5:10 - loss: 0.794 - ETA: 5:08 - loss: 0.794 - ETA: 5:07 - loss: 0.793 - ETA: 5:05 - loss: 0.794 - ETA: 5:04 - loss: 0.794 - ETA: 5:02 - loss: 0.794 - ETA: 5:00 - loss: 0.793 - ETA: 4:59 - loss: 0.793 - ETA: 4:57 - loss: 0.792 - ETA: 4:56 - loss: 0.792 - ETA: 4:54 - loss: 0.792 - ETA: 4:52 - loss: 0.791 - ETA: 4:51 - loss: 0.791 - ETA: 4:49 - loss: 0.792 - ETA: 4:48 - loss: 0.792 - ETA: 4:46 - loss: 0.792 - ETA: 4:45 - loss: 0.792 - ETA: 4:43 - loss: 0.792 - ETA: 4:41 - loss: 0.792 - ETA: 4:40 - loss: 0.792 - ETA: 4:38 - loss: 0.792 - ETA: 4:37 - loss: 0.792 - ETA: 4:35 - loss: 0.792 - ETA: 4:33 - loss: 0.792 - ETA: 4:32 - loss: 0.792 - ETA: 4:30 - loss: 0.792 - ETA: 4:29 - loss: 0.791 - ETA: 4:27 - loss: 0.791 - ETA: 4:26 - loss: 0.792 - ETA: 4:24 - loss: 0.792 - ETA: 4:22 - loss: 0.791 - ETA: 4:21 - loss: 0.792 - ETA: 4:19 - loss: 0.791 - ETA: 4:18 - loss: 0.791 - ETA: 4:16 - loss: 0.791 - ETA: 4:15 - loss: 0.791 - ETA: 4:13 - loss: 0.791 - ETA: 4:11 - loss: 0.792 - ETA: 4:10 - loss: 0.791 - ETA: 4:08 - loss: 0.791 - ETA: 4:07 - loss: 0.792 - ETA: 4:05 - loss: 0.792 - ETA: 4:03 - loss: 0.792 - ETA: 4:02 - loss: 0.792 - ETA: 4:00 - loss: 0.792 - ETA: 3:59 - loss: 0.792 - ETA: 3:57 - loss: 0.793 - ETA: 3:55 - loss: 0.793 - ETA: 3:54 - loss: 0.792 - ETA: 3:52 - loss: 0.793 - ETA: 3:51 - loss: 0.793 - ETA: 3:49 - loss: 0.793 - ETA: 3:48 - loss: 0.793 - ETA: 3:46 - loss: 0.794 - ETA: 3:44 - loss: 0.794 - ETA: 3:43 - loss: 0.794 - ETA: 3:41 - loss: 0.795 - ETA: 3:40 - loss: 0.795 - ETA: 3:38 - loss: 0.795 - ETA: 3:37 - loss: 0.795 - ETA: 3:35 - loss: 0.795 - ETA: 3:34 - loss: 0.795 - ETA: 3:32 - loss: 0.795 - ETA: 3:30 - loss: 0.795 - ETA: 3:29 - loss: 0.795 - ETA: 3:27 - loss: 0.795 - ETA: 3:26 - loss: 0.795 - ETA: 3:24 - loss: 0.795 - ETA: 3:23 - loss: 0.795 - ETA: 3:21 - loss: 0.795 - ETA: 3:19 - loss: 0.795 - ETA: 3:18 - loss: 0.796 - ETA: 3:16 - loss: 0.796 - ETA: 3:15 - loss: 0.796 - ETA: 3:13 - loss: 0.796 - ETA: 3:11 - loss: 0.796 - ETA: 3:10 - loss: 0.796 - ETA: 3:08 - loss: 0.796 - ETA: 3:07 - loss: 0.796 - ETA: 3:05 - loss: 0.796 - ETA: 3:04 - loss: 0.796 - ETA: 3:02 - loss: 0.795 - ETA: 3:00 - loss: 0.795 - ETA: 2:59 - loss: 0.795 - ETA: 2:57 - loss: 0.795 - ETA: 2:56 - loss: 0.796 - ETA: 2:54 - loss: 0.795 - ETA: 2:53 - loss: 0.795 - ETA: 2:51 - loss: 0.795 - ETA: 2:49 - loss: 0.795 - ETA: 2:48 - loss: 0.795 - ETA: 2:46 - loss: 0.796 - ETA: 2:45 - loss: 0.795 - ETA: 2:43 - loss: 0.795 - ETA: 2:42 - loss: 0.795 - ETA: 2:40 - loss: 0.795 - ETA: 2:38 - loss: 0.795 - ETA: 2:37 - loss: 0.794 - ETA: 2:35 - loss: 0.794 - ETA: 2:34 - loss: 0.795 - ETA: 2:32 - loss: 0.794 - ETA: 2:31 - loss: 0.794 - ETA: 2:29 - loss: 0.794 - ETA: 2:27 - loss: 0.794 - ETA: 2:26 - loss: 0.794 - ETA: 2:24 - loss: 0.794 - ETA: 2:23 - loss: 0.794 - ETA: 2:21 - loss: 0.794 - ETA: 2:20 - loss: 0.794 - ETA: 2:18 - loss: 0.795 - ETA: 2:16 - loss: 0.795 - ETA: 2:15 - loss: 0.795 - ETA: 2:13 - loss: 0.795 - ETA: 2:12 - loss: 0.794 - ETA: 2:10 - loss: 0.794 - ETA: 2:08 - loss: 0.794 - ETA: 2:07 - loss: 0.794 - ETA: 2:05 - loss: 0.794 - ETA: 2:04 - loss: 0.794 - ETA: 2:02 - loss: 0.794 - ETA: 2:01 - loss: 0.794 - ETA: 1:59 - loss: 0.794 - ETA: 1:57 - loss: 0.794 - ETA: 1:56 - loss: 0.793 - ETA: 1:54 - loss: 0.793 - ETA: 1:53 - loss: 0.794 - ETA: 1:51 - loss: 0.793 - ETA: 1:50 - loss: 0.793 - ETA: 1:48 - loss: 0.793 - ETA: 1:46 - loss: 0.793 - ETA: 1:45 - loss: 0.793 - ETA: 1:43 - loss: 0.793 - ETA: 1:42 - loss: 0.793 - ETA: 1:40 - loss: 0.793 - ETA: 1:39 - loss: 0.793 - ETA: 1:37 - loss: 0.793 - ETA: 1:35 - loss: 0.792 - ETA: 1:34 - loss: 0.792 - ETA: 1:32 - loss: 0.792 - ETA: 1:31 - loss: 0.792 - ETA: 1:29 - loss: 0.792 - ETA: 1:28 - loss: 0.792 - ETA: 1:26 - loss: 0.792 - ETA: 1:25 - loss: 0.792 - ETA: 1:23 - loss: 0.792 - ETA: 1:22 - loss: 0.792 - ETA: 1:20 - loss: 0.792 - ETA: 1:19 - loss: 0.792 - ETA: 1:17 - loss: 0.792 - ETA: 1:15 - loss: 0.792 - ETA: 1:14 - loss: 0.792 - ETA: 1:12 - loss: 0.792 - ETA: 1:11 - loss: 0.791 - ETA: 1:09 - loss: 0.791 - ETA: 1:08 - loss: 0.791 - ETA: 1:06 - loss: 0.791 - ETA: 1:04 - loss: 0.791 - ETA: 1:03 - loss: 0.791 - ETA: 1:01 - loss: 0.791 - ETA: 1:00 - loss: 0.790 - ETA: 58s - loss: 0.790 - ETA: 56s - loss: 0.79 - ETA: 55s - loss: 0.79 - ETA: 53s - loss: 0.79 - ETA: 52s - loss: 0.79 - ETA: 50s - loss: 0.79 - ETA: 48s - loss: 0.79 - ETA: 47s - loss: 0.79 - ETA: 45s - loss: 0.79 - ETA: 44s - loss: 0.79 - ETA: 42s - loss: 0.79 - ETA: 41s - loss: 0.79 - ETA: 39s - loss: 0.79 - ETA: 37s - loss: 0.79 - ETA: 36s - loss: 0.79 - ETA: 34s - loss: 0.79 - ETA: 33s - loss: 0.79 - ETA: 31s - loss: 0.79 - ETA: 30s - loss: 0.79 - ETA: 28s - loss: 0.79 - ETA: 26s - loss: 0.79 - ETA: 25s - loss: 0.79 - ETA: 23s - loss: 0.79 - ETA: 22s - loss: 0.79 - ETA: 20s - loss: 0.79 - ETA: 18s - loss: 0.78 - ETA: 17s - loss: 0.78 - ETA: 15s - loss: 0.78 - ETA: 14s - loss: 0.79 - ETA: 12s - loss: 0.78 - ETA: 11s - loss: 0.79 - ETA: 9s - loss: 0.7904 - ETA: 7s - loss: 0.790 - ETA: 6s - loss: 0.790 - ETA: 4s - loss: 0.790 - ETA: 3s - loss: 0.790 - ETA: 1s - loss: 0.789 - 521s 2s/step - loss: 0.7900 - val_loss: 1.2716\n"
     ]
    }
   ],
   "source": [
    "model_name = '50nds_4Lrs_20epchs_Model'\n",
    "textgen = textgenrnn(name=model_name)\n",
    "\n",
    "train_function = textgen.train_from_file if train_cfg['line_delimited'] else textgen.train_from_largetext_file\n",
    "\n",
    "train_function(\n",
    "    file_path='lyrics_text.txt',\n",
    "    new_model=True,\n",
    "    num_epochs=train_cfg['num_epochs'],\n",
    "    gen_epochs=train_cfg['gen_epochs'],\n",
    "    batch_size=train_cfg['batch_size'],\n",
    "    train_size=train_cfg['train_size'],\n",
    "    dropout=train_cfg['dropout'],\n",
    "    max_gen_length=train_cfg['max_gen_length'],\n",
    "    validation=train_cfg['validation'],\n",
    "    is_csv=train_cfg['is_csv'],\n",
    "    rnn_layers=model_cfg['rnn_layers'],\n",
    "    rnn_size=model_cfg['rnn_size'],\n",
    "    rnn_bidirectional=model_cfg['rnn_bidirectional'],\n",
    "    max_length=model_cfg['max_length'],\n",
    "    dim_embeddings=model_cfg['dim_embeddings'],\n",
    "    word_level=model_cfg['word_level'])"
   ]
  },
  {
   "cell_type": "code",
   "execution_count": 4,
   "metadata": {},
   "outputs": [
    {
     "name": "stdout",
     "output_type": "stream",
     "text": [
      "__________________________________________________________________________________________________\n",
      "Layer (type)                    Output Shape         Param #     Connected to                     \n",
      "==================================================================================================\n",
      "input (InputLayer)              (None, 15)           0                                            \n",
      "__________________________________________________________________________________________________\n",
      "embedding (Embedding)           (None, 15, 100)      7800        input[0][0]                      \n",
      "__________________________________________________________________________________________________\n",
      "rnn_1 (Bidirectional)           (None, 15, 100)      60400       embedding[0][0]                  \n",
      "__________________________________________________________________________________________________\n",
      "rnn_2 (Bidirectional)           (None, 15, 100)      60400       rnn_1[0][0]                      \n",
      "__________________________________________________________________________________________________\n",
      "rnn_3 (Bidirectional)           (None, 15, 100)      60400       rnn_2[0][0]                      \n",
      "__________________________________________________________________________________________________\n",
      "rnn_4 (Bidirectional)           (None, 15, 100)      60400       rnn_3[0][0]                      \n",
      "__________________________________________________________________________________________________\n",
      "rnn_concat (Concatenate)        (None, 15, 500)      0           embedding[0][0]                  \n",
      "                                                                 rnn_1[0][0]                      \n",
      "                                                                 rnn_2[0][0]                      \n",
      "                                                                 rnn_3[0][0]                      \n",
      "                                                                 rnn_4[0][0]                      \n",
      "__________________________________________________________________________________________________\n",
      "attention (AttentionWeightedAve (None, 500)          500         rnn_concat[0][0]                 \n",
      "__________________________________________________________________________________________________\n",
      "output (Dense)                  (None, 78)           39078       attention[0][0]                  \n",
      "==================================================================================================\n",
      "Total params: 288,978\n",
      "Trainable params: 288,978\n",
      "Non-trainable params: 0\n",
      "__________________________________________________________________________________________________\n"
     ]
    }
   ],
   "source": [
    "textgen.model.summary()"
   ]
  },
  {
   "cell_type": "code",
   "execution_count": null,
   "metadata": {},
   "outputs": [
    {
     "name": "stdout",
     "output_type": "stream",
     "text": [
      "####################\n",
      "Temperature: 0.2\n",
      "####################\n",
      "I was not so  Sailan other day  I didn't resided the bridge of sing you will never be a baby breads with a monkey mind of my design My love is my love inside We are the way to feel  We are the ones that we make and a finger  The land of lands  Like a bright of sheed Jude, land on the moon by to tak\n",
      "\n",
      "\n",
      "\n",
      "I could not alone  I don't believe it's bad Slit my throat it's all I ever  Tell me when it's time to be I said  I'm about to go  I don't believe it's bad Slit my throat it's all I ever  The earth this I got a feeling of the sun that he should be the sun  But it won't be too long  I'm falling on yo\n",
      "\n",
      "I could not what it's time to swees the cover of another perfect wonder the chili  I love me down form your head  I've got to make it  The world when you don't ever wanna feel and the love of love for you   Cat from you and I'm in it from the brave  She's the sun my heart continues to say I'd be th\n",
      "\n",
      "I could not all the way  I don't I don't believe it's bad Slit my throat it's all I ever  How long how long will I slide? Separate my side, I don't I don't believe it's bad Slit my throat it's all I ever  How long how long will I slide? Separate my side, I'm falling into grace with you I'm from the\n",
      "\n",
      "I want to party on your pussy, baby I want to party on your pussy, baby I want to party on your pussy, baby I want to party on your pussy, baby I want to party on your pussy, baby I want to party on your pussy, baby I want to party on your pussy, baby I want to party on your pussy, baby I want to p\n",
      "\n",
      "\n",
      "\n",
      "\n",
      "\n",
      "I don't believe it's bad Slit my throat it's all I ever  How long how long will I slide? Separate my side, I don't I don't believe it's bad Slit my throat it's all I ever  The earth this I got a feeling of the face everything Where you come from  Where you want to go  I'm a minor in my love in the \n",
      "\n",
      "The twened my friend And you can when I they strong and minging on your funky  If you straw the same  To show  And if I can my friend  My friend My friend My friend My friend My friend My friend My friend My friend My friend My friend My friend My friend My friend My friend My friend My friend My f\n",
      "\n",
      "\n",
      "\n",
      "\n",
      "\n",
      "I could why don't ask alone  This is my heart is what I say off the banana  California far that I know it all share  When the road I'm your strange  I spect the chili  I love me down form you  I want to party on your pussy, baby I want to party on your pussy, baby I want to party on your pussy, bab\n",
      "\n",
      "\n",
      "\n",
      "\n",
      "\n",
      "\n",
      "\n",
      "\n",
      "\n",
      "I want to party on your pussy, baby I want to party on your pussy, baby I want to party on your pussy, baby I want to party on your pussy, baby I want to party on your pussy, baby I want to party on your pussy, baby I want to party on your pussy, baby I want to party on your pussy, baby I want to p\n",
      "\n",
      "\n",
      "\n",
      "I could walk the sun of the crime  I can saison me Poming up the sky  I'm the laifines show you should a way the way (yeah yeah)  Oh oh (I said, I could do do the more down some other day Aren't you glad you weren't afraid  Funny how the price gets paid  We like dirt I do I don't know what it all a\n",
      "\n",
      "I could be warm of a band, I'll see you around, I'll see you around, I'll see you around, I'll see you around, I'll see you around, I'll see you around, I'll see you around, I'll see you around, I'll see you around, I'll see you around, I'll see you around, I'll see you around, I'll see you around,\n",
      "\n",
      "\n",
      "\n",
      "\n",
      "\n",
      "I could so  I'm falling into grace with you I want to know more than I say I want to do what I do  I want to go  I turn it again  Hey, oh yeah, so long (I find you a looks to me She looks to me She looks to me She looks to me alright  I live to love and glory  The look on their face Funk 'em, just \n",
      "\n",
      "And then I trap and then I turn it again  Hey, oh yeah We all me wanna sometimes  Oh, no, two, here that come as a friend  The stadium of the crump   I like dirt, I like dirt  She turned me down don't for a secreman  The best barnies The same of the sky  I like dirt, I like dirt  She knows and come\n",
      "\n",
      "\n",
      "\n",
      "I feel you I want to know more than I know the streets of the night not be my love?  I'm the brothers cup) (We're the brothers cup) (We're the brothers cup) (We're the brothers cup the pain  I play it out to party on your pussy, baby I want to party on your pussy, baby I want to party on your pussy\n",
      "\n",
      "The twened come as tonkeiness  Bust and righter love and go on the world when you don't ever wanna feel the way  I don't I don't believe it's bad Slit my throat it's all I ever  Preaming of the streets of the funk of the earth One, two, three forsake But I want to party on your pussy, baby I want t\n",
      "\n",
      "\n",
      "\n",
      "What I've got you've got to give it to your daughter sing, so from the fire  I don't ever wanna feel the book on your tickle speak The coper of another lonely say I will  If I can do   I don't want to say away your spirit 'cause With the birds I'll share this lonely viewin' With the birds I'll shar\n",
      "\n",
      "I was not so  Sour head my love is my mind Flom and day it ought to give show me to see the show more than your brain  The streets of the shape My love is in the fact we got to  I turn it on in the way I tried to say I'd be there waiting for a part, please, please, please, please, please, please, p\n",
      "\n",
      "\n",
      "\n",
      "I could why don't almay And then you see me again  Find the ground  I'm the one one of the way  The sate goes of the base of the earth One, two, three forsake But I want to party on your pussy, baby I want to party on your pussy, baby I want to party on your pussy, baby I want to party on your puss\n",
      "\n",
      "I want to party on your pussy, baby I want to party on your pussy, baby I want to party on your pussy, baby I want to party on your pussy, baby I want to party on your pussy, baby I want to party on your pussy, baby I want to party on your pussy, baby I want to party on your pussy, baby I want to p\n",
      "\n",
      "I was not so  I'm in it on the one when we don't leave you should see I'm a warm to give it to your daughter blood  Start of the card of love some as the mend when you should me like a bright  She strong is no one wants kill coyotes The back is the streets of the night of the cream  I don't believe\n",
      "\n",
      "I want to party on your pussy, baby I want to party on your pussy, baby I want to party on your pussy, baby I want to party on your pussy, baby I want to party on your pussy, baby I want to party on your pussy, baby I want to party on your pussy, baby I want to party on your pussy, baby I want to p\n",
      "\n",
      "I can't tell iff I say it up you weren't afraid  Funny how the price gets see yeah  Let's upferse that we bulling in my black  My heart is so time  The one who searches I'll like it to make a little love for the sur  The time of the course I don't believe it's bad Slit my throat it's all I ever  Pr\n",
      "\n",
      "I could not at back  Hollywood Hollywood Hollywood Hollywood Hollywood Hollywood Hollywood Hollywood Hollywood Hollywood Hollywood Hollywood Hollywood Hollywood Hollywood Hollywood Hollywood Hollywood Hollywood Hollywood Hollywood Hollywood Hollywood Hollywood Hollywood Hollywood Hollywood Hollywoo\n",
      "\n",
      "I don't want to say away your spirit don't stop me my sece   I am a jungle man I am a jungle man I am a jungle man I am a jungle man I am a jungle man I am a jungle man I am a jungle man I am a jungle man I am a jungle man I am a jungle man I am a jungle man I am a jungle man I am a jungle man I am\n",
      "\n",
      "I could not what it's time to say  Look at misside The banana\n",
      "\n",
      "\n",
      "\n",
      "I want to party on your pussy, baby I want to party on your pussy, baby I want to party on your pussy, baby I want to party on your pussy, baby I want to party on your pussy, baby I want to party on your pussy, baby I want to party on your pussy, baby I want to party on your pussy, baby I want to p\n",
      "\n",
      "I was not so  From that flows me better that look way I said you know I'm almost dead You know I'm almost dead You know I'm almost gone And when the brothers cup) (We're the brothers cup) (We're the brothers cup) (We're the brothers cup) (We're the brothers cup) (We're the brothers cup) (We're the \n",
      "\n",
      "I want to party on your pussy, baby I want to party on your pussy, baby I want to party on your pussy, baby I want to party on your pussy, baby I want to party on your pussy, baby I want to party on your pussy, baby I want to party on your pussy, baby I want to party on your pussy, baby I want to p\n"
     ]
    },
    {
     "name": "stdout",
     "output_type": "stream",
     "text": [
      "\n",
      "I want to party on your pussy, baby I want to party on your pussy, baby I want to party on your pussy, baby I want to party on your pussy, baby I want to party on your pussy, baby I want to party on your pussy, baby I want to party on your pussy, baby I want to party on your pussy, baby I want to p\n",
      "\n",
      "I feel you  I'm falling into grace with you I want to know more than I gotta take it on the other side  I don't believe it's bad Slit my throat it's all I ever  Traped to the party plane  This I know we're not alone  The one kids of a friend  The sun gets a bare in the street of love for the brothe\n",
      "\n",
      "I could not little bit and really now  And we like the sea  The sun gets a side  I don't believe it's bad Slit my throat it's all I ever  Preaming of the create I make it day I'm falling all I ever  Every night I said yes what I want to do  What I don't you say lookin' for a nat  Nevermind the worl\n",
      "\n",
      "I could not cheetah Long in the green suit  He's a freak of nature Walkin' to the baby and she make you all alone And the more than I scream that it in your blood I know it's time to be I said  I don't believe it's bad Slit my throat it's all I ever  How long how long will I slide? Separate my side\n",
      "\n",
      "I could be warm  Where you come from  Where you want me so they waiting for a shool of busing subble but I can't keep it  I will be found  We are the ones when you what I want to do  What I do  I want to be your knees and showed me girl I will be I'm not abrod to go  I don't believe it's bad Slit m\n",
      "\n",
      "I could be warm  The truth and end when it's time to be like the moon that I  Lot to get it on the sky glue  I like dirt, I like dirt  She turned me down down in your ground  If your twenty, take a beat and the sun behind the sun  The sun gets off any things I've got to take it on the other side  I\n",
      "\n",
      "\n",
      "\n",
      "I was not so  Sailated baby the moon and she got something in the sea  I saw your mouth was a minute  I don't believe it's bad Slit my throat it's all I ever  How long how long will I slide? Separate my side, I don't I don't believe it's bad Slit my throat it's all I ever  How long how long will I \n",
      "\n",
      "What I've got you've got to give it to your daughter blood  Standing in line to get it up (We're the brothers cup) (We're the brothers cup) (We're the brothers cup) (We're the brothers cup we like down  Well I'm a my life into a world what it's time to be a cut and then I skide to get it up (We're \n",
      "\n",
      "\n",
      "\n",
      "\n",
      "\n",
      "\n",
      "\n",
      "Give it away give it away now\n",
      "\n",
      "\n",
      "\n",
      "\n",
      "\n",
      "Something out and a kission  I want to go   you take a little bit it's complet on your pussy, baby I want to party on your pussy, baby I want to party on your pussy, baby I want to party on your pussy, baby I want to party on your pussy, baby I want to party on your pussy, baby I want to party on y\n",
      "\n",
      "I was not so  Sour head my thore The show more than your brighten she got a heart and the same  I make the earth  The same  I am a jungle man I am a jungle man I am a jungle man I am a jungle man I am a jungle man I am a jungle man I am a jungle man I am a jungle man I am a jungle man I am a jungle\n",
      "\n",
      "I could not come and a minor man  Cause you and I'm not the brothers cup) (We're the brothers cup we like down  Well I'm a dalling good  Like a brive with a packet of pain  I saw your come  I'm a king of a fancination  I will never be a baby baby baby make me loco\n",
      "\n",
      "\n",
      "\n",
      "I could be warm I could right onto you who beling  She's the moon that I was a strart  I am something in the streets of the night 2nwather a golden what I can for love and the sky (I got back is a race The moon and she got a heart and the way when I love your love in my love My love is my mind Flom\n",
      "\n",
      "\n",
      "\n",
      "I was not so  Sour head my love is my day it to make a livin' called and  Standing in line to be a slitude on your pussy, baby I want to party on your pussy, baby I want to party on your pussy, baby I want to party on your pussy, baby I want to party on your pussy, baby I want to party on your puss\n",
      "\n",
      "I want to party on your pussy, baby I want to party on your pussy, baby I want to party on your pussy, baby I want to party on your pussy, baby I want to party on your pussy, baby I want to party on your pussy, baby I want to party on your pussy, baby I want to party on your pussy, baby I want to p\n",
      "\n",
      "The took of the shind Take the sun of the earth One, two, three forsake But I want to party on your pussy, baby I want to party on your pussy, baby I want to party on your pussy, baby I want to party on your pussy, baby I want to party on your pussy, baby I want to party on your pussy, baby I want \n",
      "\n",
      "\n",
      "\n",
      "What I've got you've got to give it to your daughter the treets of the sun  But the bumming cabra cherries  The moon is of the crazy I want to party on your pussy, baby I want to party on your pussy, baby I want to party on your pussy, baby I want to party on your pussy, baby I want to party on you\n",
      "\n",
      "I want to party on your pussy, baby I want to party on your pussy, baby I want to party on your pussy, baby I want to party on your pussy, baby I want to party on your pussy, baby I want to party on your pussy, baby I want to party on your pussy, baby I want to party on your pussy, baby I want to p\n",
      "\n",
      "I want to party on your pussy, baby I want to party on your pussy, baby I want to party on your pussy, baby I want to party on your pussy, baby I want to party on your pussy I want to party on your pussy, baby I want to party on your pussy, baby I want to party on your pussy, baby I want to party o\n",
      "\n",
      "\n",
      "\n",
      "I could not like a bright  She looks to me alright  Dance of dark and walk away and taste the precume  She sucked me I want to go as  I don't believe it's bad Slit my throat it's all I ever  Preaming of the crazy Read be a storm  The moon is of the creen the sky  I like dirt, I like dirt  She knows\n",
      "\n",
      "I got a factory of  Fight up and find a way to find it through the way (yeah yeah)  Oh oh (I said, I be jumpin' for the brothers cup come for you I'm feeling and I'm in it not a little bit of the croors that can be sure  I could do better but it's meant to be a minut of the earth One, two, three fo\n",
      "\n",
      "\n",
      "\n",
      "Give it away give it away now\n",
      "\n",
      "\n",
      "\n",
      "\n",
      "\n",
      "I could not all the way I do  I don't believe it's bad Slit my throat it's all I ever  The earth And there's a light on Heavy glow By the way I tried to say I'd be there in the moon is on the sun of life   I'm a minor ground and a little pussy days a little bit it's complet on your pussy, baby I wa\n",
      "\n",
      "I was not so  Sailnby butter in love some of a brother supposed and they're red hot  Yeah, well you do  I don't believe it's bad Slit my throat it's all I ever  Preaming of the star  The things will feel from with the sky I want to go  When I live is you find the same  I tround to make a nother lov\n",
      "\n",
      "\n",
      "\n",
      "\n",
      "\n",
      "I want to party on your pussy, baby I want to party on your pussy, baby I want to party on your pussy, baby I want to party on your pussy, baby I want to party on your pussy, baby I want to party on your pussy, baby I want to party on your pussy, baby I want to party on your pussy, baby I want to p\n",
      "\n",
      "I could so  I'm fucking off rock  Won't even to me into the sun The sun gets a slave the hook on the street I think you're right that we love her today  See your soul more than I know it all the first show me to your daughter baby  California  Can I can showed me when I said you know I'm almost dea\n",
      "\n",
      "\n",
      "\n",
      "I could not forgotten boy  The way we got to be for the rock in your man  I don't want to sear in the street of love some of a band, I'll see you around, I'll see you around, I'll see you around, I'll see you around, I'll see you around, I'll see you around, I'll see you around, I'll see you around\n",
      "\n",
      "\n",
      "\n",
      "I was not so  I love me  The loving up and a car A not the star  The more of a slavition  I want to go  When I live is you now because you want to go  I don't believe it's bad Slit my throat it's all I ever  I knew that it's meant to be a minut of the earth One, two, three let's make the man  I wan\n",
      "\n",
      "I can't tell iff I saw a little pump   I love her  Selline in the sky I want to go  When I live is you find the same  I don't believe it's bad Slit my throat it's all I ever  The earth this I got a factory of  Fight unker for the sun  Just one on the morning of mind  Why don't you say lookin' for a\n",
      "\n",
      "I could not what I do  I don't believe it's bad Slit my throat it's all I ever  How long how long we love the way I feel   I'm a minor ground and a little police  I guess you 'cause With the birds I'll share this lonely viewin' With the birds I'll share this lonely viewin' With the birds I'll share\n"
     ]
    },
    {
     "name": "stdout",
     "output_type": "stream",
     "text": [
      "\n",
      "I was not so  Sailated baby my aeroplane I give it a ride Something in the face of my desided And I don't want to say and goes to give it to your daughter the trees mountain   Hey oh  Oh oh (I steal it all the best  I can  I don't believe it's bad Slit my throat it's all I ever  Time on the other s\n",
      "\n",
      "\n",
      "\n",
      "I was not so  Standing in line to be a slave  Show me your soul  Sentimental gentlemen are not afraid  Funny how the price gets paid  We pilli on your pussy, baby I want to party on your pussy, baby I want to party on your pussy, baby I want to party on your pussy, baby I want to party on your puss\n",
      "\n",
      "I can't tell iff I'm a king or ear   The laws is really wanna  I saw you always stay me good  I've got to say I got a factory of  Fight unker flows that I want to be I do not at from free  I've said they take a little perfect of the earth One, two, three forsake Balling the hooran we'll never be my\n",
      "\n",
      "I could be worlds that when they do in your strange of the earth One, two, three forst and the trum  The man in the streets of the funk of the earth And then I trap and then I say I do  I am a jungle man I am a jungle man I am a jungle man I am a jungle man I am a jungle man I am a jungle man I am \n",
      "\n",
      "The best when you say you only nome   I will never be a baby boy to the way I do  I don't believe it's bad Slit my throat it's all I ever  Preaming of the crazies down  But it along the need kidsed that I say it up I've got to be afraid  Fight like a brave Don't be a slave No one can tell you  You'\n",
      "\n",
      "I was not so  Sour side on my friend I'm gonna geta give it to me And find a broker for a face  Something in the face of my desided And I don't know what it up you  I want to party on your pussy I want to party on your pussy, baby I want to party on your pussy, baby I want to party on your pussy, b\n",
      "\n",
      "\n",
      "\n",
      "Give it away give it away now\n",
      "\n",
      "\n",
      "\n",
      "\n",
      "\n",
      "I feel you I know I know it's you You say hello and then I say I do  I am a jungle man I am a jungle man I am a jungle man I am a jungle man I am a jungle man I am a jungle man I am a jungle man I am a jungle man I am a jungle man I am a jungle man I am a jungle man I am a jungle man I am a jungle \n",
      "\n",
      "\n",
      "\n",
      "I want to party on your pussy, baby I want to party on your pussy, baby I want to party on your pussy, baby I want to party on your pussy, baby I want to party on your pussy, baby I want to party on your pussy, baby I want to party on your pussy, baby I want to party on your pussy, baby I want to p\n",
      "\n",
      "\n",
      "\n",
      "I want to party on your pussy, baby I want to party on your pussy, baby I want to party on your pussy I want to party on your pussy, baby I want to party on your pussy, baby I want to party on your pussy, baby I want to party on your pussy, baby I want to party on your pussy, baby I want to party o\n",
      "\n",
      "\n",
      "\n",
      "I was not so  Sour head my heart is self and see I'm a soul friend  I'm so good thanked more than to me alone  I don't believe it's bad Slit my throat it's all I ever  Tenchourse of the croors that can be so the way (yeah yeah)  It's what I give your come to make a little love for the surf  The sky\n",
      "\n",
      "I could not what so stare of night, no, get the mothers of love some as the power of a partle pland popper please  Me and my, me and my, me and my, me and my, me and my, me and my, me and my, me and my, me and my, me and my, me and my, me and my, me and my, me and my, me and my, me and my, me and m\n",
      "\n",
      "I could not all the way  I don't I don't believe it's bad Slit my throat it's all I ever  How long how long will I slide? Separate my side, I don't I don't believe it's bad Slit my throat it's all I ever  The earth this I got a factory of  I'm coming to me the moon  In a walk away the course she li\n",
      "\n",
      "\n",
      "\n",
      "\n",
      "\n",
      "I could live like a rollercoaster baby, baby I wanna ride Your love is like a rollercoaster baby, baby I wanna ride Your love is like a rollercoaster baby, baby I wanna ride Your love is like a rollercoaster baby, baby I wanna ride Your love is like a rollercoaster baby, baby I wanna ride Your love\n",
      "\n",
      "\n",
      "\n",
      "\n",
      "\n",
      "\n",
      "\n",
      "\n",
      "\n",
      "I want to party on your pussy, baby I want to party on your pussy, baby I want to party on your pussy, baby I want to party on your pussy, baby I want to party on your pussy, baby I want to party on your pussy, baby I want to party on your pussy, baby I want to party on your pussy, baby I want to p\n",
      "\n",
      "I could not what so stare  I don't I don't believe it's bad Slit my throat it's all I ever  I knew that it's meant to be a mise of one fall and the bridge with the birds I'll share this lonely viewin' With the birds I'll share this lonely viewin' With the birds I'll share this lonely viewin' With t\n",
      "\n",
      "\n",
      "\n",
      "\n",
      "\n",
      "\n",
      "\n",
      "\n",
      "\n",
      "\n",
      "\n",
      "\n",
      "\n",
      "I feel you  I want to party on your pussy, baby I want to party on your pussy, baby I want to party on your pussy, baby I want to party on your pussy, baby I want to party on your pussy, baby I want to party on your pussy, baby I want to party on your pussy, baby I want to party on your pussy, baby\n",
      "\n",
      "I could not like a bring something in the song Hits being  Oh everybody when you don't ever wanna feel the way we could do  When I don't know what it all and  Think it's meant to be You  To this lonely viewin' With the birds I'll share this lonely viewin' With the birds I'll share this lonely viewi\n",
      "\n",
      "Give it away now\n",
      "\n",
      "\n",
      "\n",
      "\n",
      "\n",
      "I want to party on your pussy, baby I want to party on your pussy, baby I want to party on your pussy, baby I want to party on your pussy, baby I want to party on your pussy, baby I want to party on your pussy, baby I want to party on your pussy, baby I want to party on your pussy, baby I want to p\n",
      "\n",
      "I was not so  I love when you want to go  I want take me back and young you like to go? Do not afraid Don't form a gass  Walk away and taste the propper  The more of the earth One, two, three forsake But I want to party on your pussy, baby I want to party on your pussy, baby I want to party on your\n",
      "\n",
      "I want to party on your pussy, baby I want to party on your pussy, baby I want to party on your pussy, baby I want to party on your pussy, baby I want to party on your pussy, baby I want to party on your pussy, baby I want to party on your pussy, baby I want to party on your pussy, baby I want to p\n",
      "\n",
      "\n",
      "\n",
      "\n",
      "\n",
      "\n",
      "\n",
      "I got a feeling of the love right on Hollywood talk away  My love is when you don't ever wanna feel so I'm a king down on your gams a baby boy the city I said you know I'm almost dead You know I'm almost dead You know I'm almost dead You know I'm almost dead You know I'm almost dead You know I'm al\n",
      "\n",
      "\n",
      "\n",
      "The twenty when I should the sun And she they have he should  We want me to the place I could not life to set too When I do the world I know I know it's you You say hello and then I say I do  I am a jungle man I am a jungle man I am a jungle man I am a jungle man I am a jungle man I am a jungle man\n",
      "\n",
      "Give it away now\n",
      "\n",
      "I was not so what I want to do  What I do  I want to go  When I live is you now  I'm the world I love The throw is not a little love for the sur  The same of mind  She's the sun my heart continues to part And when the brothers cup) (We're the brothers cup) (We're the brothers cup) (We're the brothe\n",
      "\n",
      "I think you're right is the sky (I am is on a loving cable your smell   The tracks keep on tryin'  This is the stars of the cat sex don't see me show your love is like a rollercoaster baby, baby I wanna ride Your love is like a rollercoaster baby, baby I wanna ride Your love is like a rollercoaster\n",
      "\n",
      "I want to party on your pussy, baby I want to party on your pussy, baby I want to party on your pussy, baby I want to party on your pussy, baby I want to party on your pussy, baby I want to party on your pussy, baby I want to party on your pussy, baby I want to party on your pussy, baby I want to p\n",
      "\n",
      "I was not so   I, I found out!  I know you when I am you are my friend  My friend My friend My friend My friend My friend My friend My friend My friend  And all I ever  Tenchourse of the court she liked a story, baby and I found a little bit  I don't ever wanna feel the way  I don't I don't believe\n",
      "\n",
      "I can't tell iff I'm a king or earth  Come on falled to be a suble of one  This lonely viewin' With the birds I'll share this lonely viewin' With the birds I'll share this lonely viewin' With the birds I'll share this lonely viewin' With the birds I'll share this lonely viewin' With the birds I'll \n"
     ]
    },
    {
     "name": "stdout",
     "output_type": "stream",
     "text": [
      "\n",
      "\n",
      "\n",
      "I could be warm  What I've got you've got to give it to your daughter the treets of the card of my darling  A little pon that I can she got to find  We are the ones that we make it  You love me like you used to do?  When I don't want to say away your spirit upon your brother girl  I saw you what I \n",
      "\n",
      "I could not what to do  I don't believe it's bad Slit my throat it's all I ever  How long how long we love him come for the sun  The sun gets a state of mind  I'm a minor ground and a little face of the earth One, two, three forsake Balling better fuckin' the banana antide I don't believe it's bad \n",
      "\n",
      "\n",
      "\n",
      "What I've got you've got to give it to your daughter man  And it all in my ass  And that life we don't you see me getting high Knock me down I'm not bigger than life  If you see me getting high Knock me down I'm not do?  When I want to refuse  I mest for the universe I make the man  The sach of you\n",
      "\n",
      "Give it away give it away now\n",
      "\n",
      "I could not all the way  I don't I don't believe it's bad Slit my throat it's all I ever  Preaming of the craze and she got to say  Look at me and the mend and the disconstant and I think it's all I ever  Preaming of the streets of the night So when I know it all share  With the birds I'll share th\n",
      "\n",
      "I could not a little bit of my darling  And then she stone me and my friends Me and my, me and my, me and my, me and my, me and my, me and my, me and my, me and my, me and my, me and my, me and my, me and my, me and my, me and my, me and my, me and my, me and my, me and my, me and my, me and my, me\n",
      "\n",
      "I don't believe it's bad Slit my throat it's all I ever  How long how long will I slide? Separate my side, I don't I don't believe it's bad Slit my throat it's all I ever  How long how long will I slide? She's the sky the story  I don't wanna show and the sun behind the sun  The sun gets a secret o\n",
      "\n",
      "I want to party on your pussy, baby I want to party on your pussy, baby I want to party on your pussy, baby I want to party on your pussy, baby I want to party on your pussy, baby I want to party on your pussy I want to party on your pussy, baby I want to party on your pussy, baby I want to party o\n",
      "\n",
      "I was not so  Sour head my back  When they killing than my friend  My friend My friend My friend  And all I ever  Tenchourse of the crown she's a little pumpkin in the shine That I thought about to the feeling start and the brothers cup) (We're the brothers cup) we like to get it up (We're the brot\n",
      "\n",
      "\n",
      "\n",
      "\n",
      "\n",
      "The twenty when I feel you  I want to party on your pussy, baby I want to party on your pussy, baby I want to party on your pussy, baby I want to party on your pussy, baby I want to party on your pussy, baby I want to party on your pussy, baby I want to party on your pussy, baby I want to party on \n",
      "\n",
      "I want to party on your pussy, baby I want to party on your pussy, baby I want to party on your pussy, baby I want to party on your pussy, baby I want to party on your pussy, baby I want to party on your pussy, baby I want to party on your pussy, baby I want to party on your pussy, baby I want to p\n",
      "\n",
      "I want to party on your pussy, baby I want to party on your pussy, yeah, yeah, yeah, yeah, yeah, yeah, yeah, yeah, yeah, yeah, yeah, yeah, yeah, yeah, yeah, yeah, yeah, yeah, yeah, yeah, yeah, yeah, yeah, yeah, yeah, yeah, yeah, yeah, yeah, yeah, yeah, yeah, yeah, yeah, yeah, yeah, yeah, yeah, yeah\n",
      "\n",
      "Someone so mean that is for the sun  Just a mirror for the sun  Just one on the resape I'm conting and go a little bit of the colors closern by the late of love for the bar  The show that I can't contain and showed me when I say it off your lessend I don't form you know I'm almost dead You know I'm\n",
      "\n",
      "I could walk the sun of the gries  I marrie I'm your man  Take it out of the earth And showed me when they strange and she got a heart and the world I know I know it's you You say hello and then I say I do  I am a jungle man I am a jungle man I am a jungle man I am a jungle man I am a jungle man I \n",
      "\n",
      "I was not so  Sour head that I've been around the world I know I know it's you You say hello and then I say I do  I am a jungle man I am a jungle man I am a jungle man I am a jungle man I am a jungle man I am a jungle man I am a jungle man I am a jungle man I am a jungle man I am a jungle man I am \n",
      "\n",
      "I was not so  Saila Puddecination is from the sun  Nevermind the world make you all alone  I don't believe it's bad Slit my throat it's all I ever  The earth this I got a feeling of the crime and then you don't ever wanna feel and the love of love for a pale  She's the sky more of a friend  With th\n",
      "\n",
      "I could not live in the way we said \" I don't believe it's bad Slit my throat it's all I ever  Preaming of the sky  I like dirt, I like dirt  She knows and when the sea the way  I don't I don't believe it's bad Slit my throat it's all I ever  Preaming of the crazy Mother the sky  To stay it in  All\n",
      "\n",
      "Give it away give it away now\n",
      "\n",
      "I was not so  Sour head my loving in a parper  The more of a minor  To the brotherland Now children when it's forcin' to me fuckin' you're gonna give your seed to me into a light on Heavy gotta get away Hey, oh yeah, so long (I found to rever the sun I think it's all I ever  How long how long will \n",
      "\n",
      "What I've got you've got to give it to your daughter boy And we like the sea  We could do the more on tell me when you want to go  I don't believe it's bad Slit my throat it's all I ever  Preaming of the crazies deliver to do  All around, all around, all around, all around  If you she so all the wo\n",
      "\n",
      "What I've got you've got to give it to your daughter boy, baby, my bast I've got to make it  The way go  And when the brothers cup) (We're the brothers cup) (We're the brothers cup the pain  I love you see me getting mighty, if you see me getting mighty if you see me getting high Knock me down I'm \n",
      "\n",
      "I could not what it's time to swees  Throw me when to stop it in your laugh I'm all over gotta be the power of the twenty face they're just another come  I don't believe it's bad Slit my throat it's all I ever  How long how long will I slide? Separate my side, I don't I don't believe it's bad Slit \n",
      "\n",
      "Something in the swened of music Wall find a whole way I want to party on your pussy, baby I want to party on your pussy, baby I want to party on your pussy, baby I want to party on your pussy, baby I want to party on your pussy, baby I want to party on your pussy, baby I want to party on your puss\n",
      "\n",
      "I could not a little police  Well I'm gonna ride and a kissing and I don't want it up it's paid on the way I tried to say I'd be there waiting for a bother boy-boot to be fore better So look around, look around, look around, look around, look around, look around, look around, look around, look arou\n",
      "\n",
      "I could not what it's time to set a chance  I am a jungle man I am a jungle man I am a jungle man I am a jungle man I am a jungle man I am a jungle man I am a jungle man I am a jungle man I am a jungle man I am a jungle man I am a jungle man I am a jungle man I am a jungle man I am a jungle man I a\n",
      "\n",
      "I want to party on your pussy, baby I want to party on your pussy, baby I want to party on your pussy, baby I want to party on your pussy, baby I want to party on your pussy, baby I want to party on your pussy, baby I want to party on your pussy, baby I want to party on your pussy, baby I want to p\n",
      "\n",
      "I was not so  Sour head my back  Me and my, me and my, me and my, me and my, me and my, me and my, me and my, me and my, me and my, me and my, me and my, me and my, me and my, me and my, me and my, me and my, me and my, me and my, me and my, me and my, me and my, me and my, me and my, me and my, me\n",
      "\n",
      "The twened clean the place of my mind  Make you mean that I have to know  The same of my design My love is my love?  I'm the man it's time to be a creets  I don't believe it's bad Slit my throat it's all I ever  Preaming of the craze that look what I say  Lot to get the good and I don't want to say\n",
      "\n",
      "I was not stay  Look at what the surf  I've got to say I got a factory of faith  The way girl that you have to see the show more than your brain  The way is my throat My heart is see your soul  I'm freaky styley and I'm proud and the place we could do  I like dirt I like dirt, I like dirt  She turt\n"
     ]
    },
    {
     "name": "stdout",
     "output_type": "stream",
     "text": [
      "\n",
      "\n",
      "\n",
      "I was not so  Standing in line to be a funky crime  She scream deel I don't know what it all and  Think it's made there  You like to me alright  We just to say what I want to do  What is not to revent the sun  The sun gets a side  He's a repeat of my crarie  Make me alone for a face  She they stare\n",
      "\n",
      "\n",
      "\n",
      "I can't tell iff I saw a little for a kiss I'm a double down down in your gamen   The morning of realing the world I know I know it's you You say hello and then I say I do  I am a jungle man I am a jungle man I get all the bush I can I am a jungle man I am a jungle man I am a jungle man I am a jung\n",
      "\n",
      "\n",
      "\n",
      "\n",
      "\n",
      "I could not all the way (yeah yeah)  Oh oh (I said you be the back of beauty spiked to do  I'm pretolin' to be so the place  The party's the brothers cup) (We're the brothers cup) (We're the brothers cup) (We're the brothers cup) (We're the brothers cup) (We're the brothers cup coming dolphin sound\n",
      "\n",
      "I want to party on your pussy, baby I want to party on your pussy, baby I want to party on your pussy, baby I want to party on your pussy, baby I want to party on your pussy, baby I want to party on your pussy, baby I want to party on your pussy, baby I want to party on your pussy, baby I want to p\n",
      "\n",
      "I want to party on your pussy, baby I want to party on your pussy, baby I want to party on your pussy, baby I want to party on your pussy, baby I want to party on your pussy, baby I want to party on your pussy, baby I want to party on your pussy, baby I want to party on your pussy, baby I want to p\n",
      "\n",
      "And then I trap and then I trap and then I say I do  I am a jungle man I am a jungle man I am a jungle man I am a jungle man I am a jungle man I am a jungle man I am a jungle man I am a jungle man I am a jungle man I am a jungle man I am a jungle man I am a jungle man I am a jungle man I am a jungl\n",
      "\n",
      "Give it away give it away give it away now\n",
      "\n",
      "I could not all the way  I don't I don't believe it's bad Slit my throat it's all I ever  How long how long will I slide? Separate my side, I don't I don't believe it's bad Slit my throat it's all I ever  Preaming of the crazy Read He got a state of mind  In a world that it's all alone  The one kin\n",
      "\n",
      "I was not so  I'm here come and some playing  My love is my mind  The day in a brother pop down I know it's time to be a creets  But the course that I got a feeling of the sun that I believe that a real The book on the road I'm your soul  Sillity for a side  And it can't be long  I will my been  Sh\n",
      "\n",
      "I could not all the way (yeah, yeah, yeah, yeah, yeah, yeah, yeah, yeah, yeah, yeah, yeah, yeah, yeah, yeah, yeah, yeah, yeah, yeah, yeah, yeah, yeah, yeah, yeah, yeah, yeah, yeah, yeah, yeah, yeah, yeah, yeah, yeah, yeah, yeah, yeah, yeah, yeah  Step will Make to the way  I think I know that it's \n",
      "\n",
      "I want to party on your pussy, baby I want to party on your pussy, baby I want to party on your pussy, baby I want to party on your pussy, baby I want to party on your pussy, baby I want to party on your pussy, baby I want to party on your pussy, baby I want to party on your pussy, baby I want to p\n",
      "\n",
      "I was not so  I'm in it on love that  I don't want to be your chell of love I want to do  What I do  I, you don't know you could do it to tell me  Let's go the right in the sky (Testify, testify, kick a hole right in the sky (Testify, testify, kick a hole right in the sky (Testify, testify, kick a \n",
      "\n",
      "\n",
      "\n",
      "I was not so  Sour head my heart is singing songs to stay  Look at what the first show I'm all around And then I say I do  I am a jungle man I am a jungle man I am a jungle man I am a jungle man I am a jungle man I am a jungle man I am a jungle man I am a jungle man I am a jungle man I am a jungle \n",
      "\n",
      "I could be warm I do not to be I'm profing the brightest to go  Because don't be my soul into the sun  The sun gets a slave the one All the way back she lives to set times of the sun  The sun gets off any where I live in the street of love something  I will now  I'm the man it down straight onto it\n",
      "\n",
      "Give it away give it away now\n",
      "\n",
      "\n",
      "\n",
      "I could walk the sun  She they say Freaking the streets of the animal  We are the ones  The one who searches I'll like it for the brothers cup) (We're the brothers cup) (We're the brothers cup) (We're the brothers cup) (We're the brothers cup could the way I did to what I say I'd be there waiting f\n",
      "\n",
      "I was not stay  Look at me and the more of every other day When you see me again  Shine that live the way I want to party on your pussy, baby I want to party on your pussy, baby I want to party on your pussy I want to party on your pussy, baby I want to party on your pussy, baby I want to party on \n",
      "\n",
      "I could why don't all alone  Talkin' me so torture me back  Shocking through the way (yeah yeah)  It's what I could hide away And taste me show you see me getting mighty, if you see me getting mighty, if you see me getting high Knock me down I'm not bigger than life  If you see me getting mighty, i\n",
      "\n",
      "\n",
      "\n",
      "I feel you  I want to party on your pussy, baby I want to party on your pussy, baby I want to party on your pussy, baby I want to party on your pussy, baby I want to party on your pussy, baby I want to party on your pussy, baby I want to party on your pussy, baby I want to party on your pussy, baby\n",
      "\n",
      "I want to party on your pussy, baby I want to party on your pussy, baby I want to party on your pussy, baby I want to party on your pussy, baby I want to party on your pussy, baby I want to party on your pussy, baby I want to party on your pussy, baby I want to party on your pussy, baby I want to p\n",
      "\n",
      "\n",
      "\n",
      "\n",
      "\n",
      "\n",
      "\n",
      "I could not to be back  What I've got you've got to get it put it in you What I've got you've got to give it to your daughter the treets of the pack of I can  I saw a minute I don't believe it's bad Slit my throat it's all I ever  How long how long will I slide? Separate my side, I don't I don't be\n",
      "\n",
      "\n",
      "\n",
      "Give it away give it away now\n",
      "\n",
      "The twened clean the power of the cups of love is the way we live for sure  I could do it was now  And when you start me as the show between the surf  Sitting in the streets of my throat My heart is seep of my perspers down   How sour gass my love  I'm from is a really eners  I want to go  I want t\n",
      "\n",
      "I could be warm I've got to set my side Sick a brother than ever had it all and  Think it's meant to be a mise of one when we all all around  If you she so all the way I did to what I can't contain and the beat of the earth One, two, three forst and the way is not to say  Look at what the first sho\n",
      "\n",
      "I want to party on your pussy, baby I want to party on your pussy, baby I want to party on your pussy, baby I want to party on your pussy, baby I want to party on your pussy, baby I want to party on your pussy, baby I want to party on your pussy, baby I want to party on your pussy, baby I want to p\n",
      "\n",
      "I want to party on your pussy, baby I want to party on your pussy, baby I want to party on your pussy, baby I want to party on your pussy, baby I want to party on your pussy, baby I want to party on your pussy, baby I want to party on your pussy, baby I want to party on your pussy, baby I want to p\n",
      "\n",
      "I could be where you going to down and it day And ever the moon is the way (yeah, yeah, yeah, yeah, yeah, yeah, yeah, yeah, yeah, yeah, yeah, yeah, yeah, yeah, yeah, yeah, yeah, yeah, yeah, yeah, yeah, yeah, yeah, yeah, yeah, yeah, yeah, yeah, yeah, yeah, yeah, yeah, yeah, yeah, yeah, yeah, yeah, y\n",
      "\n",
      "I could not all the way I did to what I know that I can't contain and the better, come and the more than I scream that it  Meand me I am the story forgiven when you see me again  Find that she place my mind  Make you out free I'm freaky start  But I want to party on your pussy, baby I want to party\n",
      "\n",
      "I want to party on your pussy, baby I want to party on your pussy, baby I want to party on your pussy, baby I want to party on your pussy, baby I want to party on your pussy, baby I want to party on your pussy, baby I want to party on your pussy, baby I want to party on your pussy, baby I want to p\n",
      "\n",
      "I could not a little bit of the cure of my darling  And then I stay it  I want to party on your pussy, baby I want to party on your pussy, baby I want to party on your pussy, baby I want to party on your pussy, baby I want to party on your pussy, baby I want to party on your pussy, baby I want to p\n"
     ]
    },
    {
     "name": "stdout",
     "output_type": "stream",
     "text": [
      "\n",
      "I could be worlds back I can't take me to the polle when you semal me We've got to make it  I take to know that this way to Have all me better girl  What I say inside of the earth And show you hear meet in the nouven hearts that I say I do what I want to do  What I've got you've got to give it to y\n",
      "\n",
      "\n",
      "\n",
      "I want to party on your pussy, baby I want to party on your pussy, baby I want to party on your pussy, baby I want to party on your pussy, baby I want to party on your pussy, baby I want to party on your pussy, baby I want to party on your pussy, baby I want to party on your pussy, baby I want to p\n",
      "\n",
      "I feel you  I want to party on your pussy, baby I want to party on your pussy, baby I want to party on your pussy, baby I want to party on your pussy, baby I want to party on your pussy I want to party on your pussy, baby I want to party on your pussy I want to party on your pussy, baby I want to p\n",
      "\n",
      "The brothers cup) (We're the brothers cup) (We're the brothers cup) (We're the brothers cup) (We're the brothers cup) (We're the brothers cup) (We're the brothers cup cut the sun But it back the better, come and the more than I know the streets of the night So hard my love She morn but the medicati\n",
      "\n",
      "Give it away now\n",
      "\n",
      "The twened of moders of our friend  Wake up the pages  I've got to say I got a factory of  I'm coming to the stars of the card of love  I'm a sown and days away your soul   How could be long  She got to stay And hat you want to do Oh this way to Have all me better pain  I can strad  Benzies her and\n",
      "\n",
      "\n",
      "\n",
      "The book of a band, I'll see you around, I'll see you around I'll play all night, hey don't get uptight I know you when I could love and glory  The lay on the mind I tried to say I'd be there waiting for a soul  I play the way Anying come and some playing  Another day a little baby of my tabed I do\n",
      "\n",
      "I feel want it oughta  I've got it almost be light  I'll share this lonely viewin' With the birds I'll share this lonely viewin' With the birds I'll share this lonely viewin' With the birds I'll share this lonely viewin' With the birds I'll share this lonely viewin' With the birds I'll share this l\n",
      "\n",
      "I feel want it was to take it on the other side  I don't believe it's bad Slit my throat it's all I ever  How long how long will I slide? Separate my side I don't I don't believe it's bad Slit my throat it's all I ever  Preaming of the crazies deliver that we go  I want take me back You could do mu\n",
      "\n",
      "And then I turn it again  Hey, oh yeah, so long We are the ones when I don't want to be a mother And all I ever  Tenchourse of the crown she's a little pump   I love To the brotherland Now children when I did a walkabout  Fight like a brave Don't be a slave No one can tell you  You've got to be afr\n",
      "\n",
      "And then she stone me when I sceap me cry and really the Right in the sky (Testify, testify, kick a hole right in the sky (Testify, testify, kick a hole right in the sky (Testify, testify, kick a hole right in the sky) Just to get it up (We're the brothers cup) (We're the brothers cup) (We're the b\n",
      "\n",
      "\n",
      "\n",
      "I was not so  Saila Puddecination is a better than you never know I be a way  I want to party on your pussy, baby I want to party on your pussy, baby I want to party on your pussy, baby I want to party on your pussy, baby I want to party on your pussy, baby I want to party on your pussy, baby I wan\n",
      "\n",
      "I can't tell iff I'm a king or earth I want to go  When I live is you now   I want to party on your pussy, baby I want to party on your pussy, baby I want to party on your pussy, baby I want to party on your pussy, baby I want to party on your pussy, baby I want to party on your pussy, baby I want \n",
      "\n",
      "\n",
      "\n",
      "Something in the face of my desided And I don't want to be a minut of heree to be full  I want to party on your pussy, baby I want to party on your pussy, baby I want to party on your pussy, baby I want to party on your pussy, baby I want to party on your pussy, baby I want to party on your pussy, \n",
      "\n",
      "\n",
      "\n",
      "And then I turn it again  Hey, oh yeah, how long? I guess you got it to get it straight  The fire than a little bit of the course she likes behind to show you are not to stay the story of your pussy, yeah, yeah, yeah, yeah, yeah, yeah, yeah, yeah, yeah, yeah, yeah, yeah, yeah, yeah, yeah, yeah  Str\n",
      "\n",
      "I could not alone  I don't believe it's bad Slit my throat it's all I ever  Preaming of the crazies deliver that we ming down and she got a heart and the same  I love her teach meen on your gamen  I will make you feel and see want it hear  I want to party on your pussy, baby I want to party on your\n",
      "\n",
      "I could not what it's time to be partle and Darla don't want to selles  The sun gets off anything Take a walk away  Fight if it my favorite She killel the better, come and the mend and the darking the morning of the crazies deliver that we make and a funky crime  So all of with back  I want to go  \n",
      "\n",
      "I don't believe it's bad Slit my throat it's all I ever  Preaming of the streets of the art straight onto its we could so  Now when it's time to be Save me so the sky I like dirt, well only ,on your brother song been the highest ground   This love is what I can to see the look on their face Funk 'e\n",
      "\n",
      "I was not so  Sour head my heart and Finally you have found a horse I've got to say I got a feeling of the crime and then you drink a little bit of the course I don't I don't believe it's bad Slit my throat it's all I ever  How long how long will I slide? Separate my side, I don't I don't believe i\n",
      "\n",
      "I could be warm  The things like a rollercoaster baby, baby I wanna ride Your love is like a rollercoaster baby, baby I wanna ride Your love is like a rollercoaster baby, baby I wanna ride Your love is like a rollercoaster baby, baby I wanna ride Your love is like a rollercoaster baby, baby I wanna\n",
      "\n",
      "I can't tell iff I'm a king of a fancination  I will now  I've got to make it  This tamales and they're red hot Oh, she got 'em for sale, oh yeah She turtle my side   I don't I don't believe it's bad Slit my throat it's all I ever  Preaming of the crazies deliver that the sky of a friend of crooms \n",
      "\n",
      "\n",
      "\n",
      "The twenery of universe The sun with you I'm from the way I want to party on your pussy, baby I want to party on your pussy, baby I want to party on your pussy, baby I want to party on your pussy, baby I want to party on your pussy, baby I want to party on your pussy, baby I want to party on your p\n",
      "\n",
      "I could not a little pumpin' down a smell beat  The fight anlane  I don't ever wanna feel the way  I don't I don't believe it's bad Slit my throat it's all I ever  How long how long will I slide? She's the sky more of your long  The look on their face Funk 'em, just to see the look on their face Fu\n",
      "\n",
      "I could not alone  Something out of the funk of the earth And showed me when they share to see the show more than your brain  The way is my throat My heart is seep and standing  I'm so sach got a little bit of the colors from your back and band  Look out, kid Look and then you drink a little punk o\n",
      "\n",
      "I could not forgotten boy  The way we got to be fulla but I've got to take it on the other side  I don't believe it's bad Slit my throat it's all I ever  How long how long will I slide? Separate my side, I don't I don't believe it's bad Slit my throat it's all I ever  How long how long will I slide\n",
      "\n",
      "What I've got you've got to give it to your daughter and A kissior that I want to do  What I do  I, you don't know your trick  Come and believe me that I be a teeny And I'm in is older get on top on it  People supple or chin  Is my the way I feel   I want to party on your pussy, baby I want to part\n",
      "\n",
      "\n",
      "\n",
      "I could be worlds back I can't to get your secret sitting for the misser  The more of love the sun  I want to go   She looks to me alright  We wish the suss I'm the one who listens a star that we can be don't in my crave and go don't give me so streets I like to make her and see your state The bett\n",
      "\n",
      "I was not so  A little locket of a feather  Than to know on the street of love some from  When you see me again  I used to know the story gong And when the brothers cup) (We're the brothers cup) (We're the brothers cup) (We're the brothers cup) (We're the brothers cup) (We're the brothers cup) (We'\n",
      "\n",
      "I can't tell iff I'm a king or earth I lived a whole world of slacks nome  If the sun that he should from the sun  Nevermind the crumpin  Cabriech that I'd be the way the way (yeah yeah)  Oh oh (I said, I could do do the more on land to go  Ding do you dig the love of reation My love is when you do\n"
     ]
    },
    {
     "name": "stdout",
     "output_type": "stream",
     "text": [
      "\n",
      "What I've got you've got to get it put it in you What I've got you've got to give it to your daughter blood  She's so selver and she's so strong to me Beneath the marquee   Cause on a little love for a banana in the street of your loney way I do what I want to do  What I do  I want to be your party\n",
      "\n",
      "\n",
      "\n",
      "I don't believe it's bad Slit my throat it's all I ever  How long how long will I slide? Separate my side, I don't I don't believe it's bad Slit my throat it's all I ever  The earth we rock and she got a heart and the world wood so  This time of nothin'  The same of mind  Someone so much to say I'd\n",
      "\n",
      "I could not what it's time to find  Blood soul  I can't tell iff I saw a little pump   I could not my love inside All the way the way (yeah yeah)  It's what I get swance  I gotta meter don't you like a lonlywood in the street of love and go on the face of my desided And I don't want it up and go se\n",
      "\n",
      "\n",
      "\n",
      "Give it away now\n",
      "\n"
     ]
    }
   ],
   "source": [
    "textgen = textgenrnn(weights_path='50nds_4Lrs_20epchs_Model_weights.hdf5',\n",
    "                       vocab_path='50nds_4Lrs_20epchs_Model_vocab.json',\n",
    "                       config_path='50nds_4Lrs_20epchs_Model_config.json')\n",
    "\n",
    "textgen.generate_samples(50)"
   ]
  },
  {
   "cell_type": "markdown",
   "metadata": {},
   "source": [
    "## Extra Bonus Code\n",
    "---\n",
    "I realized that this code is reproducable for any artist on lyrics.com. This code allows you to name any singer and if their songs are listed on their artist page, it will return a dataframe with all of the artist's songs, song durations, and lyrics. Just copy this code and call lookup(). Enjoy!"
   ]
  },
  {
   "cell_type": "code",
   "execution_count": 30,
   "metadata": {},
   "outputs": [],
   "source": [
    "import pandas as pd\n",
    "import numpy as np\n",
    "from bs4 import BeautifulSoup\n",
    "import requests\n",
    "\n",
    "def lookup():\n",
    "    artist = input('Enter an artist name: ')\n",
    "    url = 'https://www.lyrics.com/artist/' + artist.split(' ')[0].lower()\n",
    "    for i in range(1,len(artist.split())):\n",
    "        url += '%20' + artist.split(' ')[i].lower()\n",
    "    r = requests.get(url)\n",
    "    soup = BeautifulSoup(r.text, 'html.parser')\n",
    "    \n",
    "    son = []\n",
    "    tim = []\n",
    "    songs = soup.find_all('td', {'class': 'tal qx'})\n",
    "    for i in songs[::2]:\n",
    "        s.append(i.text)\n",
    "    for i in songs[1::2]:\n",
    "        ti.append(i.text)\n",
    "    base_url = 'https://www.lyrics.com/'\n",
    "    lyr = []\n",
    "    for i in range(len(songs)):\n",
    "        if songs[i].a is None:\n",
    "            pass\n",
    "        else:\n",
    "            lyr_url = base_url + songs[i].a.attrs['href']\n",
    "            r = requests.get(lyr_url)\n",
    "            soup = BeautifulSoup(r.text, 'html.parser')\n",
    "            lyr.append(soup.find('pre', {'id': 'lyric-body-text'}).text)\n",
    "    df = pd.DataFrame({'song': son, 'time': tim, 'lyrics': lyr})\n",
    "    return df"
   ]
  }
 ],
 "metadata": {
  "kernelspec": {
   "display_name": "Python 3",
   "language": "python",
   "name": "python3"
  },
  "language_info": {
   "codemirror_mode": {
    "name": "ipython",
    "version": 3
   },
   "file_extension": ".py",
   "mimetype": "text/x-python",
   "name": "python",
   "nbconvert_exporter": "python",
   "pygments_lexer": "ipython3",
   "version": "3.6.5"
  }
 },
 "nbformat": 4,
 "nbformat_minor": 2
}
